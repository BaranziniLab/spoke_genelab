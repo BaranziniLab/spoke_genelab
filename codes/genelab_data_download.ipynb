{
 "cells": [
  {
   "cell_type": "code",
   "execution_count": 1,
   "id": "279c16bb-c094-4060-948b-dc8f7cb73f04",
   "metadata": {},
   "outputs": [],
   "source": [
    "import pandas as pd\n",
    "import os\n",
    "from tqdm import tqdm\n"
   ]
  },
  {
   "cell_type": "code",
   "execution_count": 2,
   "id": "194e4d70-4aad-4346-8e9f-67ae8e62b466",
   "metadata": {},
   "outputs": [],
   "source": [
    "# DATA_PATH = '../data/20240131-file-urls.csv'\n",
    "DATA_PATH = '../data/20240131_file_urls_with_selected_study_ids.csv'\n",
    "DATA_SAVE_PATH = '../data/genelab_data_in_csv_format.pickle'\n"
   ]
  },
  {
   "cell_type": "markdown",
   "id": "3c0b429b-9b86-49e2-962a-4a89ddb0c4bf",
   "metadata": {},
   "source": [
    "## Reading data file with URLs associated with it"
   ]
  },
  {
   "cell_type": "code",
   "execution_count": 3,
   "id": "774e9678-2a31-41a0-b0b6-559bc633d544",
   "metadata": {},
   "outputs": [],
   "source": [
    "data = pd.read_csv(DATA_PATH)"
   ]
  },
  {
   "cell_type": "markdown",
   "id": "b4a84de1-719c-4bf9-b29d-5cc5567384a8",
   "metadata": {},
   "source": [
    "## Selecting rows with URLs which has data in csv format"
   ]
  },
  {
   "cell_type": "code",
   "execution_count": 14,
   "id": "09120ea3-6b86-4f20-886b-18830f30d7f9",
   "metadata": {},
   "outputs": [
    {
     "name": "stdout",
     "output_type": "stream",
     "text": [
      "CPU times: user 927 ms, sys: 5.38 ms, total: 932 ms\n",
      "Wall time: 930 ms\n"
     ]
    },
    {
     "name": "stderr",
     "output_type": "stream",
     "text": [
      "<timed exec>:8: SettingWithCopyWarning: \n",
      "A value is trying to be set on a copy of a slice from a DataFrame\n",
      "\n",
      "See the caveats in the documentation: https://pandas.pydata.org/pandas-docs/stable/user_guide/indexing.html#returning-a-view-versus-a-copy\n"
     ]
    }
   ],
   "source": [
    "%%time\n",
    "\n",
    "row_index_with_csv = []\n",
    "for row_index in range(data.shape[0]):\n",
    "    if '.csv' in data.iloc[row_index].url:\n",
    "        row_index_with_csv.append(row_index)\n",
    "\n",
    "data_in_csv_format = data.iloc[row_index_with_csv]\n",
    "    \n",
    "data_in_csv_format.drop_duplicates(subset=['url'], inplace=True)\n",
    "\n",
    "data_in_csv_format = data_in_csv_format[data_in_csv_format.url.str.contains('differential_expression.csv')]\n",
    "data_in_csv_format = data_in_csv_format.dropna(subset=['datatype'])\n"
   ]
  },
  {
   "cell_type": "code",
   "execution_count": 15,
   "id": "d09f0ce8",
   "metadata": {},
   "outputs": [
    {
     "data": {
      "text/plain": [
       "array(['GeneLab Processed RNA-Seq Files',\n",
       "       'GeneLab Processed Microarray Data Files'], dtype=object)"
      ]
     },
     "execution_count": 15,
     "metadata": {},
     "output_type": "execute_result"
    }
   ],
   "source": [
    "\n",
    "# data_downloaded = pd.read_csv(data_in_csv_format.iloc[row_index].url)\n",
    "\n",
    "\n",
    "data_in_csv_format.category.unique()"
   ]
  },
  {
   "cell_type": "markdown",
   "id": "58fbe41a-4518-4bd4-82fb-b4bb3f6a8fdd",
   "metadata": {},
   "source": [
    "## Downloading data"
   ]
  },
  {
   "cell_type": "code",
   "execution_count": 16,
   "id": "1f3303de-b881-467c-8705-468ae0cf9686",
   "metadata": {},
   "outputs": [
    {
     "name": "stderr",
     "output_type": "stream",
     "text": [
      "  4%|█▊                                          | 3/74 [00:14<05:10,  4.38s/it]<timed exec>:4: DtypeWarning: Columns (1,2,3,4,5,6) have mixed types. Specify dtype option on import or set low_memory=False.\n",
      "  7%|██▉                                         | 5/74 [00:51<13:14, 11.52s/it]<timed exec>:4: DtypeWarning: Columns (0,1,2,3,4,5,6) have mixed types. Specify dtype option on import or set low_memory=False.\n",
      "  8%|███▍                                      | 6/74 [03:27<1:08:24, 60.36s/it]<timed exec>:4: DtypeWarning: Columns (5) have mixed types. Specify dtype option on import or set low_memory=False.\n",
      "  9%|████▏                                       | 7/74 [03:39<49:58, 44.75s/it]<timed exec>:4: DtypeWarning: Columns (5) have mixed types. Specify dtype option on import or set low_memory=False.\n",
      " 14%|█████▊                                     | 10/74 [04:11<21:37, 20.27s/it]<timed exec>:4: DtypeWarning: Columns (5) have mixed types. Specify dtype option on import or set low_memory=False.\n",
      " 15%|██████▍                                    | 11/74 [04:49<26:53, 25.60s/it]<timed exec>:4: DtypeWarning: Columns (5) have mixed types. Specify dtype option on import or set low_memory=False.\n",
      " 18%|███████▌                                   | 13/74 [05:46<26:26, 26.01s/it]<timed exec>:4: DtypeWarning: Columns (5) have mixed types. Specify dtype option on import or set low_memory=False.\n",
      " 19%|████████▏                                  | 14/74 [06:01<22:33, 22.56s/it]<timed exec>:4: DtypeWarning: Columns (4,5) have mixed types. Specify dtype option on import or set low_memory=False.\n",
      " 23%|█████████▉                                 | 17/74 [06:18<10:39, 11.22s/it]<timed exec>:4: DtypeWarning: Columns (5) have mixed types. Specify dtype option on import or set low_memory=False.\n",
      " 26%|███████████                                | 19/74 [06:46<10:45, 11.73s/it]<timed exec>:4: DtypeWarning: Columns (0,1,2,3,4,6) have mixed types. Specify dtype option on import or set low_memory=False.\n",
      " 35%|███████████████                            | 26/74 [07:18<04:11,  5.24s/it]<timed exec>:4: DtypeWarning: Columns (0,1,2,3,4,5,6) have mixed types. Specify dtype option on import or set low_memory=False.\n",
      " 42%|██████████████████                         | 31/74 [07:54<04:12,  5.87s/it]<timed exec>:4: DtypeWarning: Columns (4,5,6) have mixed types. Specify dtype option on import or set low_memory=False.\n",
      " 43%|██████████████████▌                        | 32/74 [08:00<04:05,  5.84s/it]<timed exec>:4: DtypeWarning: Columns (4,5,6) have mixed types. Specify dtype option on import or set low_memory=False.\n",
      " 46%|███████████████████▊                       | 34/74 [08:12<03:47,  5.68s/it]<timed exec>:4: DtypeWarning: Columns (5) have mixed types. Specify dtype option on import or set low_memory=False.\n",
      " 47%|████████████████████▎                      | 35/74 [08:21<04:26,  6.84s/it]<timed exec>:4: DtypeWarning: Columns (5) have mixed types. Specify dtype option on import or set low_memory=False.\n",
      " 49%|████████████████████▉                      | 36/74 [08:50<08:23, 13.26s/it]<timed exec>:4: DtypeWarning: Columns (5) have mixed types. Specify dtype option on import or set low_memory=False.\n",
      " 55%|███████████████████████▊                   | 41/74 [09:19<03:37,  6.58s/it]<timed exec>:4: DtypeWarning: Columns (0,1,2,3,4,5,6) have mixed types. Specify dtype option on import or set low_memory=False.\n",
      " 62%|██████████████████████████▋                | 46/74 [10:04<02:49,  6.07s/it]<timed exec>:4: DtypeWarning: Columns (4,5) have mixed types. Specify dtype option on import or set low_memory=False.\n",
      " 66%|████████████████████████████▍              | 49/74 [10:19<02:02,  4.92s/it]<timed exec>:4: DtypeWarning: Columns (1,2,3,4,5,6) have mixed types. Specify dtype option on import or set low_memory=False.\n",
      " 68%|█████████████████████████████              | 50/74 [13:21<23:12, 58.02s/it]<timed exec>:4: DtypeWarning: Columns (0,1,2,3,4,5,6) have mixed types. Specify dtype option on import or set low_memory=False.\n",
      " 73%|███████████████████████████████▍           | 54/74 [13:40<05:39, 16.96s/it]<timed exec>:4: DtypeWarning: Columns (5) have mixed types. Specify dtype option on import or set low_memory=False.\n",
      " 74%|███████████████████████████████▉           | 55/74 [13:45<04:18, 13.59s/it]<timed exec>:4: DtypeWarning: Columns (4,5) have mixed types. Specify dtype option on import or set low_memory=False.\n",
      " 76%|████████████████████████████████▌          | 56/74 [13:48<03:05, 10.31s/it]<timed exec>:4: DtypeWarning: Columns (5) have mixed types. Specify dtype option on import or set low_memory=False.\n",
      " 77%|█████████████████████████████████          | 57/74 [13:58<02:52, 10.15s/it]<timed exec>:4: DtypeWarning: Columns (5) have mixed types. Specify dtype option on import or set low_memory=False.\n",
      " 78%|█████████████████████████████████▋         | 58/74 [14:01<02:11,  8.24s/it]<timed exec>:4: DtypeWarning: Columns (4,5,6) have mixed types. Specify dtype option on import or set low_memory=False.\n",
      " 81%|██████████████████████████████████▊        | 60/74 [14:14<01:37,  6.98s/it]<timed exec>:4: DtypeWarning: Columns (0,1,2,3,4,5,6) have mixed types. Specify dtype option on import or set low_memory=False.\n",
      " 84%|████████████████████████████████████       | 62/74 [14:25<01:13,  6.11s/it]<timed exec>:4: DtypeWarning: Columns (0,1,2,3,4,5,6) have mixed types. Specify dtype option on import or set low_memory=False.\n",
      " 85%|████████████████████████████████████▌      | 63/74 [14:34<01:15,  6.85s/it]<timed exec>:4: DtypeWarning: Columns (0,1,2,3,4,5,6) have mixed types. Specify dtype option on import or set low_memory=False.\n",
      " 86%|█████████████████████████████████████▏     | 64/74 [14:40<01:08,  6.85s/it]<timed exec>:4: DtypeWarning: Columns (5) have mixed types. Specify dtype option on import or set low_memory=False.\n",
      " 88%|█████████████████████████████████████▊     | 65/74 [14:58<01:30, 10.06s/it]<timed exec>:4: DtypeWarning: Columns (4) have mixed types. Specify dtype option on import or set low_memory=False.\n",
      " 89%|██████████████████████████████████████▎    | 66/74 [15:02<01:05,  8.23s/it]<timed exec>:4: DtypeWarning: Columns (0,1,2,3,4,5,6) have mixed types. Specify dtype option on import or set low_memory=False.\n",
      " 93%|████████████████████████████████████████   | 69/74 [15:18<00:31,  6.29s/it]<timed exec>:4: DtypeWarning: Columns (4,5) have mixed types. Specify dtype option on import or set low_memory=False.\n",
      " 95%|████████████████████████████████████████▋  | 70/74 [15:27<00:27,  6.82s/it]<timed exec>:4: DtypeWarning: Columns (5) have mixed types. Specify dtype option on import or set low_memory=False.\n",
      " 96%|█████████████████████████████████████████▎ | 71/74 [15:42<00:27,  9.29s/it]<timed exec>:4: DtypeWarning: Columns (0,1,2,3,5,6) have mixed types. Specify dtype option on import or set low_memory=False.\n",
      " 99%|██████████████████████████████████████████▍| 73/74 [18:09<00:36, 36.02s/it]<timed exec>:4: DtypeWarning: Columns (5) have mixed types. Specify dtype option on import or set low_memory=False.\n",
      "100%|███████████████████████████████████████████| 74/74 [18:16<00:00, 14.82s/it]"
     ]
    },
    {
     "name": "stdout",
     "output_type": "stream",
     "text": [
      "CPU times: user 2min 15s, sys: 2min 14s, total: 4min 29s\n",
      "Wall time: 18min 16s\n"
     ]
    },
    {
     "name": "stderr",
     "output_type": "stream",
     "text": [
      "\n"
     ]
    }
   ],
   "source": [
    "%%time\n",
    "\n",
    "data_list = []\n",
    "for row_index in tqdm(range(data_in_csv_format.shape[0])):\n",
    "    data_dict = data_in_csv_format.iloc[row_index].to_dict()\n",
    "    data_downloaded = pd.read_csv(data_in_csv_format.iloc[row_index].url)\n",
    "    data_package = {\n",
    "        'metadata' : data_dict,\n",
    "        'data' : data_downloaded\n",
    "    }\n",
    "    data_list.append(data_package)\n"
   ]
  },
  {
   "cell_type": "code",
   "execution_count": 17,
   "id": "23209874",
   "metadata": {},
   "outputs": [
    {
     "name": "stdout",
     "output_type": "stream",
     "text": [
      "CPU times: user 2.71 s, sys: 5.41 s, total: 8.12 s\n",
      "Wall time: 13.9 s\n"
     ]
    }
   ],
   "source": [
    "%%time\n",
    "\n",
    "import pickle\n",
    "\n",
    "\n",
    "\n",
    "with open(DATA_SAVE_PATH, 'wb') as f:\n",
    "    pickle.dump(data_list, f)\n",
    "    "
   ]
  },
  {
   "cell_type": "code",
   "execution_count": null,
   "id": "318c3d39",
   "metadata": {},
   "outputs": [],
   "source": []
  }
 ],
 "metadata": {
  "kernelspec": {
   "display_name": "Python 3 (ipykernel)",
   "language": "python",
   "name": "python3"
  },
  "language_info": {
   "codemirror_mode": {
    "name": "ipython",
    "version": 3
   },
   "file_extension": ".py",
   "mimetype": "text/x-python",
   "name": "python",
   "nbconvert_exporter": "python",
   "pygments_lexer": "ipython3",
   "version": "3.10.9"
  }
 },
 "nbformat": 4,
 "nbformat_minor": 5
}
