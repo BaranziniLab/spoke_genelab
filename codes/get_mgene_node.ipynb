{
 "cells": [
  {
   "cell_type": "code",
   "execution_count": 1,
   "id": "34da7a66",
   "metadata": {
    "execution": {
     "iopub.execute_input": "2024-03-10T07:25:21.902730Z",
     "iopub.status.busy": "2024-03-10T07:25:21.902301Z",
     "iopub.status.idle": "2024-03-10T07:25:22.755750Z",
     "shell.execute_reply": "2024-03-10T07:25:22.755410Z"
    }
   },
   "outputs": [],
   "source": [
    "import pickle\n",
    "import pandas as pd\n",
    "\n",
    "import numpy as np\n",
    "import os\n",
    "from ete3 import NCBITaxa\n",
    "\n",
    "import ortholog_mapper\n",
    "from dotenv import load_dotenv\n",
    "from datetime import datetime\n",
    "\n",
    "import ast\n",
    "from tqdm import tqdm\n",
    "\n",
    "from IPython.display import clear_output\n",
    "\n"
   ]
  },
  {
   "cell_type": "code",
   "execution_count": 2,
   "id": "62816241",
   "metadata": {
    "execution": {
     "iopub.execute_input": "2024-03-10T07:25:22.757803Z",
     "iopub.status.busy": "2024-03-10T07:25:22.757623Z",
     "iopub.status.idle": "2024-03-10T07:25:22.759627Z",
     "shell.execute_reply": "2024-03-10T07:25:22.759353Z"
    }
   },
   "outputs": [],
   "source": [
    "\n",
    "\n",
    "PARENT_DATA_PATH = '../data'\n",
    "DATA_PATH = '../data/genelab_data_in_csv_format.pickle'\n",
    "FILENAME = '20231220.csv'\n",
    "\n"
   ]
  },
  {
   "cell_type": "code",
   "execution_count": 3,
   "id": "37a0e9f6",
   "metadata": {
    "execution": {
     "iopub.execute_input": "2024-03-10T07:25:22.761227Z",
     "iopub.status.busy": "2024-03-10T07:25:22.761106Z",
     "iopub.status.idle": "2024-03-10T07:25:22.764347Z",
     "shell.execute_reply": "2024-03-10T07:25:22.764089Z"
    }
   },
   "outputs": [],
   "source": [
    "load_dotenv('../.env')\n",
    "\n",
    "NEO4J_DATA = os.getenv('NEO4J_DATA')\n",
    "node_dir = os.path.join(NEO4J_DATA, 'nodes')\n",
    "rel_dir = os.path.join(NEO4J_DATA, 'relationships')\n"
   ]
  },
  {
   "cell_type": "code",
   "execution_count": 4,
   "id": "e6409887",
   "metadata": {
    "execution": {
     "iopub.execute_input": "2024-03-10T07:25:22.765994Z",
     "iopub.status.busy": "2024-03-10T07:25:22.765865Z",
     "iopub.status.idle": "2024-03-10T07:25:22.924705Z",
     "shell.execute_reply": "2024-03-10T07:25:22.924414Z"
    }
   },
   "outputs": [],
   "source": [
    "spoke_relevant_assays = ['RNA Sequencing (RNA-Seq)', 'DNA microarray', 'mass spectrometry', 'nucleotide sequencing', '16S']\n",
    "organism_to_exclude = ['Viridiplantae', 'Fungi']\n",
    "\n",
    "metadata_df = pd.read_csv(os.path.join(PARENT_DATA_PATH, FILENAME), header=1)\n",
    "\n",
    "ncbi = NCBITaxa()\n",
    "lineage_superkingdom = [None]*metadata_df.shape[0]\n",
    "lineage_kingdom = [None]*metadata_df.shape[0]\n",
    "for index, row in metadata_df.iterrows():\n",
    "    try:\n",
    "        tax_id = row['organism.term accession number'].split('/')[-1]\n",
    "        lineage = ncbi.get_lineage(tax_id)\n",
    "        lineage_names = ncbi.get_taxid_translator(lineage)\n",
    "        for item in lineage_names:\n",
    "            rank = list(ncbi.get_rank([item]).values())[0]\n",
    "            if rank == 'superkingdom':\n",
    "                lineage_superkingdom[index] = lineage_names[item]\n",
    "            if rank == 'kingdom':\n",
    "                lineage_kingdom[index] = lineage_names[item]\n",
    "    except:\n",
    "        continue\n",
    "metadata_df.loc[:, 'lineage_superkingdom'] = lineage_superkingdom\n",
    "metadata_df.loc[:, 'lineage_kingdom'] = lineage_kingdom\n",
    "\n",
    "metadata_df = metadata_df[metadata_df['GL-processed']!='False']\n",
    "metadata_df_ = metadata_df[metadata_df['study assay technology type'].isin(spoke_relevant_assays)]\n",
    "metadata_df_without_plants_fungi = metadata_df_[~metadata_df_['lineage_kingdom'].isin(organism_to_exclude)]\n",
    "metadata_df_without_plants_fungi = metadata_df_without_plants_fungi[metadata_df_without_plants_fungi.organism != 'Not Applicable']\n",
    "metadata_df_without_plants_fungi.dropna(subset=['lineage_kingdom'], inplace=True)\n",
    "metadata_df_without_plants_fungi.dropna(subset=['organism'], inplace=True)\n",
    "\n",
    "metadata_df_without_plants_fungi_ = metadata_df_without_plants_fungi.dropna(subset=['material type.term accession number'])\n",
    "metadata_df_without_plants_fungi_.loc[:,'material_type_id'] = metadata_df_without_plants_fungi_['material type.term accession number'].apply(lambda x:x.split('/')[-1].split('_')[0])\n",
    "\n",
    "metadata_df_without_plants_fungi_after_uberon_filter = metadata_df_without_plants_fungi_[(metadata_df_without_plants_fungi_.material_type_id.str.startswith('D')) | \n",
    "                                   (metadata_df_without_plants_fungi_.material_type_id == 'UBERON') |\n",
    "                                 (metadata_df_without_plants_fungi_['material_type_id'].str.contains('fma'))|\n",
    "                                 (metadata_df_without_plants_fungi_['material_type_id'].str.contains('EHDA')) |\n",
    "                                 (metadata_df_without_plants_fungi_['material_type_id'].str.contains('owl'))]\n",
    "\n",
    "\n",
    "clear_output()"
   ]
  },
  {
   "cell_type": "code",
   "execution_count": 5,
   "id": "772a050b",
   "metadata": {
    "execution": {
     "iopub.execute_input": "2024-03-10T07:25:22.926631Z",
     "iopub.status.busy": "2024-03-10T07:25:22.926505Z",
     "iopub.status.idle": "2024-03-10T07:25:22.935347Z",
     "shell.execute_reply": "2024-03-10T07:25:22.935045Z"
    }
   },
   "outputs": [
    {
     "data": {
      "text/html": [
       "<div>\n",
       "<style scoped>\n",
       "    .dataframe tbody tr th:only-of-type {\n",
       "        vertical-align: middle;\n",
       "    }\n",
       "\n",
       "    .dataframe tbody tr th {\n",
       "        vertical-align: top;\n",
       "    }\n",
       "\n",
       "    .dataframe thead th {\n",
       "        text-align: right;\n",
       "    }\n",
       "</style>\n",
       "<table border=\"1\" class=\"dataframe\">\n",
       "  <thead>\n",
       "    <tr style=\"text-align: right;\">\n",
       "      <th></th>\n",
       "      <th>accession</th>\n",
       "      <th>organism</th>\n",
       "      <th>org_id</th>\n",
       "    </tr>\n",
       "  </thead>\n",
       "  <tbody>\n",
       "    <tr>\n",
       "      <th>0</th>\n",
       "      <td>OSD-1</td>\n",
       "      <td>Drosophila melanogaster</td>\n",
       "      <td>7227</td>\n",
       "    </tr>\n",
       "    <tr>\n",
       "      <th>1</th>\n",
       "      <td>OSD-100</td>\n",
       "      <td>Mus musculus</td>\n",
       "      <td>10090</td>\n",
       "    </tr>\n",
       "    <tr>\n",
       "      <th>3</th>\n",
       "      <td>OSD-102</td>\n",
       "      <td>Mus musculus</td>\n",
       "      <td>10090</td>\n",
       "    </tr>\n",
       "    <tr>\n",
       "      <th>11</th>\n",
       "      <td>OSD-111</td>\n",
       "      <td>Mus musculus</td>\n",
       "      <td>10090</td>\n",
       "    </tr>\n",
       "    <tr>\n",
       "      <th>12</th>\n",
       "      <td>OSD-111</td>\n",
       "      <td>Mus musculus</td>\n",
       "      <td>10090</td>\n",
       "    </tr>\n",
       "    <tr>\n",
       "      <th>...</th>\n",
       "      <td>...</td>\n",
       "      <td>...</td>\n",
       "      <td>...</td>\n",
       "    </tr>\n",
       "    <tr>\n",
       "      <th>254</th>\n",
       "      <td>OSD-83</td>\n",
       "      <td>Oryzias latipes</td>\n",
       "      <td>8090</td>\n",
       "    </tr>\n",
       "    <tr>\n",
       "      <th>255</th>\n",
       "      <td>OSD-83</td>\n",
       "      <td>Oryzias latipes</td>\n",
       "      <td>8090</td>\n",
       "    </tr>\n",
       "    <tr>\n",
       "      <th>256</th>\n",
       "      <td>OSD-83</td>\n",
       "      <td>Oryzias latipes</td>\n",
       "      <td>8090</td>\n",
       "    </tr>\n",
       "    <tr>\n",
       "      <th>258</th>\n",
       "      <td>OSD-87</td>\n",
       "      <td>Mus musculus</td>\n",
       "      <td>10090</td>\n",
       "    </tr>\n",
       "    <tr>\n",
       "      <th>259</th>\n",
       "      <td>OSD-91</td>\n",
       "      <td>Homo sapiens</td>\n",
       "      <td>9606</td>\n",
       "    </tr>\n",
       "  </tbody>\n",
       "</table>\n",
       "<p>105 rows × 3 columns</p>\n",
       "</div>"
      ],
      "text/plain": [
       "    accession                 organism org_id\n",
       "0       OSD-1  Drosophila melanogaster   7227\n",
       "1     OSD-100             Mus musculus  10090\n",
       "3     OSD-102             Mus musculus  10090\n",
       "11    OSD-111             Mus musculus  10090\n",
       "12    OSD-111             Mus musculus  10090\n",
       "..        ...                      ...    ...\n",
       "254    OSD-83          Oryzias latipes   8090\n",
       "255    OSD-83          Oryzias latipes   8090\n",
       "256    OSD-83          Oryzias latipes   8090\n",
       "258    OSD-87             Mus musculus  10090\n",
       "259    OSD-91             Homo sapiens   9606\n",
       "\n",
       "[105 rows x 3 columns]"
      ]
     },
     "execution_count": 5,
     "metadata": {},
     "output_type": "execute_result"
    }
   ],
   "source": [
    "metadata_df_without_plants_fungi_after_uberon_filter_org_info = metadata_df_without_plants_fungi_after_uberon_filter[['accession', 'organism', 'organism.term accession number']]\n",
    "\n",
    "metadata_df_without_plants_fungi_after_uberon_filter_org_info.loc[:,'org_id'] = metadata_df_without_plants_fungi_after_uberon_filter_org_info['organism.term accession number'].apply(lambda x:x.split('/')[-1])\n",
    "\n",
    "metadata_df_without_plants_fungi_after_uberon_filter_org_info.drop(['organism.term accession number'], axis=1, inplace=True)\n",
    "clear_output()\n",
    "metadata_df_without_plants_fungi_after_uberon_filter_org_info\n"
   ]
  },
  {
   "cell_type": "code",
   "execution_count": 6,
   "id": "5e8b53ed",
   "metadata": {
    "execution": {
     "iopub.execute_input": "2024-03-10T07:25:22.937017Z",
     "iopub.status.busy": "2024-03-10T07:25:22.936898Z",
     "iopub.status.idle": "2024-03-10T07:25:26.705172Z",
     "shell.execute_reply": "2024-03-10T07:25:26.703928Z"
    }
   },
   "outputs": [
    {
     "name": "stdout",
     "output_type": "stream",
     "text": [
      "CPU times: user 764 ms, sys: 2.37 s, total: 3.13 s\n",
      "Wall time: 3.76 s\n"
     ]
    }
   ],
   "source": [
    "%%time\n",
    "\n",
    "with open(DATA_PATH, 'rb') as f:\n",
    "    data = pickle.load(f)"
   ]
  },
  {
   "cell_type": "code",
   "execution_count": 7,
   "id": "82c71bee",
   "metadata": {
    "execution": {
     "iopub.execute_input": "2024-03-10T07:25:26.710142Z",
     "iopub.status.busy": "2024-03-10T07:25:26.709833Z",
     "iopub.status.idle": "2024-03-10T07:25:31.566028Z",
     "shell.execute_reply": "2024-03-10T07:25:31.565679Z"
    }
   },
   "outputs": [
    {
     "name": "stdout",
     "output_type": "stream",
     "text": [
      "(106451, 3)\n"
     ]
    }
   ],
   "source": [
    "\n",
    "mgene_list = []\n",
    "for item in data:\n",
    "    df = item['data']\n",
    "    p_val_col = list(filter(None, map(lambda x:x if 'Adj.p.value_' in x else None, list(item['data'].columns))))\n",
    "    df.dropna(subset=p_val_col, inplace=True)\n",
    "    df = df[(df[p_val_col] < 0.05).any(axis=1)]\n",
    "    if df.shape[0] > 0:\n",
    "        try:\n",
    "            mgene_df = df[['ENTREZID']]\n",
    "            try:\n",
    "                mgene_df.loc[:,'GENENAME'] = df[['GENENAME']]\n",
    "            except:\n",
    "                try:\n",
    "                    mgene_df.loc[:,'GENENAME'] = df[['SYMBOL']]\n",
    "                except:\n",
    "                    mgene_df.loc[:,'GENENAME'] = ''\n",
    "        except:\n",
    "            continue\n",
    "        mgene_df.loc[:,'accession'] = item['metadata']['accession']\n",
    "        mgene_list.append(mgene_df)\n",
    "    \n",
    "\n",
    "clear_output()\n",
    "mgene_df = pd.concat(mgene_list, ignore_index=True)\n",
    "mgene_df = mgene_df.drop_duplicates(subset=['ENTREZID']).dropna(subset=['ENTREZID'])\n",
    "print(mgene_df.shape)\n"
   ]
  },
  {
   "cell_type": "code",
   "execution_count": 8,
   "id": "1dce6fde",
   "metadata": {
    "execution": {
     "iopub.execute_input": "2024-03-10T07:25:31.567990Z",
     "iopub.status.busy": "2024-03-10T07:25:31.567838Z",
     "iopub.status.idle": "2024-03-10T07:25:31.637840Z",
     "shell.execute_reply": "2024-03-10T07:25:31.637398Z"
    }
   },
   "outputs": [],
   "source": [
    "mgene_with_org_df = pd.merge(mgene_df, metadata_df_without_plants_fungi_after_uberon_filter_org_info, on='accession').drop_duplicates(subset=['ENTREZID'])\n",
    "mgene_with_org_df.loc[:, 'organism'] = mgene_with_org_df['organism'].str.replace('Homo Sapiens', 'Homo sapiens')\n",
    "\n",
    "mgene_with_org_df.rename(columns={'ENTREZID':'identifier',\n",
    "                                  'GENENAME':'name',\n",
    "                                  'org_id':'taxonomy'\n",
    "                                 }, inplace=True)\n",
    "mgene_with_org_df.drop(['accession'], axis=1, inplace=True)\n"
   ]
  },
  {
   "cell_type": "code",
   "execution_count": 9,
   "id": "cc242c9d",
   "metadata": {
    "execution": {
     "iopub.execute_input": "2024-03-10T07:25:31.640427Z",
     "iopub.status.busy": "2024-03-10T07:25:31.640124Z",
     "iopub.status.idle": "2024-03-10T07:27:20.178517Z",
     "shell.execute_reply": "2024-03-10T07:27:20.178143Z"
    }
   },
   "outputs": [
    {
     "name": "stdout",
     "output_type": "stream",
     "text": [
      "CPU times: user 4.48 s, sys: 457 ms, total: 4.94 s\n",
      "Wall time: 1min 48s\n"
     ]
    }
   ],
   "source": [
    "%%time\n",
    "# ortholog_dbs = list(ortholog_mapper.get_ortholog_dbs())\n",
    "mgene_with_org_df = ortholog_mapper.map_orthologs(mgene_with_org_df, \"taxonomy\", \"identifier\", \"human_entrez_gene\", ortholog_dbs=[\"JAX\", \"Ensembl\"])\n",
    "\n"
   ]
  },
  {
   "cell_type": "code",
   "execution_count": 10,
   "id": "a7c0aeee",
   "metadata": {
    "execution": {
     "iopub.execute_input": "2024-03-10T07:27:20.180555Z",
     "iopub.status.busy": "2024-03-10T07:27:20.180219Z",
     "iopub.status.idle": "2024-03-10T07:27:20.208827Z",
     "shell.execute_reply": "2024-03-10T07:27:20.208449Z"
    }
   },
   "outputs": [],
   "source": [
    "\n",
    "MGiG_df = mgene_with_org_df[['identifier', 'human_entrez_gene']]\n",
    "MGiG_df.rename(columns={'identifier':'from', 'human_entrez_gene':'to'}, inplace=True)\n",
    "MGiG_df = MGiG_df[MGiG_df.to!=''].drop_duplicates()\n",
    "\n",
    "clear_output()"
   ]
  },
  {
   "cell_type": "code",
   "execution_count": 11,
   "id": "253fc4e7",
   "metadata": {
    "execution": {
     "iopub.execute_input": "2024-03-10T07:27:20.210761Z",
     "iopub.status.busy": "2024-03-10T07:27:20.210518Z",
     "iopub.status.idle": "2024-03-10T07:27:20.219037Z",
     "shell.execute_reply": "2024-03-10T07:27:20.218694Z"
    }
   },
   "outputs": [],
   "source": [
    "gene_df = mgene_with_org_df[['human_entrez_gene']]\n",
    "gene_df.rename(columns={'human_entrez_gene':'identifier'}, inplace=True)\n",
    "gene_df.drop_duplicates(inplace=True)\n",
    "gene_df = gene_df[gene_df.identifier!='']\n",
    "\n",
    "clear_output()"
   ]
  },
  {
   "cell_type": "code",
   "execution_count": 12,
   "id": "f04655b1",
   "metadata": {
    "execution": {
     "iopub.execute_input": "2024-03-10T07:27:20.220784Z",
     "iopub.status.busy": "2024-03-10T07:27:20.220631Z",
     "iopub.status.idle": "2024-03-10T07:27:20.235895Z",
     "shell.execute_reply": "2024-03-10T07:27:20.235537Z"
    }
   },
   "outputs": [],
   "source": [
    "mgene_with_org_df.drop('human_entrez_gene', axis=1, inplace=True)\n",
    "mgene_with_org_df.drop_duplicates(subset=['identifier'], inplace=True)\n"
   ]
  },
  {
   "cell_type": "markdown",
   "id": "c2b8da6e",
   "metadata": {},
   "source": [
    "## Assay-MGene"
   ]
  },
  {
   "cell_type": "code",
   "execution_count": 13,
   "id": "48629396",
   "metadata": {
    "execution": {
     "iopub.execute_input": "2024-03-10T07:27:20.237784Z",
     "iopub.status.busy": "2024-03-10T07:27:20.237622Z",
     "iopub.status.idle": "2024-03-10T07:27:22.739859Z",
     "shell.execute_reply": "2024-03-10T07:27:22.739468Z"
    }
   },
   "outputs": [],
   "source": [
    "today_date = datetime.today()\n",
    "formatted_date = today_date.strftime(\"%Y-%d-%m\")\n",
    "\n",
    "study_assay_df = pd.read_csv(os.path.join(rel_dir, f'Study-PERFORMED_SpA-Assay_{formatted_date}.csv'))\n",
    "assay_df = pd.read_csv(os.path.join(node_dir, f'Assay_{formatted_date}.csv'))\n",
    "study_ids = list(map(lambda x:x['metadata']['accession'], data))\n",
    "\n",
    "assay_mgene = []\n",
    "for index, row in tqdm(study_assay_df.iterrows()):\n",
    "    study_id = row['from']\n",
    "    assay_id = row['to']\n",
    "    factors_1 = ast.literal_eval(assay_df[assay_df.identifier==assay_id].factors_1.values[0])\n",
    "    factors_2 = ast.literal_eval(assay_df[assay_df.identifier==assay_id].factors_2.values[0])\n",
    "    factors_1_str = ' & '.join(factors_1)\n",
    "    factors_2_str = ' & '.join(factors_2)\n",
    "    data_index = np.where(study_id==np.array(study_ids))[0][0]\n",
    "    df = data[data_index]['data']\n",
    "    try:\n",
    "        log_fc_col = f'Log2fc_({factors_1_str})v({factors_2_str})'\n",
    "        adj_pval_col = f'Adj.p.value_({factors_1_str})v({factors_2_str})'\n",
    "        log_fc = df[log_fc_col]\n",
    "        adj_pval = df[adj_pval_col]\n",
    "    except:\n",
    "        try:\n",
    "            log_fc_col = f'Log2fc_({factors_1_str})v({factors_2_str}) '\n",
    "            adj_pval_col = f'Adj.p.value_({factors_1_str})v({factors_2_str}) '\n",
    "            log_fc = df[log_fc_col]\n",
    "            adj_pval = df[adj_pval_col]\n",
    "        except:\n",
    "            try:\n",
    "                log_fc_col = f'Log2fc_({factors_1_str} )v( {factors_2_str})'\n",
    "                adj_pval_col = f'Adj.p.value_({factors_1_str} )v( {factors_2_str})'\n",
    "                log_fc = df[log_fc_col]\n",
    "                adj_pval = df[adj_pval_col]\n",
    "            except:\n",
    "                try:\n",
    "                    log_fc_col = f'Log2fc_({factors_1_str} )v( {factors_2_str} )'\n",
    "                    adj_pval_col = f'Adj.p.value_({factors_1_str} )v( {factors_2_str} )'\n",
    "                    log_fc = df[log_fc_col]\n",
    "                    adj_pval = df[adj_pval_col]\n",
    "                except:\n",
    "                    try:\n",
    "                        log_fc_col = f'Log2fc_({factors_1_str})v({factors_2_str} )'\n",
    "                        adj_pval_col = f'Adj.p.value_({factors_1_str})v({factors_2_str} )'\n",
    "                        log_fc = df[log_fc_col]\n",
    "                        adj_pval = df[adj_pval_col]\n",
    "                    except:\n",
    "                        try:\n",
    "                            log_fc_col = f'Log2fc_({factors_1_str} )v({factors_2_str})'\n",
    "                            adj_pval_col = f'Adj.p.value_({factors_1_str} )v({factors_2_str})'\n",
    "                            log_fc = df[log_fc_col]\n",
    "                            adj_pval = df[adj_pval_col]\n",
    "                        except:\n",
    "                            log_fc_col = f'Log2fc_({factors_1_str} )v({factors_2_str} )'\n",
    "                            adj_pval_col = f'Adj.p.value_({factors_1_str} )v({factors_2_str} )'\n",
    "                            log_fc = df[log_fc_col]\n",
    "                            adj_pval = df[adj_pval_col]\n",
    "        \n",
    "    \n",
    "    \n",
    "    assay_mgene_df = df[['ENTREZID']]\n",
    "    assay_mgene_df.loc[:,'log_fc'] = log_fc\n",
    "    assay_mgene_df.loc[:,'adj_pval'] = adj_pval\n",
    "    assay_mgene_df.loc[:,'assay_id'] = assay_id\n",
    "    assay_mgene.append(assay_mgene_df)\n",
    "\n",
    "clear_output()\n"
   ]
  },
  {
   "cell_type": "code",
   "execution_count": 14,
   "id": "7b854b0d",
   "metadata": {
    "execution": {
     "iopub.execute_input": "2024-03-10T07:27:22.741745Z",
     "iopub.status.busy": "2024-03-10T07:27:22.741607Z",
     "iopub.status.idle": "2024-03-10T07:27:30.580852Z",
     "shell.execute_reply": "2024-03-10T07:27:30.580138Z"
    }
   },
   "outputs": [
    {
     "name": "stdout",
     "output_type": "stream",
     "text": [
      "CPU times: user 5.04 s, sys: 2.06 s, total: 7.1 s\n",
      "Wall time: 7.83 s\n"
     ]
    }
   ],
   "source": [
    "%%time\n",
    "\n",
    "AmMG_df = pd.concat(assay_mgene, ignore_index=True)\n",
    "AmMG_df = AmMG_df[AmMG_df.ENTREZID.isin(mgene_with_org_df.identifier)]\n",
    "\n",
    "AmMG_df = AmMG_df[AmMG_df.adj_pval<0.05].drop_duplicates(subset=['ENTREZID', 'assay_id'])\n",
    "\n",
    "AmMG_df.loc[AmMG_df.log_fc>0, 'direction'] = 'upregulates'\n",
    "AmMG_df.loc[AmMG_df.log_fc<0, 'direction'] = 'downregulates'\n",
    "\n",
    "AmMG_df.rename(columns={'assay_id':'from', 'ENTREZID':'to', 'log_fc':'log2fc', 'adj_pval':'adj_p_value'}, inplace=True)\n",
    "AmMG_df = AmMG_df[['from', 'to', 'log2fc', 'adj_p_value', 'direction']]\n"
   ]
  },
  {
   "cell_type": "markdown",
   "id": "1f2f4ecf",
   "metadata": {},
   "source": [
    "## Saving node and edge files"
   ]
  },
  {
   "cell_type": "code",
   "execution_count": 15,
   "id": "d329d009",
   "metadata": {
    "execution": {
     "iopub.execute_input": "2024-03-10T07:27:30.584321Z",
     "iopub.status.busy": "2024-03-10T07:27:30.584141Z",
     "iopub.status.idle": "2024-03-10T07:27:46.844362Z",
     "shell.execute_reply": "2024-03-10T07:27:46.843870Z"
    }
   },
   "outputs": [],
   "source": [
    "\n",
    "\n",
    "mgene_with_org_df.to_csv(os.path.join(node_dir, f'MGene_{formatted_date}.csv'), index=False)\n",
    "gene_df.to_csv(os.path.join(node_dir, f'Gene_{formatted_date}.csv'), index=False)\n",
    "\n",
    "MGiG_df.to_csv(os.path.join(rel_dir, f'MGene-IS_ORTHOLOG_MGiG-Gene_{formatted_date}.csv'), index=False)\n",
    "AmMG_df.to_csv(os.path.join(rel_dir, f'Assay-MEASURED_AmMG-MGene_{formatted_date}.csv'), index=False)\n",
    "\n"
   ]
  }
 ],
 "metadata": {
  "kernelspec": {
   "display_name": "Python 3 (ipykernel)",
   "language": "python",
   "name": "python3"
  },
  "language_info": {
   "codemirror_mode": {
    "name": "ipython",
    "version": 3
   },
   "file_extension": ".py",
   "mimetype": "text/x-python",
   "name": "python",
   "nbconvert_exporter": "python",
   "pygments_lexer": "ipython3",
   "version": "3.10.9"
  }
 },
 "nbformat": 4,
 "nbformat_minor": 5
}
