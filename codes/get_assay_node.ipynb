{
 "cells": [
  {
   "cell_type": "code",
   "execution_count": 1,
   "id": "2ccf82af",
   "metadata": {
    "execution": {
     "iopub.execute_input": "2024-03-10T23:33:11.968553Z",
     "iopub.status.busy": "2024-03-10T23:33:11.968070Z",
     "iopub.status.idle": "2024-03-10T23:33:13.158943Z",
     "shell.execute_reply": "2024-03-10T23:33:13.158612Z"
    }
   },
   "outputs": [],
   "source": [
    "import pickle\n",
    "import pandas as pd\n",
    "import hashlib\n",
    "\n",
    "import numpy as np\n",
    "import os\n",
    "from ete3 import NCBITaxa\n",
    "from datetime import datetime\n",
    "\n",
    "from dotenv import load_dotenv\n",
    "import ontology_mapper\n",
    "\n",
    "import shutil\n",
    "from tqdm import tqdm\n",
    "\n",
    "from IPython.display import clear_output\n"
   ]
  },
  {
   "cell_type": "markdown",
   "id": "68f9df6c",
   "metadata": {},
   "source": [
    "## File paths"
   ]
  },
  {
   "cell_type": "code",
   "execution_count": 2,
   "id": "87c07139",
   "metadata": {
    "execution": {
     "iopub.execute_input": "2024-03-10T23:33:13.161267Z",
     "iopub.status.busy": "2024-03-10T23:33:13.161070Z",
     "iopub.status.idle": "2024-03-10T23:33:13.163055Z",
     "shell.execute_reply": "2024-03-10T23:33:13.162805Z"
    }
   },
   "outputs": [],
   "source": [
    "\n",
    "\n",
    "PARENT_DATA_PATH = '../data'\n",
    "DATA_PATH = '../data/genelab_data_in_csv_format.pickle'\n",
    "FILENAME = '20231220.csv'\n",
    "\n"
   ]
  },
  {
   "cell_type": "markdown",
   "id": "ee7f9ced",
   "metadata": {},
   "source": [
    "## Setting Bioportal API and checking the directories"
   ]
  },
  {
   "cell_type": "code",
   "execution_count": 3,
   "id": "eb8e281a",
   "metadata": {
    "execution": {
     "iopub.execute_input": "2024-03-10T23:33:13.164735Z",
     "iopub.status.busy": "2024-03-10T23:33:13.164615Z",
     "iopub.status.idle": "2024-03-10T23:33:13.170838Z",
     "shell.execute_reply": "2024-03-10T23:33:13.170582Z"
    }
   },
   "outputs": [],
   "source": [
    "load_dotenv('../.env')\n",
    "apikey = os.getenv(\"BIOPORTAL_API_KEY\")\n",
    "\n",
    "NEO4J_DATA = os.getenv('NEO4J_DATA')\n",
    "node_dir = os.path.join(NEO4J_DATA, 'nodes')\n",
    "rel_dir = os.path.join(NEO4J_DATA, 'relationships')\n",
    "\n",
    "shutil.rmtree(node_dir, ignore_errors=True)\n",
    "shutil.rmtree(rel_dir, ignore_errors=True)\n",
    "\n",
    "os.makedirs(NEO4J_DATA, exist_ok=True)\n",
    "os.makedirs(node_dir, exist_ok=True)\n",
    "os.makedirs(rel_dir, exist_ok=True)\n",
    "\n",
    "\n"
   ]
  },
  {
   "cell_type": "markdown",
   "id": "ea15f547",
   "metadata": {},
   "source": [
    "## Get Metadata based on the selection criteria"
   ]
  },
  {
   "cell_type": "code",
   "execution_count": 4,
   "id": "3f42f03d",
   "metadata": {
    "execution": {
     "iopub.execute_input": "2024-03-10T23:33:13.172549Z",
     "iopub.status.busy": "2024-03-10T23:33:13.172409Z",
     "iopub.status.idle": "2024-03-10T23:33:13.334981Z",
     "shell.execute_reply": "2024-03-10T23:33:13.334623Z"
    }
   },
   "outputs": [],
   "source": [
    "spoke_relevant_assays = ['RNA Sequencing (RNA-Seq)', 'DNA microarray', 'mass spectrometry', 'nucleotide sequencing', '16S']\n",
    "organism_to_exclude = ['Viridiplantae', 'Fungi']\n",
    "\n",
    "metadata_df = pd.read_csv(os.path.join(PARENT_DATA_PATH, FILENAME), header=1)\n",
    "\n",
    "ncbi = NCBITaxa()\n",
    "lineage_superkingdom = [None]*metadata_df.shape[0]\n",
    "lineage_kingdom = [None]*metadata_df.shape[0]\n",
    "for index, row in metadata_df.iterrows():\n",
    "    try:\n",
    "        tax_id = row['organism.term accession number'].split('/')[-1]\n",
    "        lineage = ncbi.get_lineage(tax_id)\n",
    "        lineage_names = ncbi.get_taxid_translator(lineage)\n",
    "        for item in lineage_names:\n",
    "            rank = list(ncbi.get_rank([item]).values())[0]\n",
    "            if rank == 'superkingdom':\n",
    "                lineage_superkingdom[index] = lineage_names[item]\n",
    "            if rank == 'kingdom':\n",
    "                lineage_kingdom[index] = lineage_names[item]\n",
    "    except:\n",
    "        continue\n",
    "metadata_df.loc[:, 'lineage_superkingdom'] = lineage_superkingdom\n",
    "metadata_df.loc[:, 'lineage_kingdom'] = lineage_kingdom\n",
    "\n",
    "metadata_df = metadata_df[metadata_df['GL-processed']!='False']\n",
    "metadata_df_ = metadata_df[metadata_df['study assay technology type'].isin(spoke_relevant_assays)]\n",
    "metadata_df_without_plants_fungi = metadata_df_[~metadata_df_['lineage_kingdom'].isin(organism_to_exclude)]\n",
    "metadata_df_without_plants_fungi = metadata_df_without_plants_fungi[metadata_df_without_plants_fungi.organism != 'Not Applicable']\n",
    "metadata_df_without_plants_fungi.dropna(subset=['lineage_kingdom'], inplace=True)\n",
    "metadata_df_without_plants_fungi.dropna(subset=['organism'], inplace=True)\n",
    "\n",
    "metadata_df_without_plants_fungi_ = metadata_df_without_plants_fungi.dropna(subset=['material type.term accession number'])\n",
    "metadata_df_without_plants_fungi_.loc[:,'material_type_id'] = metadata_df_without_plants_fungi_['material type.term accession number'].apply(lambda x:x.split('/')[-1].split('_')[0])\n",
    "\n",
    "metadata_df_without_plants_fungi_after_uberon_filter = metadata_df_without_plants_fungi_[(metadata_df_without_plants_fungi_.material_type_id.str.startswith('D')) | \n",
    "                                   (metadata_df_without_plants_fungi_.material_type_id == 'UBERON') |\n",
    "                                 (metadata_df_without_plants_fungi_['material_type_id'].str.contains('fma'))|\n",
    "                                 (metadata_df_without_plants_fungi_['material_type_id'].str.contains('EHDA')) |\n",
    "                                 (metadata_df_without_plants_fungi_['material_type_id'].str.contains('owl'))]\n",
    "\n",
    "clear_output()\n"
   ]
  },
  {
   "cell_type": "markdown",
   "id": "f8973249",
   "metadata": {},
   "source": [
    "## Open saved Genelab csv files"
   ]
  },
  {
   "cell_type": "code",
   "execution_count": 5,
   "id": "41168195",
   "metadata": {
    "execution": {
     "iopub.execute_input": "2024-03-10T23:33:13.337031Z",
     "iopub.status.busy": "2024-03-10T23:33:13.336922Z",
     "iopub.status.idle": "2024-03-10T23:33:18.421863Z",
     "shell.execute_reply": "2024-03-10T23:33:18.421458Z"
    }
   },
   "outputs": [
    {
     "name": "stdout",
     "output_type": "stream",
     "text": [
      "CPU times: user 973 ms, sys: 2.32 s, total: 3.29 s\n",
      "Wall time: 5.08 s\n"
     ]
    }
   ],
   "source": [
    "%%time\n",
    "\n",
    "with open(DATA_PATH, 'rb') as f:\n",
    "    data = pickle.load(f)"
   ]
  },
  {
   "cell_type": "code",
   "execution_count": 6,
   "id": "283f6a8c",
   "metadata": {
    "execution": {
     "iopub.execute_input": "2024-03-10T23:33:18.423881Z",
     "iopub.status.busy": "2024-03-10T23:33:18.423728Z",
     "iopub.status.idle": "2024-03-10T23:33:18.426084Z",
     "shell.execute_reply": "2024-03-10T23:33:18.425773Z"
    }
   },
   "outputs": [],
   "source": [
    "study_ids = list(map(lambda x:x['metadata']['accession'], data))\n",
    "assay_ids = list(map(lambda x:'GLDS'+x.split('OSD')[-1], study_ids))\n"
   ]
  },
  {
   "cell_type": "code",
   "execution_count": 7,
   "id": "4ab722c0",
   "metadata": {
    "execution": {
     "iopub.execute_input": "2024-03-10T23:33:18.427855Z",
     "iopub.status.busy": "2024-03-10T23:33:18.427707Z",
     "iopub.status.idle": "2024-03-10T23:33:18.480894Z",
     "shell.execute_reply": "2024-03-10T23:33:18.480602Z"
    }
   },
   "outputs": [
    {
     "data": {
      "text/html": [
       "<div>\n",
       "<style scoped>\n",
       "    .dataframe tbody tr th:only-of-type {\n",
       "        vertical-align: middle;\n",
       "    }\n",
       "\n",
       "    .dataframe tbody tr th {\n",
       "        vertical-align: top;\n",
       "    }\n",
       "\n",
       "    .dataframe thead th {\n",
       "        text-align: right;\n",
       "    }\n",
       "</style>\n",
       "<table border=\"1\" class=\"dataframe\">\n",
       "  <thead>\n",
       "    <tr style=\"text-align: right;\">\n",
       "      <th></th>\n",
       "      <th>assay_id</th>\n",
       "      <th>factor_list</th>\n",
       "    </tr>\n",
       "  </thead>\n",
       "  <tbody>\n",
       "    <tr>\n",
       "      <th>0</th>\n",
       "      <td>GLDS-255</td>\n",
       "      <td>[(Ground Control)v(Space Flight), (Space Fligh...</td>\n",
       "    </tr>\n",
       "    <tr>\n",
       "      <th>1</th>\n",
       "      <td>GLDS-102</td>\n",
       "      <td>[(Ground Control)v(Space Flight), (Space Fligh...</td>\n",
       "    </tr>\n",
       "    <tr>\n",
       "      <th>2</th>\n",
       "      <td>GLDS-47</td>\n",
       "      <td>[(Basal Control)v(Ground Control), (Basal Cont...</td>\n",
       "    </tr>\n",
       "    <tr>\n",
       "      <th>3</th>\n",
       "      <td>GLDS-580</td>\n",
       "      <td>[(Basal Control &amp; On Earth &amp; 12 week)v(Basal C...</td>\n",
       "    </tr>\n",
       "    <tr>\n",
       "      <th>4</th>\n",
       "      <td>GLDS-164</td>\n",
       "      <td>[(Ground Control &amp; Liver)v(Ground Control &amp; Sp...</td>\n",
       "    </tr>\n",
       "    <tr>\n",
       "      <th>...</th>\n",
       "      <td>...</td>\n",
       "      <td>...</td>\n",
       "    </tr>\n",
       "    <tr>\n",
       "      <th>69</th>\n",
       "      <td>GLDS-201</td>\n",
       "      <td>[(Hindlimb Loaded Control &amp; not tetanus toxoid...</td>\n",
       "    </tr>\n",
       "    <tr>\n",
       "      <th>70</th>\n",
       "      <td>GLDS-168</td>\n",
       "      <td>[(RR1_BSL_noERCC)v(RR1_BSL_wERCC), (RR1_BSL_no...</td>\n",
       "    </tr>\n",
       "    <tr>\n",
       "      <th>71</th>\n",
       "      <td>GLDS-425</td>\n",
       "      <td>[(Wild Type &amp; Space Flight &amp; 1st generation &amp; ...</td>\n",
       "    </tr>\n",
       "    <tr>\n",
       "      <th>72</th>\n",
       "      <td>GLDS-163</td>\n",
       "      <td>[(Basal Control)v(Ground Control), (Basal Cont...</td>\n",
       "    </tr>\n",
       "    <tr>\n",
       "      <th>73</th>\n",
       "      <td>GLDS-245</td>\n",
       "      <td>[(Basal Control &amp; 1 &amp; On Earth &amp; Carcass)v(Bas...</td>\n",
       "    </tr>\n",
       "  </tbody>\n",
       "</table>\n",
       "<p>74 rows × 2 columns</p>\n",
       "</div>"
      ],
      "text/plain": [
       "    assay_id                                        factor_list\n",
       "0   GLDS-255  [(Ground Control)v(Space Flight), (Space Fligh...\n",
       "1   GLDS-102  [(Ground Control)v(Space Flight), (Space Fligh...\n",
       "2    GLDS-47  [(Basal Control)v(Ground Control), (Basal Cont...\n",
       "3   GLDS-580  [(Basal Control & On Earth & 12 week)v(Basal C...\n",
       "4   GLDS-164  [(Ground Control & Liver)v(Ground Control & Sp...\n",
       "..       ...                                                ...\n",
       "69  GLDS-201  [(Hindlimb Loaded Control & not tetanus toxoid...\n",
       "70  GLDS-168  [(RR1_BSL_noERCC)v(RR1_BSL_wERCC), (RR1_BSL_no...\n",
       "71  GLDS-425  [(Wild Type & Space Flight & 1st generation & ...\n",
       "72  GLDS-163  [(Basal Control)v(Ground Control), (Basal Cont...\n",
       "73  GLDS-245  [(Basal Control & 1 & On Earth & Carcass)v(Bas...\n",
       "\n",
       "[74 rows x 2 columns]"
      ]
     },
     "execution_count": 7,
     "metadata": {},
     "output_type": "execute_result"
    }
   ],
   "source": [
    "assay_factor_list = []\n",
    "for index,item in enumerate(data):\n",
    "    factors_list = []\n",
    "    for col in list(item['data'].columns):\n",
    "        if 'Log2fc_' in col:\n",
    "            factors_list.append(col.split('Log2fc_')[-1])\n",
    "    assay_factor_list.append((assay_ids[index], factors_list))\n",
    "            \n",
    "assay_factor_list_df = pd.DataFrame(assay_factor_list, columns=['assay_id', 'factor_list'])\n",
    "assay_factor_list_df\n",
    "                    "
   ]
  },
  {
   "cell_type": "code",
   "execution_count": 8,
   "id": "8a5fea66",
   "metadata": {
    "execution": {
     "iopub.execute_input": "2024-03-10T23:33:18.482693Z",
     "iopub.status.busy": "2024-03-10T23:33:18.482559Z",
     "iopub.status.idle": "2024-03-10T23:33:18.506464Z",
     "shell.execute_reply": "2024-03-10T23:33:18.506121Z"
    }
   },
   "outputs": [],
   "source": [
    "\n",
    "\n",
    "assay_unique_factor_list = []\n",
    "\n",
    "for index, row in assay_factor_list_df.iterrows():\n",
    "    item_list = row.factor_list\n",
    "    unique_list = []\n",
    "    reverse_list = []\n",
    "    for item in item_list:\n",
    "        if item in reverse_list:\n",
    "            continue\n",
    "        else:\n",
    "            unique_list.append(item)\n",
    "            item_split = item.split(')v(')\n",
    "            item_split[0] = item_split[0]+')'\n",
    "            item_split[1] = '('+item_split[1]\n",
    "            reverse_list.append('v'.join(reversed(item_split)))\n",
    "    unique_list_new = []\n",
    "    for item in unique_list:\n",
    "        if ('(Space Flight' in item) & (item.startswith('(Ground Control')):\n",
    "            item_split = item.split(')v(')\n",
    "            new_item = '(' + item_split[1] + 'v' + item_split[0] + ')'\n",
    "            unique_list_new.append(new_item)\n",
    "        else:\n",
    "            unique_list_new.append(item)\n",
    "    assay_unique_factor_list.append((row['assay_id'], unique_list_new))\n",
    "    \n",
    "assay_unique_factor_list_df = pd.DataFrame(assay_unique_factor_list, columns=['assay_id', 'factor_list'])\n",
    "assay_unique_factor_list_df.loc[:,'accession'] = study_ids\n",
    "\n",
    "assay_unique_factor_list_df = assay_unique_factor_list_df.explode('factor_list')\n",
    "\n",
    "assay_unique_factor_list_df = pd.merge(assay_unique_factor_list_df, metadata_df_without_plants_fungi_after_uberon_filter[['accession', 'assay name', 'study assay technology type']], on='accession').drop_duplicates(subset=['assay_id', 'factor_list']).reset_index().drop('index', axis=1)\n",
    "\n",
    "assay_unique_factor_list_df.loc[:,'factors_1'] = assay_unique_factor_list_df.factor_list.apply(lambda x:x.split(')v(')[0][1:].split('&'))\n",
    "assay_unique_factor_list_df.loc[:,'factors_2'] = assay_unique_factor_list_df.factor_list.apply(lambda x:x.split(')v(')[1][0:-1].split('&'))\n"
   ]
  },
  {
   "cell_type": "markdown",
   "id": "aa3c8c66",
   "metadata": {},
   "source": [
    "## Considering Assay nodes with only significant measurements\n"
   ]
  },
  {
   "cell_type": "code",
   "execution_count": 9,
   "id": "e4c598cc",
   "metadata": {
    "execution": {
     "iopub.execute_input": "2024-03-10T23:33:18.508268Z",
     "iopub.status.busy": "2024-03-10T23:33:18.508162Z",
     "iopub.status.idle": "2024-03-10T23:35:50.514535Z",
     "shell.execute_reply": "2024-03-10T23:35:50.513923Z"
    }
   },
   "outputs": [
    {
     "name": "stderr",
     "output_type": "stream",
     "text": [
      "2529it [02:31, 16.65it/s]\n"
     ]
    }
   ],
   "source": [
    "assay_unique_factor_list_with_significant_p_value = []\n",
    "for index, row in tqdm(assay_unique_factor_list_df.iterrows()):\n",
    "    data_index = np.where(row['accession']==np.array(study_ids))[0][0]\n",
    "    df = data[data_index]['data']\n",
    "    df = df[df['Adj.p.value_'+row['factor_list']] < 0.05]\n",
    "    if df.shape[0] > 0:\n",
    "        assay_unique_factor_list_with_significant_p_value.append(row)\n",
    "\n",
    "assay_unique_factor_list_df = pd.DataFrame(assay_unique_factor_list_with_significant_p_value)\n"
   ]
  },
  {
   "cell_type": "code",
   "execution_count": 10,
   "id": "01ab9941",
   "metadata": {
    "execution": {
     "iopub.execute_input": "2024-03-10T23:35:50.517324Z",
     "iopub.status.busy": "2024-03-10T23:35:50.517136Z",
     "iopub.status.idle": "2024-03-10T23:35:50.583100Z",
     "shell.execute_reply": "2024-03-10T23:35:50.582725Z"
    }
   },
   "outputs": [],
   "source": [
    "def strip_strings_in_list(lst):\n",
    "    return [s.strip() for s in lst]\n",
    "\n",
    "assay_unique_factor_list_df['factors_1'] = assay_unique_factor_list_df['factors_1'].apply(strip_strings_in_list)\n",
    "assay_unique_factor_list_df['factors_2'] = assay_unique_factor_list_df['factors_2'].apply(strip_strings_in_list)\n"
   ]
  },
  {
   "cell_type": "code",
   "execution_count": 11,
   "id": "1da6fb7f",
   "metadata": {
    "execution": {
     "iopub.execute_input": "2024-03-10T23:35:50.585029Z",
     "iopub.status.busy": "2024-03-10T23:35:50.584791Z",
     "iopub.status.idle": "2024-03-10T23:35:50.595283Z",
     "shell.execute_reply": "2024-03-10T23:35:50.595034Z"
    }
   },
   "outputs": [],
   "source": [
    "grouped = metadata_df_without_plants_fungi_after_uberon_filter.groupby('accession')['material type', 'material type.term accession number'].agg(list)\n",
    "\n",
    "new_rows = []\n",
    "\n",
    "for index, rows in grouped.iterrows():\n",
    "    materials = rows['material type']\n",
    "    if len(materials) == 1:\n",
    "        new_rows.append([rows.name, materials[0], None])\n",
    "    elif len(materials) == 2:\n",
    "        new_rows.append([rows.name, materials[0], materials[1]])\n",
    "        \n",
    "    \n",
    "\n",
    "metadata_df_with_material_type = pd.DataFrame(new_rows, columns=['accession', 'material_1', 'material_2'])\n",
    "\n",
    "clear_output()\n"
   ]
  },
  {
   "cell_type": "code",
   "execution_count": 12,
   "id": "71c50df3",
   "metadata": {
    "execution": {
     "iopub.execute_input": "2024-03-10T23:35:50.596879Z",
     "iopub.status.busy": "2024-03-10T23:35:50.596750Z",
     "iopub.status.idle": "2024-03-10T23:35:50.603346Z",
     "shell.execute_reply": "2024-03-10T23:35:50.603009Z"
    }
   },
   "outputs": [],
   "source": [
    "assay_node_df = pd.merge(assay_unique_factor_list_df, metadata_df_with_material_type, on='accession')\n",
    "\n",
    "assay_node_df.loc[:,'factor_list_hash'] = assay_node_df.factor_list.apply(lambda x:hashlib.md5(x.encode()).hexdigest())\n",
    "\n",
    "assay_node_df.loc[:,'identifier'] = assay_node_df.assay_id + '-' + assay_node_df.factor_list_hash\n",
    "\n",
    "assay_node_df.rename(columns={'assay name':'name', \n",
    "                              'study assay technology type':'technology'\n",
    "                             }, inplace=True)\n",
    "\n"
   ]
  },
  {
   "cell_type": "code",
   "execution_count": 13,
   "id": "6cf51a31",
   "metadata": {
    "execution": {
     "iopub.execute_input": "2024-03-10T23:35:50.605133Z",
     "iopub.status.busy": "2024-03-10T23:35:50.605009Z",
     "iopub.status.idle": "2024-03-10T23:35:50.611586Z",
     "shell.execute_reply": "2024-03-10T23:35:50.611321Z"
    }
   },
   "outputs": [],
   "source": [
    "study_df = assay_node_df[['accession']]\n",
    "study_df.rename(columns={'accession':'identifier'}, inplace=True)\n",
    "study_df.loc[:,'name'] = ''\n",
    "study_df.loc[:,'organism'] = ''\n",
    "study_df.loc[:,'taxonomy'] = ''\n",
    "study_df.loc[:,'strain'] = ''\n",
    "study_df.loc[:,'duration'] = ''\n",
    "study_df.loc[:,'duration_unit'] = ''\n",
    "study_df.drop_duplicates(subset=['identifier'], inplace=True)\n",
    "\n",
    "SpA_df = assay_node_df[['accession', 'identifier']].drop_duplicates()\n",
    "SpA_df.rename(columns={'accession':'from', 'identifier':'to'}, inplace=True)\n",
    "\n",
    "clear_output()"
   ]
  },
  {
   "cell_type": "code",
   "execution_count": 14,
   "id": "100f946b",
   "metadata": {
    "execution": {
     "iopub.execute_input": "2024-03-10T23:35:50.613179Z",
     "iopub.status.busy": "2024-03-10T23:35:50.613074Z",
     "iopub.status.idle": "2024-03-10T23:35:50.617054Z",
     "shell.execute_reply": "2024-03-10T23:35:50.616729Z"
    }
   },
   "outputs": [],
   "source": [
    "assay_node_df.drop(['assay_id', 'factor_list_hash', 'factor_list', 'accession'], axis=1, inplace=True)\n",
    "assay_node_df.loc[:,'measurement'] = ''\n",
    "assay_node_df = assay_node_df[['identifier', 'name', 'technology', 'measurement', 'factors_1', 'factors_2', 'material_1', 'material_2']]\n",
    "\n",
    "assay_node_df['material_2'].fillna(assay_node_df['material_1'], inplace=True)\n"
   ]
  },
  {
   "cell_type": "code",
   "execution_count": 15,
   "id": "4fe47848",
   "metadata": {
    "execution": {
     "iopub.execute_input": "2024-03-10T23:35:50.618641Z",
     "iopub.status.busy": "2024-03-10T23:35:50.618543Z",
     "iopub.status.idle": "2024-03-10T23:38:40.917069Z",
     "shell.execute_reply": "2024-03-10T23:38:40.916165Z"
    }
   },
   "outputs": [
    {
     "name": "stdout",
     "output_type": "stream",
     "text": [
      "CPU times: user 464 ms, sys: 76 ms, total: 540 ms\n",
      "Wall time: 2min 50s\n"
     ]
    }
   ],
   "source": [
    "%%time\n",
    "assay_node_df = ontology_mapper.map_ontology(assay_node_df, \"material_1\", \"material_id_1\", \"UBERON\", apikey)\n",
    "assay_node_df = ontology_mapper.map_ontology(assay_node_df, \"material_2\", \"material_id_2\", \"UBERON\", apikey)\n"
   ]
  },
  {
   "cell_type": "markdown",
   "id": "8aa2c313",
   "metadata": {},
   "source": [
    "## Creating edge files"
   ]
  },
  {
   "cell_type": "code",
   "execution_count": 16,
   "id": "5ec6f2e8",
   "metadata": {
    "execution": {
     "iopub.execute_input": "2024-03-10T23:38:40.921326Z",
     "iopub.status.busy": "2024-03-10T23:38:40.921056Z",
     "iopub.status.idle": "2024-03-10T23:38:40.931060Z",
     "shell.execute_reply": "2024-03-10T23:38:40.930593Z"
    }
   },
   "outputs": [],
   "source": [
    "AiA_df_1 = assay_node_df[['identifier', 'material_id_1']]\n",
    "AiA_df_1.rename(columns={'identifier':'from', 'material_id_1':'to'}, inplace=True)\n",
    "AiA_df_2 = assay_node_df[['identifier', 'material_id_2']]\n",
    "AiA_df_2.rename(columns={'identifier':'from', 'material_id_2':'to'}, inplace=True)\n",
    "AiA_df = pd.concat([AiA_df_1, AiA_df_2], ignore_index=True).drop_duplicates()\n",
    "\n",
    "clear_output()\n"
   ]
  },
  {
   "cell_type": "markdown",
   "id": "de65dbed",
   "metadata": {},
   "source": [
    "## Anatomy and Celltype nodes"
   ]
  },
  {
   "cell_type": "code",
   "execution_count": 17,
   "id": "70faa2f4",
   "metadata": {
    "execution": {
     "iopub.execute_input": "2024-03-10T23:38:40.933850Z",
     "iopub.status.busy": "2024-03-10T23:38:40.933643Z",
     "iopub.status.idle": "2024-03-10T23:38:40.940266Z",
     "shell.execute_reply": "2024-03-10T23:38:40.939860Z"
    }
   },
   "outputs": [],
   "source": [
    "material_df = AiA_df[['to']].drop_duplicates()\n",
    "material_df.rename(columns={'to':'identifier'}, inplace=True)\n",
    "anatomy_df = material_df[material_df.identifier.str.startswith('UBERON')]\n",
    "celltype_df = material_df[material_df.identifier.str.startswith('CL')]\n",
    "\n",
    "AiCT_df = AiA_df[AiA_df.to.str.startswith('CL')]\n",
    "AiA_df = AiA_df[AiA_df.to.str.startswith('UBERON')]\n",
    "\n",
    "\n"
   ]
  },
  {
   "cell_type": "code",
   "execution_count": 18,
   "id": "5012dd24-121f-44a6-97ae-7511e96dcf8f",
   "metadata": {
    "execution": {
     "iopub.execute_input": "2024-03-10T23:38:40.942584Z",
     "iopub.status.busy": "2024-03-10T23:38:40.942399Z",
     "iopub.status.idle": "2024-03-10T23:38:40.953802Z",
     "shell.execute_reply": "2024-03-10T23:38:40.953471Z"
    }
   },
   "outputs": [],
   "source": [
    "assay_node_df.identifier = assay_node_df.identifier.astype('str')\n",
    "anatomy_df.identifier = anatomy_df.identifier.astype('str')\n",
    "celltype_df.identifier = celltype_df.identifier.astype('str')\n",
    "study_df.identifier = study_df.identifier.astype('str')\n",
    "AiA_df['from'] = AiA_df['from'].astype('str')\n",
    "AiA_df['to'] = AiA_df['to'].astype('str')\n",
    "AiCT_df['from'] = AiCT_df['from'].astype('str')\n",
    "AiCT_df['to'] = AiCT_df['to'].astype('str')\n",
    "SpA_df['from'] = SpA_df['from'].astype('str')\n",
    "SpA_df['to'] = SpA_df['to'].astype('str')\n",
    "\n",
    "assay_node_df.drop_duplicates(subset=['identifier'], inplace=True)\n",
    "anatomy_df.drop_duplicates(subset=['identifier'], inplace=True)\n",
    "celltype_df.drop_duplicates(subset=['identifier'], inplace=True)\n",
    "study_df.drop_duplicates(subset=['identifier'], inplace=True)\n",
    "\n",
    "AiA_df.drop_duplicates(inplace=True)\n",
    "AiCT_df.drop_duplicates(inplace=True)\n",
    "SpA_df.drop_duplicates(inplace=True)\n",
    "\n",
    "clear_output()\n"
   ]
  },
  {
   "cell_type": "markdown",
   "id": "83ce5cbb-0d2c-4e26-bc7f-c56e6fb7b615",
   "metadata": {},
   "source": [
    "## Saving node and edge files"
   ]
  },
  {
   "cell_type": "code",
   "execution_count": 19,
   "id": "794e9b2c",
   "metadata": {
    "execution": {
     "iopub.execute_input": "2024-03-10T23:38:40.955690Z",
     "iopub.status.busy": "2024-03-10T23:38:40.955545Z",
     "iopub.status.idle": "2024-03-10T23:38:40.977787Z",
     "shell.execute_reply": "2024-03-10T23:38:40.977512Z"
    }
   },
   "outputs": [],
   "source": [
    "today_date = datetime.today()\n",
    "formatted_date = today_date.strftime(\"%Y-%d-%m\")\n",
    "\n",
    "\n",
    "assay_node_df.to_csv(os.path.join(node_dir, f'Assay_{formatted_date}.csv'), index=False)\n",
    "anatomy_df.to_csv(os.path.join(node_dir, f'Anatomy_{formatted_date}.csv'), index=False)\n",
    "celltype_df.to_csv(os.path.join(node_dir, f'CellType_{formatted_date}.csv'), index=False)\n",
    "study_df.to_csv(os.path.join(node_dir, f'Study_{formatted_date}.csv'), index=False)\n",
    "\n",
    "AiA_df.to_csv(os.path.join(rel_dir, f'Assay-INVESTIGATED_AiA-Anatomy_{formatted_date}.csv'), index=False)\n",
    "AiCT_df.to_csv(os.path.join(rel_dir, f'Assay-INVESTIGATED_AiCT-CellType_{formatted_date}.csv'), index=False)\n",
    "SpA_df.to_csv(os.path.join(rel_dir, f'Study-PERFORMED_SpA-Assay_{formatted_date}.csv'), index=False)\n"
   ]
  },
  {
   "cell_type": "code",
   "execution_count": null,
   "id": "751b74b8",
   "metadata": {},
   "outputs": [],
   "source": []
  }
 ],
 "metadata": {
  "kernelspec": {
   "display_name": "Python 3 (ipykernel)",
   "language": "python",
   "name": "python3"
  },
  "language_info": {
   "codemirror_mode": {
    "name": "ipython",
    "version": 3
   },
   "file_extension": ".py",
   "mimetype": "text/x-python",
   "name": "python",
   "nbconvert_exporter": "python",
   "pygments_lexer": "ipython3",
   "version": "3.10.9"
  }
 },
 "nbformat": 4,
 "nbformat_minor": 5
}
