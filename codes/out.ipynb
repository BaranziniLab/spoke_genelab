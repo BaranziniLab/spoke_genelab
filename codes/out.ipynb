{
 "cells": [
  {
   "cell_type": "markdown",
   "id": "58d529ce",
   "metadata": {
    "tags": [
     "papermill-error-cell-tag"
    ]
   },
   "source": [
    "<span style=\"color:red; font-family:Helvetica Neue, Helvetica, Arial, sans-serif; font-size:2em;\">An Exception was encountered at '<a href=\"#papermill-error-cell\">In [14]</a>'.</span>"
   ]
  },
  {
   "cell_type": "markdown",
   "id": "764b57d1-8e66-4ade-8501-c44345ebaac2",
   "metadata": {
    "papermill": {
     "duration": 0.248179,
     "end_time": "2024-03-21T19:02:13.023147",
     "exception": false,
     "start_time": "2024-03-21T19:02:12.774968",
     "status": "completed"
    },
    "tags": []
   },
   "source": [
    "# import_to_desktop\n",
    "Imports the spoke-genelab data and metadata csv files into a Neo4j Desktop database.\n",
    "\n",
    "Start the `spoke-genelab` Graph DBMS before you run this notebook!"
   ]
  },
  {
   "cell_type": "markdown",
   "id": "91e7ef48-6256-4581-9df3-24c1133e5d7a",
   "metadata": {
    "id": "91e7ef48-6256-4581-9df3-24c1133e5d7a",
    "papermill": {
     "duration": 0.200946,
     "end_time": "2024-03-21T19:02:13.415130",
     "exception": false,
     "start_time": "2024-03-21T19:02:13.214184",
     "status": "completed"
    },
    "tags": []
   },
   "source": [
    "## Setup"
   ]
  },
  {
   "cell_type": "code",
   "execution_count": 1,
   "id": "c9bea9a5-7757-4845-9520-1c4533ada4e5",
   "metadata": {
    "execution": {
     "iopub.execute_input": "2024-03-21T19:02:13.806495Z",
     "iopub.status.busy": "2024-03-21T19:02:13.805826Z",
     "iopub.status.idle": "2024-03-21T19:02:15.712176Z",
     "shell.execute_reply": "2024-03-21T19:02:15.710921Z"
    },
    "papermill": {
     "duration": 2.104898,
     "end_time": "2024-03-21T19:02:15.714737",
     "exception": false,
     "start_time": "2024-03-21T19:02:13.609839",
     "status": "completed"
    },
    "tags": []
   },
   "outputs": [],
   "source": [
    "import os\n",
    "import time\n",
    "import pandas as pd\n",
    "import seaborn as sns\n",
    "from py2neo import Graph\n",
    "import shutil\n",
    "import requests\n",
    "from dotenv import load_dotenv\n",
    "load_dotenv(\"../.env\", override=True)\n",
    "\n",
    "pd.set_option('display.max_colwidth', None)"
   ]
  },
  {
   "cell_type": "code",
   "execution_count": 2,
   "id": "278a0f65-e681-4138-a067-3f40412a9747",
   "metadata": {
    "execution": {
     "iopub.execute_input": "2024-03-21T19:02:16.111386Z",
     "iopub.status.busy": "2024-03-21T19:02:16.110527Z",
     "iopub.status.idle": "2024-03-21T19:02:16.115417Z",
     "shell.execute_reply": "2024-03-21T19:02:16.114705Z"
    },
    "papermill": {
     "duration": 0.206786,
     "end_time": "2024-03-21T19:02:16.117565",
     "exception": false,
     "start_time": "2024-03-21T19:02:15.910779",
     "status": "completed"
    },
    "tags": []
   },
   "outputs": [],
   "source": [
    "def download_http(url, filename):\n",
    "    if os.path.exists(filename):\n",
    "        os.remove(filename)\n",
    "    data = requests.get(url)\n",
    "    with open(filename, 'wb')as file:\n",
    "        file.write(data.content)"
   ]
  },
  {
   "cell_type": "code",
   "execution_count": 3,
   "id": "fc8051ba-0597-484b-b7f7-83c2d935b34f",
   "metadata": {
    "cellView": "form",
    "colab": {
     "base_uri": "https://localhost:8080/",
     "height": 17
    },
    "execution": {
     "iopub.execute_input": "2024-03-21T19:02:16.510416Z",
     "iopub.status.busy": "2024-03-21T19:02:16.510011Z",
     "iopub.status.idle": "2024-03-21T19:02:17.547901Z",
     "shell.execute_reply": "2024-03-21T19:02:17.546873Z"
    },
    "id": "fc8051ba-0597-484b-b7f7-83c2d935b34f",
    "outputId": "69c5cbe1-440f-4e52-9e36-1024f9bbd83e",
    "papermill": {
     "duration": 1.236452,
     "end_time": "2024-03-21T19:02:17.550885",
     "exception": false,
     "start_time": "2024-03-21T19:02:16.314433",
     "status": "completed"
    },
    "tags": []
   },
   "outputs": [],
   "source": [
    "# copy required files (temporary solution)\n",
    "download_http(\"https://raw.githubusercontent.com/pwrose/neo4j-ipycytoscape/master/notebooks/neo4j_utils.py\", \"neo4j_utils.py\")\n",
    "download_http(\"https://raw.githubusercontent.com/sbl-sdsc/kg-import/master/notebooks/neo4j_bulk_importer.py\", \"neo4j_bulk_importer.py\")\n",
    "download_http(\"https://raw.githubusercontent.com/sbl-sdsc/kg-import/master/notebooks/utils.py\", \"utils.py\")\n",
    "download_http(\"https://raw.githubusercontent.com/sbl-sdsc/kg-import/master/notebooks/PrepareNeo4jBulkImport.ipynb\", \"PrepareNeo4jBulkImport.ipynb\")"
   ]
  },
  {
   "cell_type": "code",
   "execution_count": 4,
   "id": "08c31e38-cb94-422d-b6e0-9ad7b351df87",
   "metadata": {
    "cellView": "form",
    "execution": {
     "iopub.execute_input": "2024-03-21T19:02:17.940084Z",
     "iopub.status.busy": "2024-03-21T19:02:17.939365Z",
     "iopub.status.idle": "2024-03-21T19:02:18.161478Z",
     "shell.execute_reply": "2024-03-21T19:02:18.160627Z"
    },
    "id": "08c31e38-cb94-422d-b6e0-9ad7b351df87",
    "papermill": {
     "duration": 0.421298,
     "end_time": "2024-03-21T19:02:18.164140",
     "exception": false,
     "start_time": "2024-03-21T19:02:17.742842",
     "status": "completed"
    },
    "tags": []
   },
   "outputs": [],
   "source": [
    "import neo4j_utils\n",
    "import neo4j_bulk_importer"
   ]
  },
  {
   "cell_type": "markdown",
   "id": "e6b136af-8ed7-407e-b02d-6c25a96cd755",
   "metadata": {
    "id": "e6b136af-8ed7-407e-b02d-6c25a96cd755",
    "papermill": {
     "duration": 0.225061,
     "end_time": "2024-03-21T19:02:18.591538",
     "exception": false,
     "start_time": "2024-03-21T19:02:18.366477",
     "status": "completed"
    },
    "tags": []
   },
   "source": [
    "### Import the Knowledge Graph\n",
    "CSV data and metadata files are uploaded into the Neo4j Graph database from the [kg](https://github.com/BaranziniLab/spoke_genelab/tree/main/kg) directory using the [kg-import](https://github.com/sbl-sdsc/kg-import) bulk upload scripts. For a description of the data organization and the specification of metadata [see](https://github.com/sbl-sdsc/kg-import/blob/main/README.md)."
   ]
  },
  {
   "cell_type": "code",
   "execution_count": 5,
   "id": "55ed42e2-fd25-45c5-ba9b-b0eac392bbed",
   "metadata": {
    "colab": {
     "base_uri": "https://localhost:8080/",
     "height": 66,
     "referenced_widgets": [
      "1f3725d3a2c341608b9771a270e97e3a",
      "772a0ba116804f2b8e9f6457758f6a59",
      "caa4ed74bb8f4b81a04c6294098c184f",
      "245bfee63376479186d0203bc7cd1dc8",
      "3d0d5c1c18ba45c6bb08132c8de8d6bc",
      "e228dd0cef024c1f9b716ee397b9308a",
      "eb142a26b0914229bf6fbc35573bbf7a",
      "f6b0b3b1f00d4ba989c99820b9abf2dd",
      "a98e6074b2ba404db25ef55562d9c675",
      "93e479dedeb7431ca7bd5e806794445e",
      "d6653b2ccec9487ca1b78e74eeb90b8a"
     ]
    },
    "execution": {
     "iopub.execute_input": "2024-03-21T19:02:18.999928Z",
     "iopub.status.busy": "2024-03-21T19:02:18.999309Z",
     "iopub.status.idle": "2024-03-21T19:03:27.328294Z",
     "shell.execute_reply": "2024-03-21T19:03:27.327133Z"
    },
    "id": "55ed42e2-fd25-45c5-ba9b-b0eac392bbed",
    "outputId": "9c2d88f2-05c8-426b-cf06-d7dc2a4bbeea",
    "papermill": {
     "duration": 68.535219,
     "end_time": "2024-03-21T19:03:27.331252",
     "exception": false,
     "start_time": "2024-03-21T19:02:18.796033",
     "status": "completed"
    },
    "tags": []
   },
   "outputs": [
    {
     "name": "stdout",
     "output_type": "stream",
     "text": [
      "drop_database: '/Users/Peter/Library/Application Support/Neo4j Desktop/Application/relate-data/dbmss/dbms-3d4b95d1-0219-480b-a3c4-ee5a409cc383/bin/cypher-shell' -d system -u neo4j -p neo4jdemo 'DROP DATABASE `spoke-genelab-v0.0.2` IF EXISTS;'\n"
     ]
    },
    {
     "name": "stdout",
     "output_type": "stream",
     "text": [
      "\n"
     ]
    },
    {
     "data": {
      "application/vnd.jupyter.widget-view+json": {
       "model_id": "facda194051047a39fcb48eb75030d73",
       "version_major": 2,
       "version_minor": 0
      },
      "text/plain": [
       "Executing:   0%|          | 0/85 [00:00<?, ?cell/s]"
      ]
     },
     "metadata": {},
     "output_type": "display_data"
    },
    {
     "name": "stdout",
     "output_type": "stream",
     "text": [
      "run_bulk_import: cd '/Users/Peter/Library/Application Support/Neo4j Desktop/Application/relate-data/dbmss/dbms-3d4b95d1-0219-480b-a3c4-ee5a409cc383/import'; '/Users/Peter/Library/Application Support/Neo4j Desktop/Application/relate-data/dbmss/dbms-3d4b95d1-0219-480b-a3c4-ee5a409cc383/bin/neo4j-admin' database import full spoke-genelab-v0.0.2 --overwrite-destination --skip-bad-relationships --skip-duplicate-nodes --multiline-fields --array-delimiter='|' @args.txt\n"
     ]
    },
    {
     "name": "stdout",
     "output_type": "stream",
     "text": [
      "Neo4j version: 5.12.0\n",
      "Importing the contents of these files into /Users/Peter/Library/Application Support/Neo4j Desktop/Application/relate-data/dbmss/dbms-3d4b95d1-0219-480b-a3c4-ee5a409cc383/data/databases/spoke-genelab-v0.0.2:\n",
      "Nodes:\n",
      "  [Assay]:\n",
      "  /Users/Peter/Library/Application Support/Neo4j Desktop/Application/relate-data/dbmss/dbms-3d4b95d1-0219-480b-a3c4-ee5a409cc383/import/header_Assay_n.csv\n",
      "  /Users/Peter/Library/Application Support/Neo4j Desktop/Application/relate-data/dbmss/dbms-3d4b95d1-0219-480b-a3c4-ee5a409cc383/import/Assay_2024-21-03_n.csv\n",
      "\n",
      "  [Study]:\n",
      "  /Users/Peter/Library/Application Support/Neo4j Desktop/Application/relate-data/dbmss/dbms-3d4b95d1-0219-480b-a3c4-ee5a409cc383/import/header_Study_n.csv\n",
      "  /Users/Peter/Library/Application Support/Neo4j Desktop/Application/relate-data/dbmss/dbms-3d4b95d1-0219-480b-a3c4-ee5a409cc383/import/Study_2024-21-03_n.csv\n",
      "\n",
      "  [Gene]:\n",
      "  /Users/Peter/Library/Application Support/Neo4j Desktop/Application/relate-data/dbmss/dbms-3d4b95d1-0219-480b-a3c4-ee5a409cc383/import/header_Gene_n.csv\n",
      "  /Users/Peter/Library/Application Support/Neo4j Desktop/Application/relate-data/dbmss/dbms-3d4b95d1-0219-480b-a3c4-ee5a409cc383/import/Gene_2024-21-03_n.csv\n",
      "\n",
      "  [CellType]:\n",
      "  /Users/Peter/Library/Application Support/Neo4j Desktop/Application/relate-data/dbmss/dbms-3d4b95d1-0219-480b-a3c4-ee5a409cc383/import/header_CellType_n.csv\n",
      "  /Users/Peter/Library/Application Support/Neo4j Desktop/Application/relate-data/dbmss/dbms-3d4b95d1-0219-480b-a3c4-ee5a409cc383/import/CellType_2024-21-03_n.csv\n",
      "\n",
      "  [MetaNode]:\n",
      "  /Users/Peter/Library/Application Support/Neo4j Desktop/Application/relate-data/dbmss/dbms-3d4b95d1-0219-480b-a3c4-ee5a409cc383/import/MetaNode_n.csv\n",
      "\n",
      "  [MGene]:\n",
      "  /Users/Peter/Library/Application Support/Neo4j Desktop/Application/relate-data/dbmss/dbms-3d4b95d1-0219-480b-a3c4-ee5a409cc383/import/header_MGene_n.csv\n",
      "  /Users/Peter/Library/Application Support/Neo4j Desktop/Application/relate-data/dbmss/dbms-3d4b95d1-0219-480b-a3c4-ee5a409cc383/import/MGene_2024-21-03_n.csv\n",
      "\n",
      "  [Anatomy]:\n",
      "  /Users/Peter/Library/Application Support/Neo4j Desktop/Application/relate-data/dbmss/dbms-3d4b95d1-0219-480b-a3c4-ee5a409cc383/import/header_Anatomy_n.csv\n",
      "  /Users/Peter/Library/Application Support/Neo4j Desktop/Application/relate-data/dbmss/dbms-3d4b95d1-0219-480b-a3c4-ee5a409cc383/import/Anatomy_2024-21-03_n.csv\n",
      "\n",
      "Relationships:\n",
      "  PERFORMED_SpA:\n",
      "  /Users/Peter/Library/Application Support/Neo4j Desktop/Application/relate-data/dbmss/dbms-3d4b95d1-0219-480b-a3c4-ee5a409cc383/import/header_Study-PERFORMED_SpA-Assay_r.csv\n",
      "  /Users/Peter/Library/Application Support/Neo4j Desktop/Application/relate-data/dbmss/dbms-3d4b95d1-0219-480b-a3c4-ee5a409cc383/import/Study-PERFORMED_SpA-Assay_2024-21-03_r.csv\n",
      "\n",
      "  MetaRelationship:\n",
      "  /Users/Peter/Library/Application Support/Neo4j Desktop/Application/relate-data/dbmss/dbms-3d4b95d1-0219-480b-a3c4-ee5a409cc383/import/MetaRelationship_r.csv\n",
      "\n",
      "  MEASURED_AmMG:\n",
      "  /Users/Peter/Library/Application Support/Neo4j Desktop/Application/relate-data/dbmss/dbms-3d4b95d1-0219-480b-a3c4-ee5a409cc383/import/header_Assay-MEASURED_AmMG-MGene_r.csv\n",
      "  /Users/Peter/Library/Application Support/Neo4j Desktop/Application/relate-data/dbmss/dbms-3d4b95d1-0219-480b-a3c4-ee5a409cc383/import/Assay-MEASURED_AmMG-MGene_2024-21-03_r.csv\n",
      "\n",
      "  IS_ORTHOLOG_MGiG:\n",
      "  /Users/Peter/Library/Application Support/Neo4j Desktop/Application/relate-data/dbmss/dbms-3d4b95d1-0219-480b-a3c4-ee5a409cc383/import/header_MGene-IS_ORTHOLOG_MGiG-Gene_r.csv\n",
      "  /Users/Peter/Library/Application Support/Neo4j Desktop/Application/relate-data/dbmss/dbms-3d4b95d1-0219-480b-a3c4-ee5a409cc383/import/MGene-IS_ORTHOLOG_MGiG-Gene_2024-21-03_r.csv\n",
      "\n",
      "  INVESTIGATED_AiA:\n",
      "  /Users/Peter/Library/Application Support/Neo4j Desktop/Application/relate-data/dbmss/dbms-3d4b95d1-0219-480b-a3c4-ee5a409cc383/import/header_Assay-INVESTIGATED_AiA-Anatomy_r.csv\n",
      "  /Users/Peter/Library/Application Support/Neo4j Desktop/Application/relate-data/dbmss/dbms-3d4b95d1-0219-480b-a3c4-ee5a409cc383/import/Assay-INVESTIGATED_AiA-Anatomy_2024-21-03_r.csv\n",
      "\n",
      "  INVESTIGATED_AiCT:\n",
      "  /Users/Peter/Library/Application Support/Neo4j Desktop/Application/relate-data/dbmss/dbms-3d4b95d1-0219-480b-a3c4-ee5a409cc383/import/header_Assay-INVESTIGATED_AiCT-CellType_r.csv\n",
      "  /Users/Peter/Library/Application Support/Neo4j Desktop/Application/relate-data/dbmss/dbms-3d4b95d1-0219-480b-a3c4-ee5a409cc383/import/Assay-INVESTIGATED_AiCT-CellType_2024-21-03_r.csv\n",
      "\n",
      "\n",
      "Available resources:\n",
      "  Total machine memory: 16.00GiB\n",
      "  Free machine memory: 7.368GiB\n",
      "  Max heap memory : 910.5MiB\n",
      "  Max worker threads: 8\n",
      "  Configured max memory: 5.983GiB\n",
      "  High parallel IO: true\n",
      "\n",
      "Cypher type normalization is enabled (disable with --normalize-types=false):\n",
      "  Property type of 'log2fc' normalized from 'float' --> 'double' in /Users/Peter/Library/Application Support/Neo4j Desktop/Application/relate-data/dbmss/dbms-3d4b95d1-0219-480b-a3c4-ee5a409cc383/import/header_Assay-MEASURED_AmMG-MGene_r.csv\n",
      "  Property type of 'adj_p_value' normalized from 'float' --> 'double' in /Users/Peter/Library/Application Support/Neo4j Desktop/Application/relate-data/dbmss/dbms-3d4b95d1-0219-480b-a3c4-ee5a409cc383/import/header_Assay-MEASURED_AmMG-MGene_r.csv\n",
      "\n",
      "Import starting 2024-03-21 12:02:52.734-0700\n",
      "  Estimated number of nodes: 126.68 k\n",
      "  Estimated number of node properties: 455.65 k\n",
      "  Estimated number of relationships: 5.11 M\n",
      "  Estimated number of relationship properties: 15.14 M\n",
      "  Estimated disk space usage: 579.1MiB\n",
      "  Estimated required memory usage: 511.6MiB\n",
      "\n",
      "(1/4) Node import 2024-03-21 12:02:53.349-0700\n",
      "  Estimated number of nodes: 126.68 k\n",
      "  Estimated disk space usage: 18.58MiB\n",
      "  Estimated required memory usage: 511.6MiB\n",
      ".......... .......... .......... .......... ..........   5% ∆412ms\n",
      ".......... .......... .......... .......... ..........  10% ∆406ms\n",
      ".......... .......... .......... .......... ..........  15% ∆1ms\n",
      ".......... .......... .......... .......... ..........  20% ∆203ms\n",
      ".......... .......... .......... .......... ..........  25% ∆1ms\n",
      ".......... .......... .......... .......... ..........  30% ∆1ms\n",
      ".......... .....-.... .......... .......... ..........  35% ∆203ms\n",
      ".......... .......... .......... .......... ..........  40% ∆1ms\n",
      ".......... .......... .......... .......... ..........  45% ∆0ms\n",
      ".......... .......... .......... .......... ..........  50% ∆1ms\n",
      ".......... .......... .......... .......... ..........  55% ∆72ms\n",
      ".......... .......... .......... .......... ..........  60% ∆0ms\n",
      ".......... .......... .......... .......... ..........  65% ∆1ms\n",
      ".......... .......... .......... .......... ..........  70% ∆0ms\n",
      ".......... .......... .......... .......... ..........  75% ∆0ms\n",
      ".......... .......... .......... .......... ..........  80% ∆0ms\n",
      ".......... .......... .......... .......... ..........  85% ∆1ms\n",
      ".......... .......... .......... .......... ..........  90% ∆0ms\n",
      ".......... .......... .......... .......... ..........  95% ∆1ms\n",
      ".......... .......... .......... .......... .......... 100% ∆0ms\n",
      "\n",
      "Node import COMPLETED in 1s 532ms\n",
      "\n",
      "(2/4) Relationship import 2024-03-21 12:02:54.883-0700\n",
      "  Estimated number of relationships: 5.11 M\n",
      "  Estimated disk space usage: 560.5MiB\n",
      "  Estimated required memory usage: 518.1MiB\n",
      ".......... .......... .......... .......... ..........   5% ∆1s 12ms\n",
      ".......... .......... .......... .......... ..........  10% ∆204ms\n",
      ".......... .......... .......... .......... ..........  15% ∆404ms\n",
      ".......... .......... .......... .......... ..........  20% ∆204ms\n",
      ".......... .......... .......... .......... ..........  25% ∆402ms\n",
      ".......... .......... .......... .......... ..........  30% ∆202ms\n",
      ".......... .......... .......... .......... ..........  35% ∆203ms\n",
      ".......... .......... .......... .......... ..........  40% ∆407ms\n",
      ".......... .......... .......... .......... ..........  45% ∆204ms\n",
      ".......... .......... .......... .......... ..........  50% ∆404ms\n",
      ".......... .......... .......... .......... ..........  55% ∆205ms\n",
      ".......... .......... .......... .......... ..........  60% ∆204ms\n",
      ".......... .......... .......... .......... ..........  65% ∆409ms\n",
      ".......... .......... .......... .......... ..........  70% ∆204ms\n",
      ".......... .......... .......... .......... ..........  75% ∆402ms\n",
      ".......... .......... .......... .......... ..........  80% ∆202ms\n",
      ".......... .......... .......... .......... ..........  85% ∆408ms\n",
      ".......... .......... .......... .......... ..........  90% ∆201ms\n",
      ".......... .......... .......... .......... ..........  95% ∆405ms\n",
      ".......... .......... .......... .......... .......... 100% ∆898ms\n",
      "\n",
      "Relationship import COMPLETED in 7s 184ms\n",
      "\n",
      "(3/4) Relationship linking 2024-03-21 12:03:02.067-0700\n",
      "  Estimated required memory usage: 511.3MiB\n",
      ".......... .......... .......... .......... ..........   5% ∆204ms\n",
      ".......... .......... .........- .......... ..........  10% ∆202ms\n",
      ".......... .......... .......... .......... ..........  15% ∆567ms\n",
      ".......... .......... .......... .......... ..........  20% ∆1ms\n",
      ".......... .......... .......... .......... ..........  25% ∆221ms\n",
      ".......... .......... .......... .......... ..........  30% ∆1ms\n",
      ".......... .......... .......... .......... ..........  35% ∆203ms\n",
      ".......... .......... .......... .......... ..........  40% ∆0ms\n",
      "........-. .......... .......... .......... ..........  45% ∆446ms\n",
      ".......... .......... .......... .......... ..........  50% ∆500ms\n",
      ".......... .......... .......... .......... ..........  55% ∆0ms\n",
      ".......... .......... .......... .......... ..........  60% ∆1ms\n",
      ".......... .......... .......... .......... ..........  65% ∆204ms\n",
      ".......... .......... .......... .......... ..........  70% ∆0ms\n",
      ".......... .......... .......... .......... ..........  75% ∆2s 272ms\n",
      ".......... .......... .......... .......... ..........  80% ∆1ms\n",
      ".......... .......... .......... .......... ..........  85% ∆0ms\n",
      ".......... .......... .......... .......... ..........  90% ∆0ms\n",
      ".......... .......... .......... .......... ..........  95% ∆1ms\n",
      ".......... .......... .......... .......... .......... 100% ∆0ms\n",
      "\n",
      "Relationship linking COMPLETED in 5s 358ms\n",
      "\n",
      "(4/4) Post processing 2024-03-21 12:03:07.426-0700\n",
      "  Estimated required memory usage: 510.0MiB\n",
      "-......... .......... .......... .......... ..........   5% ∆203ms\n",
      ".......... .......... .......... .......... ..........  10% ∆203ms\n",
      ".......... .......... .......... .......... ..........  15% ∆1ms\n",
      ".......... .......... .......... .......... ..........  20% ∆203ms\n",
      ".......... .......... .......... .......... ..........  25% ∆1ms\n",
      ".......... .......... .......... .......... ..........  30% ∆1ms\n",
      ".......... .......... .......... .......... ..........  35% ∆0ms\n",
      ".......... .......... .......... .......... ..........  40% ∆0ms\n",
      ".......... .......... .......... .......... ..........  45% ∆1ms\n",
      ".......... .......... .......... .......... ..........  50% ∆611ms\n",
      ".......... .......... .......... .......... ..........  55% ∆0ms\n",
      ".......... .......... .......... .......... ..........  60% ∆1ms\n",
      ".......... .......... .......... .......... ..........  65% ∆0ms\n",
      ".......... .......... .......... .......... ..........  70% ∆0ms\n",
      ".......... .......... .......... .......... ..........  75% ∆0ms\n",
      ".......... .......... .......... .......... ..........  80% ∆1ms\n",
      ".......... .......... .......... .......... ..........  85% ∆0ms\n",
      ".......... .......... .......... .......... ..........  90% ∆0ms\n",
      ".......... .......... .......... .......... ..........  95% ∆1ms\n",
      ".......... .......... .......... .......... .......... 100% ∆0ms\n",
      "\n",
      "Post processing COMPLETED in 2s 273ms\n",
      "\n",
      "\n",
      "IMPORT DONE in 18s 782ms. \n",
      "Imported:\n",
      "  127540 nodes\n",
      "  5110496 relationships\n",
      "  15597411 properties\n",
      "Peak memory usage: 548.4MiB\n",
      "\n"
     ]
    },
    {
     "name": "stdout",
     "output_type": "stream",
     "text": [
      "create_database: '/Users/Peter/Library/Application Support/Neo4j Desktop/Application/relate-data/dbmss/dbms-3d4b95d1-0219-480b-a3c4-ee5a409cc383/bin/cypher-shell' -d system -u neo4j -p neo4jdemo 'CREATE OR REPLACE DATABASE `spoke-genelab-v0.0.2`;'\n"
     ]
    },
    {
     "name": "stdout",
     "output_type": "stream",
     "text": [
      "\n"
     ]
    },
    {
     "name": "stdout",
     "output_type": "stream",
     "text": [
      "add_indices: '/Users/Peter/Library/Application Support/Neo4j Desktop/Application/relate-data/dbmss/dbms-3d4b95d1-0219-480b-a3c4-ee5a409cc383/bin/cypher-shell' -d spoke-genelab-v0.0.2 -u neo4j -p neo4jdemo -f '/Users/Peter/Library/Application Support/Neo4j Desktop/Application/relate-data/dbmss/dbms-3d4b95d1-0219-480b-a3c4-ee5a409cc383/import/indices.cypher'\n"
     ]
    },
    {
     "name": "stdout",
     "output_type": "stream",
     "text": [
      "\n"
     ]
    }
   ],
   "source": [
    "neo4j_bulk_importer.import_from_csv_to_neo4j_desktop(verbose=True)"
   ]
  },
  {
   "cell_type": "markdown",
   "id": "c3bc4783-38ff-47af-ab21-6a90eb3343ff",
   "metadata": {
    "id": "c3bc4783-38ff-47af-ab21-6a90eb3343ff",
    "papermill": {
     "duration": 0.202274,
     "end_time": "2024-03-21T19:03:27.732977",
     "exception": false,
     "start_time": "2024-03-21T19:03:27.530703",
     "status": "completed"
    },
    "tags": []
   },
   "source": [
    "### Connect to the local Neo4j Graph database"
   ]
  },
  {
   "cell_type": "code",
   "execution_count": 6,
   "id": "37928585-7936-4e25-9108-eb33f73a512d",
   "metadata": {
    "execution": {
     "iopub.execute_input": "2024-03-21T19:03:28.176867Z",
     "iopub.status.busy": "2024-03-21T19:03:28.176416Z",
     "iopub.status.idle": "2024-03-21T19:03:28.330935Z",
     "shell.execute_reply": "2024-03-21T19:03:28.329076Z"
    },
    "id": "37928585-7936-4e25-9108-eb33f73a512d",
    "papermill": {
     "duration": 0.400907,
     "end_time": "2024-03-21T19:03:28.335409",
     "exception": false,
     "start_time": "2024-03-21T19:03:27.934502",
     "status": "completed"
    },
    "tags": []
   },
   "outputs": [],
   "source": [
    "database = os.environ.get(\"NEO4J_DATABASE\")\n",
    "username = os.environ.get(\"NEO4J_USERNAME\")\n",
    "password = os.environ.get(\"NEO4J_PASSWORD\")\n",
    "stylesheet = os.environ.get(\"NEO4J_STYLESHEET\")\n",
    "\n",
    "graph = Graph(\"bolt://localhost:7687\", name=database, user=username, password=password)"
   ]
  },
  {
   "cell_type": "markdown",
   "id": "eaa077ac-10a5-4537-a470-76e3b657feb6",
   "metadata": {
    "id": "eaa077ac-10a5-4537-a470-76e3b657feb6",
    "papermill": {
     "duration": 0.323666,
     "end_time": "2024-03-21T19:03:28.927450",
     "exception": false,
     "start_time": "2024-03-21T19:03:28.603784",
     "status": "completed"
    },
    "tags": []
   },
   "source": [
    "## Metadata <a class=\"anchor\" id=\"Metadata\"></a>"
   ]
  },
  {
   "cell_type": "markdown",
   "id": "3e53d63e-0477-4cc0-8594-caf9a446568f",
   "metadata": {
    "id": "3e53d63e-0477-4cc0-8594-caf9a446568f",
    "papermill": {
     "duration": 0.221351,
     "end_time": "2024-03-21T19:03:29.418041",
     "exception": false,
     "start_time": "2024-03-21T19:03:29.196690",
     "status": "completed"
    },
    "tags": []
   },
   "source": [
    "### Node metadata\n",
    "spoke_genelab KG is a self-describing KG. The MetaNodes and MetaRelationships define the structure of the KG and the properties of nodes and relationships. The query below lists the nodes and their properties."
   ]
  },
  {
   "cell_type": "code",
   "execution_count": 7,
   "id": "6f5d1ac1-1e9c-440c-92fe-27b07266dd2e",
   "metadata": {
    "colab": {
     "base_uri": "https://localhost:8080/",
     "height": 1000
    },
    "execution": {
     "iopub.execute_input": "2024-03-21T19:03:29.817776Z",
     "iopub.status.busy": "2024-03-21T19:03:29.817166Z",
     "iopub.status.idle": "2024-03-21T19:03:29.888574Z",
     "shell.execute_reply": "2024-03-21T19:03:29.887848Z"
    },
    "id": "6f5d1ac1-1e9c-440c-92fe-27b07266dd2e",
    "outputId": "b97882d3-2ea3-4e2e-89c1-41db6d824657",
    "papermill": {
     "duration": 0.275453,
     "end_time": "2024-03-21T19:03:29.890771",
     "exception": false,
     "start_time": "2024-03-21T19:03:29.615318",
     "status": "completed"
    },
    "scrolled": true,
    "tags": []
   },
   "outputs": [
    {
     "data": {
      "text/html": [
       "<div>\n",
       "<style scoped>\n",
       "    .dataframe tbody tr th:only-of-type {\n",
       "        vertical-align: middle;\n",
       "    }\n",
       "\n",
       "    .dataframe tbody tr th {\n",
       "        vertical-align: top;\n",
       "    }\n",
       "\n",
       "    .dataframe thead th {\n",
       "        text-align: right;\n",
       "    }\n",
       "</style>\n",
       "<table border=\"1\" class=\"dataframe\">\n",
       "  <thead>\n",
       "    <tr style=\"text-align: right;\">\n",
       "      <th></th>\n",
       "      <th>nodeName</th>\n",
       "      <th>identifier</th>\n",
       "      <th>factors_2</th>\n",
       "      <th>material_2</th>\n",
       "      <th>factors_1</th>\n",
       "      <th>material_1</th>\n",
       "      <th>name</th>\n",
       "      <th>material_id_1</th>\n",
       "      <th>material_id_2</th>\n",
       "      <th>technology</th>\n",
       "      <th>measurement</th>\n",
       "      <th>organism</th>\n",
       "      <th>taxonomy</th>\n",
       "      <th>strain</th>\n",
       "      <th>duration</th>\n",
       "      <th>duration_unit</th>\n",
       "    </tr>\n",
       "  </thead>\n",
       "  <tbody>\n",
       "    <tr>\n",
       "      <th>0</th>\n",
       "      <td>Anatomy</td>\n",
       "      <td>UBERON Ontology ID (string)</td>\n",
       "      <td></td>\n",
       "      <td></td>\n",
       "      <td></td>\n",
       "      <td></td>\n",
       "      <td></td>\n",
       "      <td></td>\n",
       "      <td></td>\n",
       "      <td></td>\n",
       "      <td></td>\n",
       "      <td></td>\n",
       "      <td></td>\n",
       "      <td></td>\n",
       "      <td></td>\n",
       "      <td></td>\n",
       "    </tr>\n",
       "    <tr>\n",
       "      <th>1</th>\n",
       "      <td>Assay</td>\n",
       "      <td>GeneLab Data System GLDS-ID-MD5_hashcode(factors and materials) (string)</td>\n",
       "      <td>Second factor(s) in transcriptional profiling (string[])</td>\n",
       "      <td>Second material studied, e.g., cell type, tissue, organ (string)</td>\n",
       "      <td>First factor(s) in transcriptional profiling (string[])</td>\n",
       "      <td>First material studied, e.g., cell type, tissue, organ (string)</td>\n",
       "      <td>Assay name (string)</td>\n",
       "      <td>First material identifier (string)</td>\n",
       "      <td>Second material identifier (string)</td>\n",
       "      <td>Assay technology (string)</td>\n",
       "      <td>Assay measurement type (string)</td>\n",
       "      <td></td>\n",
       "      <td></td>\n",
       "      <td></td>\n",
       "      <td></td>\n",
       "      <td></td>\n",
       "    </tr>\n",
       "    <tr>\n",
       "      <th>2</th>\n",
       "      <td>CellType</td>\n",
       "      <td>Cell Ontology ID (string)</td>\n",
       "      <td></td>\n",
       "      <td></td>\n",
       "      <td></td>\n",
       "      <td></td>\n",
       "      <td></td>\n",
       "      <td></td>\n",
       "      <td></td>\n",
       "      <td></td>\n",
       "      <td></td>\n",
       "      <td></td>\n",
       "      <td></td>\n",
       "      <td></td>\n",
       "      <td></td>\n",
       "      <td></td>\n",
       "    </tr>\n",
       "    <tr>\n",
       "      <th>3</th>\n",
       "      <td>Gene</td>\n",
       "      <td>Gene ENTREZID (string)</td>\n",
       "      <td></td>\n",
       "      <td></td>\n",
       "      <td></td>\n",
       "      <td></td>\n",
       "      <td></td>\n",
       "      <td></td>\n",
       "      <td></td>\n",
       "      <td></td>\n",
       "      <td></td>\n",
       "      <td></td>\n",
       "      <td></td>\n",
       "      <td></td>\n",
       "      <td></td>\n",
       "      <td></td>\n",
       "    </tr>\n",
       "    <tr>\n",
       "      <th>4</th>\n",
       "      <td>MGene</td>\n",
       "      <td>Gene ENTREZID (string)</td>\n",
       "      <td></td>\n",
       "      <td></td>\n",
       "      <td></td>\n",
       "      <td></td>\n",
       "      <td>Gene Symbol (string)</td>\n",
       "      <td></td>\n",
       "      <td></td>\n",
       "      <td></td>\n",
       "      <td></td>\n",
       "      <td>NCBI scientifc organism name (string)</td>\n",
       "      <td>NCBI taxonomy id (string)</td>\n",
       "      <td></td>\n",
       "      <td></td>\n",
       "      <td></td>\n",
       "    </tr>\n",
       "    <tr>\n",
       "      <th>5</th>\n",
       "      <td>Study</td>\n",
       "      <td>NASA Open Science Data Repository ID (string)</td>\n",
       "      <td></td>\n",
       "      <td></td>\n",
       "      <td></td>\n",
       "      <td></td>\n",
       "      <td>Name of the study (string)</td>\n",
       "      <td></td>\n",
       "      <td></td>\n",
       "      <td></td>\n",
       "      <td></td>\n",
       "      <td>NCBI scientific organism name (string)</td>\n",
       "      <td>NCBI taxonomy ID (string)</td>\n",
       "      <td>Organism strain (string)</td>\n",
       "      <td>Exposure duration (string)</td>\n",
       "      <td>The unit of the exposure duration (string)</td>\n",
       "    </tr>\n",
       "  </tbody>\n",
       "</table>\n",
       "</div>"
      ],
      "text/plain": [
       "   nodeName  \\\n",
       "0   Anatomy   \n",
       "1     Assay   \n",
       "2  CellType   \n",
       "3      Gene   \n",
       "4     MGene   \n",
       "5     Study   \n",
       "\n",
       "                                                                 identifier  \\\n",
       "0                                               UBERON Ontology ID (string)   \n",
       "1  GeneLab Data System GLDS-ID-MD5_hashcode(factors and materials) (string)   \n",
       "2                                                 Cell Ontology ID (string)   \n",
       "3                                                    Gene ENTREZID (string)   \n",
       "4                                                    Gene ENTREZID (string)   \n",
       "5                             NASA Open Science Data Repository ID (string)   \n",
       "\n",
       "                                                  factors_2  \\\n",
       "0                                                             \n",
       "1  Second factor(s) in transcriptional profiling (string[])   \n",
       "2                                                             \n",
       "3                                                             \n",
       "4                                                             \n",
       "5                                                             \n",
       "\n",
       "                                                         material_2  \\\n",
       "0                                                                     \n",
       "1  Second material studied, e.g., cell type, tissue, organ (string)   \n",
       "2                                                                     \n",
       "3                                                                     \n",
       "4                                                                     \n",
       "5                                                                     \n",
       "\n",
       "                                                 factors_1  \\\n",
       "0                                                            \n",
       "1  First factor(s) in transcriptional profiling (string[])   \n",
       "2                                                            \n",
       "3                                                            \n",
       "4                                                            \n",
       "5                                                            \n",
       "\n",
       "                                                        material_1  \\\n",
       "0                                                                    \n",
       "1  First material studied, e.g., cell type, tissue, organ (string)   \n",
       "2                                                                    \n",
       "3                                                                    \n",
       "4                                                                    \n",
       "5                                                                    \n",
       "\n",
       "                         name                       material_id_1  \\\n",
       "0                                                                   \n",
       "1         Assay name (string)  First material identifier (string)   \n",
       "2                                                                   \n",
       "3                                                                   \n",
       "4        Gene Symbol (string)                                       \n",
       "5  Name of the study (string)                                       \n",
       "\n",
       "                         material_id_2                 technology  \\\n",
       "0                                                                   \n",
       "1  Second material identifier (string)  Assay technology (string)   \n",
       "2                                                                   \n",
       "3                                                                   \n",
       "4                                                                   \n",
       "5                                                                   \n",
       "\n",
       "                       measurement                                organism  \\\n",
       "0                                                                            \n",
       "1  Assay measurement type (string)                                           \n",
       "2                                                                            \n",
       "3                                                                            \n",
       "4                                    NCBI scientifc organism name (string)   \n",
       "5                                   NCBI scientific organism name (string)   \n",
       "\n",
       "                    taxonomy                    strain  \\\n",
       "0                                                        \n",
       "1                                                        \n",
       "2                                                        \n",
       "3                                                        \n",
       "4  NCBI taxonomy id (string)                             \n",
       "5  NCBI taxonomy ID (string)  Organism strain (string)   \n",
       "\n",
       "                     duration                               duration_unit  \n",
       "0                                                                          \n",
       "1                                                                          \n",
       "2                                                                          \n",
       "3                                                                          \n",
       "4                                                                          \n",
       "5  Exposure duration (string)  The unit of the exposure duration (string)  "
      ]
     },
     "execution_count": 7,
     "metadata": {},
     "output_type": "execute_result"
    }
   ],
   "source": [
    "query = \"\"\"\n",
    "MATCH (n:MetaNode) RETURN n;\n",
    "\"\"\"\n",
    "df = graph.run(query).to_data_frame()\n",
    "metadata = df[\"n\"].tolist()\n",
    "metadata = pd.DataFrame(metadata)\n",
    "metadata.fillna(\"\", inplace=True)\n",
    "metadata"
   ]
  },
  {
   "cell_type": "markdown",
   "id": "c4063e5c-8172-4c5b-a984-e03cdbc52e17",
   "metadata": {
    "id": "c4063e5c-8172-4c5b-a984-e03cdbc52e17",
    "papermill": {
     "duration": 0.198696,
     "end_time": "2024-03-21T19:03:30.288593",
     "exception": false,
     "start_time": "2024-03-21T19:03:30.089897",
     "status": "completed"
    },
    "tags": []
   },
   "source": [
    "### Metagraph <a class=\"anchor\" id=\"Metagraph\"></a>\n",
    "The metagraph shows the node labels and relationship types of the KG. Click on a node to display the node metadata."
   ]
  },
  {
   "cell_type": "code",
   "execution_count": 8,
   "id": "a49b3dfc-bd6e-4402-b093-59a56c1f737c",
   "metadata": {
    "execution": {
     "iopub.execute_input": "2024-03-21T19:03:30.686611Z",
     "iopub.status.busy": "2024-03-21T19:03:30.685936Z",
     "iopub.status.idle": "2024-03-21T19:03:30.883657Z",
     "shell.execute_reply": "2024-03-21T19:03:30.882774Z"
    },
    "id": "a49b3dfc-bd6e-4402-b093-59a56c1f737c",
    "papermill": {
     "duration": 0.40688,
     "end_time": "2024-03-21T19:03:30.886151",
     "exception": false,
     "start_time": "2024-03-21T19:03:30.479271",
     "status": "completed"
    },
    "tags": []
   },
   "outputs": [],
   "source": [
    "query = \"\"\"\n",
    "MATCH p=(:MetaNode)-->(:MetaNode) RETURN p\n",
    "\"\"\"\n",
    "subgraph1 = graph.run(query).to_subgraph()"
   ]
  },
  {
   "cell_type": "code",
   "execution_count": 9,
   "id": "9c72b910-069d-46db-8ab6-beac15d48853",
   "metadata": {
    "colab": {
     "base_uri": "https://localhost:8080/",
     "height": 917,
     "referenced_widgets": [
      "8562374467e44329812ed4c255e4823f",
      "1b1a271ac311485d924de875d260f507",
      "dd2ad83728f04ef4813140e0fe2e89d3",
      "fd5128e6b367477cbc38aecdd23ec323",
      "a80ecb39ebdb45ab96fb07b3bb7405f7",
      "b5905ef9c04442dfa8f9deb0d5d03e67",
      "987d5d0bfa174912aabfa68b2c3b6edc",
      "f0bef2f5d48c406b9119649dc04a9091",
      "895e81dc4ca640e4adce30a9bc375750",
      "644a1f351100400c8857d995775179f0",
      "34cde7cf8c264d63bc205d9801c0c3df",
      "8140dd8177fc4321b10544998bbfd98b",
      "b4b25127ac864effa249b91e2e823a19",
      "c6f82e6c3806407099de1773d633b1f8",
      "78806f8dd1a24871b851fb606ba79c1e",
      "44136abb41de4dc1871038eff0805e4b",
      "52e566c02605441d954e021d0d18ae81",
      "a85c0a00de214b0b88e97f9c00f5c24f",
      "65d5fc84e3b44967aa337e93dfc9fcb3",
      "ed2592e8680340ff9bb0c04f8144a74d",
      "11f8ecbced5948e28c61fd962b44836f",
      "59f362b3aa2646d49538c71654f6b104",
      "31635c37459149f0980230bba6538d85",
      "11a70dbfa08047cda602cf19522cb10c",
      "95f1b0b3a4f442e4864333141b63322e",
      "666702bb807d468a8f7234a11e3735fe",
      "5942f9cdfa6e4a91b4ba951fc6109f35"
     ]
    },
    "execution": {
     "iopub.execute_input": "2024-03-21T19:03:31.284846Z",
     "iopub.status.busy": "2024-03-21T19:03:31.284146Z",
     "iopub.status.idle": "2024-03-21T19:03:31.335102Z",
     "shell.execute_reply": "2024-03-21T19:03:31.334216Z"
    },
    "id": "9c72b910-069d-46db-8ab6-beac15d48853",
    "outputId": "829979ef-b5c5-48ef-8276-1c25eb133423",
    "papermill": {
     "duration": 0.325996,
     "end_time": "2024-03-21T19:03:31.411855",
     "exception": false,
     "start_time": "2024-03-21T19:03:31.085859",
     "status": "completed"
    },
    "tags": []
   },
   "outputs": [
    {
     "data": {
      "application/vnd.jupyter.widget-view+json": {
       "model_id": "5bd270aea2604daab7a1df363c5ee001",
       "version_major": 2,
       "version_minor": 0
      },
      "text/plain": [
       "CytoscapeWidget(cytoscape_layout={'name': 'cola', 'padding': 0, 'nodeSpacing': 65, 'nodeDimensionsIncludeLabel…"
      ]
     },
     "execution_count": 9,
     "metadata": {},
     "output_type": "execute_result"
    }
   ],
   "source": [
    "widget1 = neo4j_utils.draw_graph(subgraph1, stylesheet)\n",
    "widget1.layout.height = \"512px\"\n",
    "widget1.set_layout(name=\"cola\", padding=00, nodeSpacing=65, nodeDimensionsIncludeLabels=True, unconstrIter=15000)\n",
    "widget1"
   ]
  },
  {
   "cell_type": "markdown",
   "id": "13eca098-2fd5-4c4a-8533-489dd5a9e0cc",
   "metadata": {
    "id": "13eca098-2fd5-4c4a-8533-489dd5a9e0cc",
    "papermill": {
     "duration": 0.225531,
     "end_time": "2024-03-21T19:03:31.823409",
     "exception": false,
     "start_time": "2024-03-21T19:03:31.597878",
     "status": "completed"
    },
    "tags": []
   },
   "source": [
    "### Number of Nodes"
   ]
  },
  {
   "cell_type": "code",
   "execution_count": 10,
   "id": "787283c7-114f-495f-ac74-ebd115e07f06",
   "metadata": {
    "colab": {
     "base_uri": "https://localhost:8080/"
    },
    "execution": {
     "iopub.execute_input": "2024-03-21T19:03:32.220313Z",
     "iopub.status.busy": "2024-03-21T19:03:32.219840Z",
     "iopub.status.idle": "2024-03-21T19:03:32.251219Z",
     "shell.execute_reply": "2024-03-21T19:03:32.250522Z"
    },
    "id": "787283c7-114f-495f-ac74-ebd115e07f06",
    "outputId": "16ced473-80c8-4ffd-c293-c7237e030b59",
    "papermill": {
     "duration": 0.226842,
     "end_time": "2024-03-21T19:03:32.253372",
     "exception": false,
     "start_time": "2024-03-21T19:03:32.026530",
     "status": "completed"
    },
    "tags": []
   },
   "outputs": [
    {
     "name": "stdout",
     "output_type": "stream",
     "text": [
      "Total number of nodes: 127540\n"
     ]
    }
   ],
   "source": [
    "query = \"\"\"\n",
    "MATCH (n) RETURN COUNT(n);\n",
    "\"\"\"\n",
    "print(f\"Total number of nodes: {graph.evaluate(query)}\")"
   ]
  },
  {
   "cell_type": "code",
   "execution_count": 11,
   "id": "5b928985-9122-49f6-bd2c-ffb890dece42",
   "metadata": {
    "colab": {
     "base_uri": "https://localhost:8080/",
     "height": 426
    },
    "execution": {
     "iopub.execute_input": "2024-03-21T19:03:32.657067Z",
     "iopub.status.busy": "2024-03-21T19:03:32.656655Z",
     "iopub.status.idle": "2024-03-21T19:03:32.904243Z",
     "shell.execute_reply": "2024-03-21T19:03:32.903069Z"
    },
    "id": "5b928985-9122-49f6-bd2c-ffb890dece42",
    "outputId": "42067944-2b68-443c-f048-ad7100755416",
    "papermill": {
     "duration": 0.457367,
     "end_time": "2024-03-21T19:03:32.907811",
     "exception": false,
     "start_time": "2024-03-21T19:03:32.450444",
     "status": "completed"
    },
    "tags": []
   },
   "outputs": [
    {
     "data": {
      "text/html": [
       "<div>\n",
       "<style scoped>\n",
       "    .dataframe tbody tr th:only-of-type {\n",
       "        vertical-align: middle;\n",
       "    }\n",
       "\n",
       "    .dataframe tbody tr th {\n",
       "        vertical-align: top;\n",
       "    }\n",
       "\n",
       "    .dataframe thead th {\n",
       "        text-align: right;\n",
       "    }\n",
       "</style>\n",
       "<table border=\"1\" class=\"dataframe\">\n",
       "  <thead>\n",
       "    <tr style=\"text-align: right;\">\n",
       "      <th></th>\n",
       "      <th>Node</th>\n",
       "      <th>Count</th>\n",
       "    </tr>\n",
       "  </thead>\n",
       "  <tbody>\n",
       "    <tr>\n",
       "      <th>0</th>\n",
       "      <td>MGene</td>\n",
       "      <td>105984</td>\n",
       "    </tr>\n",
       "    <tr>\n",
       "      <th>1</th>\n",
       "      <td>Gene</td>\n",
       "      <td>19755</td>\n",
       "    </tr>\n",
       "    <tr>\n",
       "      <th>2</th>\n",
       "      <td>Assay</td>\n",
       "      <td>1698</td>\n",
       "    </tr>\n",
       "    <tr>\n",
       "      <th>3</th>\n",
       "      <td>Study</td>\n",
       "      <td>69</td>\n",
       "    </tr>\n",
       "    <tr>\n",
       "      <th>4</th>\n",
       "      <td>Anatomy</td>\n",
       "      <td>25</td>\n",
       "    </tr>\n",
       "    <tr>\n",
       "      <th>5</th>\n",
       "      <td>MetaNode</td>\n",
       "      <td>6</td>\n",
       "    </tr>\n",
       "    <tr>\n",
       "      <th>6</th>\n",
       "      <td>CellType</td>\n",
       "      <td>3</td>\n",
       "    </tr>\n",
       "  </tbody>\n",
       "</table>\n",
       "</div>"
      ],
      "text/plain": [
       "       Node   Count\n",
       "0     MGene  105984\n",
       "1      Gene   19755\n",
       "2     Assay    1698\n",
       "3     Study      69\n",
       "4   Anatomy      25\n",
       "5  MetaNode       6\n",
       "6  CellType       3"
      ]
     },
     "execution_count": 11,
     "metadata": {},
     "output_type": "execute_result"
    }
   ],
   "source": [
    "query = \"\"\"\n",
    "MATCH (n) RETURN labels(n)[0] AS Node, COUNT(n) AS Count\n",
    "ORDER BY Count DESC\n",
    "\"\"\"\n",
    "graph.run(query).to_data_frame()"
   ]
  },
  {
   "cell_type": "markdown",
   "id": "e7a1259d-11b9-4622-bfa3-efb83880365b",
   "metadata": {
    "id": "e7a1259d-11b9-4622-bfa3-efb83880365b",
    "papermill": {
     "duration": 0.195511,
     "end_time": "2024-03-21T19:03:33.299714",
     "exception": false,
     "start_time": "2024-03-21T19:03:33.104203",
     "status": "completed"
    },
    "tags": []
   },
   "source": [
    "### Number of relationships by relationship type"
   ]
  },
  {
   "cell_type": "code",
   "execution_count": 12,
   "id": "901c90ed-e377-46c7-99a1-b107bc7a10df",
   "metadata": {
    "colab": {
     "base_uri": "https://localhost:8080/",
     "height": 488
    },
    "execution": {
     "iopub.execute_input": "2024-03-21T19:03:33.698360Z",
     "iopub.status.busy": "2024-03-21T19:03:33.697762Z",
     "iopub.status.idle": "2024-03-21T19:03:35.697482Z",
     "shell.execute_reply": "2024-03-21T19:03:35.696642Z"
    },
    "id": "901c90ed-e377-46c7-99a1-b107bc7a10df",
    "outputId": "6b872bc0-39db-4fe0-8e1d-99a1b52e7de7",
    "papermill": {
     "duration": 2.206454,
     "end_time": "2024-03-21T19:03:35.699996",
     "exception": false,
     "start_time": "2024-03-21T19:03:33.493542",
     "status": "completed"
    },
    "tags": []
   },
   "outputs": [
    {
     "data": {
      "text/html": [
       "<div>\n",
       "<style scoped>\n",
       "    .dataframe tbody tr th:only-of-type {\n",
       "        vertical-align: middle;\n",
       "    }\n",
       "\n",
       "    .dataframe tbody tr th {\n",
       "        vertical-align: top;\n",
       "    }\n",
       "\n",
       "    .dataframe thead th {\n",
       "        text-align: right;\n",
       "    }\n",
       "</style>\n",
       "<table border=\"1\" class=\"dataframe\">\n",
       "  <thead>\n",
       "    <tr style=\"text-align: right;\">\n",
       "      <th></th>\n",
       "      <th>Relationship</th>\n",
       "      <th>Count</th>\n",
       "    </tr>\n",
       "  </thead>\n",
       "  <tbody>\n",
       "    <tr>\n",
       "      <th>0</th>\n",
       "      <td>MEASURED_AmMG</td>\n",
       "      <td>5046101</td>\n",
       "    </tr>\n",
       "    <tr>\n",
       "      <th>1</th>\n",
       "      <td>IS_ORTHOLOG_MGiG</td>\n",
       "      <td>60972</td>\n",
       "    </tr>\n",
       "    <tr>\n",
       "      <th>2</th>\n",
       "      <td>PERFORMED_SpA</td>\n",
       "      <td>1698</td>\n",
       "    </tr>\n",
       "    <tr>\n",
       "      <th>3</th>\n",
       "      <td>INVESTIGATED_AiA</td>\n",
       "      <td>1665</td>\n",
       "    </tr>\n",
       "    <tr>\n",
       "      <th>4</th>\n",
       "      <td>INVESTIGATED_AiCT</td>\n",
       "      <td>55</td>\n",
       "    </tr>\n",
       "    <tr>\n",
       "      <th>5</th>\n",
       "      <td>MetaRelationship</td>\n",
       "      <td>5</td>\n",
       "    </tr>\n",
       "  </tbody>\n",
       "</table>\n",
       "</div>"
      ],
      "text/plain": [
       "        Relationship    Count\n",
       "0      MEASURED_AmMG  5046101\n",
       "1   IS_ORTHOLOG_MGiG    60972\n",
       "2      PERFORMED_SpA     1698\n",
       "3   INVESTIGATED_AiA     1665\n",
       "4  INVESTIGATED_AiCT       55\n",
       "5   MetaRelationship        5"
      ]
     },
     "execution_count": 12,
     "metadata": {},
     "output_type": "execute_result"
    }
   ],
   "source": [
    "query = \"\"\"\n",
    "MATCH ()-[r]-() RETURN DISTINCT TYPE(r) AS Relationship, COUNT(DISTINCT r) AS Count\n",
    "ORDER BY Count DESC\n",
    "\"\"\"\n",
    "graph.run(query).to_data_frame()"
   ]
  },
  {
   "cell_type": "markdown",
   "id": "5027b942-94da-4e40-b273-a27a929ffe92",
   "metadata": {
    "papermill": {
     "duration": 0.23638,
     "end_time": "2024-03-21T19:03:36.126970",
     "exception": false,
     "start_time": "2024-03-21T19:03:35.890590",
     "status": "completed"
    },
    "tags": []
   },
   "source": [
    "### Example query"
   ]
  },
  {
   "cell_type": "code",
   "execution_count": 13,
   "id": "0727469c-9df4-4683-98ea-ddc37a2cba10",
   "metadata": {
    "execution": {
     "iopub.execute_input": "2024-03-21T19:03:36.536645Z",
     "iopub.status.busy": "2024-03-21T19:03:36.535955Z",
     "iopub.status.idle": "2024-03-21T19:03:36.730194Z",
     "shell.execute_reply": "2024-03-21T19:03:36.729266Z"
    },
    "papermill": {
     "duration": 0.408858,
     "end_time": "2024-03-21T19:03:36.732945",
     "exception": false,
     "start_time": "2024-03-21T19:03:36.324087",
     "status": "completed"
    },
    "tags": []
   },
   "outputs": [],
   "source": [
    "tissue = \"Liver\"\n",
    "threshold = -3.0\n",
    "query = \"\"\"\n",
    "MATCH p=(:Mission)--(s:Study)-[d:DOWNREGULATION_SdMG]->(:MouseGene) WHERE s.tissue = $tissue AND d.log2fc < $threshold RETURN p\n",
    "\"\"\"\n",
    "subgraph2 = graph.run(query, tissue=tissue, threshold=threshold).to_subgraph()"
   ]
  },
  {
   "cell_type": "markdown",
   "id": "ebc65d63",
   "metadata": {
    "tags": [
     "papermill-error-cell-tag"
    ]
   },
   "source": [
    "<span id=\"papermill-error-cell\" style=\"color:red; font-family:Helvetica Neue, Helvetica, Arial, sans-serif; font-size:2em;\">Execution using papermill encountered an exception here and stopped:</span>"
   ]
  },
  {
   "cell_type": "code",
   "execution_count": 14,
   "id": "2b5fa4a1-78cf-45ad-a7e4-590b2ac1ff49",
   "metadata": {
    "execution": {
     "iopub.execute_input": "2024-03-21T19:03:37.134589Z",
     "iopub.status.busy": "2024-03-21T19:03:37.134031Z",
     "iopub.status.idle": "2024-03-21T19:03:37.962373Z",
     "shell.execute_reply": "2024-03-21T19:03:37.961049Z"
    },
    "papermill": {
     "duration": 1.035753,
     "end_time": "2024-03-21T19:03:37.964162",
     "exception": true,
     "start_time": "2024-03-21T19:03:36.928409",
     "status": "failed"
    },
    "tags": []
   },
   "outputs": [
    {
     "ename": "AttributeError",
     "evalue": "'NoneType' object has no attribute 'nodes'",
     "output_type": "error",
     "traceback": [
      "\u001b[0;31m---------------------------------------------------------------------------\u001b[0m",
      "\u001b[0;31mAttributeError\u001b[0m                            Traceback (most recent call last)",
      "Cell \u001b[0;32mIn[14], line 1\u001b[0m\n\u001b[0;32m----> 1\u001b[0m widget2 \u001b[38;5;241m=\u001b[39m \u001b[43mneo4j_utils\u001b[49m\u001b[38;5;241;43m.\u001b[39;49m\u001b[43mdraw_graph\u001b[49m\u001b[43m(\u001b[49m\u001b[43msubgraph2\u001b[49m\u001b[43m,\u001b[49m\u001b[43m \u001b[49m\u001b[43mstylesheet\u001b[49m\u001b[43m)\u001b[49m\n\u001b[1;32m      2\u001b[0m widget2\u001b[38;5;241m.\u001b[39mlayout\u001b[38;5;241m.\u001b[39mheight \u001b[38;5;241m=\u001b[39m \u001b[38;5;124m\"\u001b[39m\u001b[38;5;124m512px\u001b[39m\u001b[38;5;124m\"\u001b[39m\n\u001b[1;32m      3\u001b[0m widget2\u001b[38;5;241m.\u001b[39mset_layout(name\u001b[38;5;241m=\u001b[39m\u001b[38;5;124m\"\u001b[39m\u001b[38;5;124mcola\u001b[39m\u001b[38;5;124m\"\u001b[39m, padding\u001b[38;5;241m=\u001b[39m\u001b[38;5;241m0\u001b[39m, nodeSpacing\u001b[38;5;241m=\u001b[39m\u001b[38;5;241m65\u001b[39m, nodeDimensionsIncludeLabels\u001b[38;5;241m=\u001b[39m\u001b[38;5;28;01mTrue\u001b[39;00m, unconstrIter\u001b[38;5;241m=\u001b[39m\u001b[38;5;241m15000\u001b[39m)\n",
      "File \u001b[0;32m~/GitRepositories/spoke_genelab/codes/neo4j_utils.py:253\u001b[0m, in \u001b[0;36mdraw_graph\u001b[0;34m(subgraph, grass_filename)\u001b[0m\n\u001b[1;32m    251\u001b[0m cytoscape_styles \u001b[38;5;241m=\u001b[39m neo4j2cytoscape_style(neo4j_styles)\n\u001b[1;32m    252\u001b[0m widget \u001b[38;5;241m=\u001b[39m ipycytoscape\u001b[38;5;241m.\u001b[39mCytoscapeWidget()\n\u001b[0;32m--> 253\u001b[0m \u001b[43mwidget\u001b[49m\u001b[38;5;241;43m.\u001b[39;49m\u001b[43mgraph\u001b[49m\u001b[38;5;241;43m.\u001b[39;49m\u001b[43madd_graph_from_neo4j\u001b[49m\u001b[43m(\u001b[49m\u001b[43msubgraph\u001b[49m\u001b[43m)\u001b[49m\n\u001b[1;32m    254\u001b[0m widget\u001b[38;5;241m.\u001b[39mset_style(cytoscape_styles)\n\u001b[1;32m    256\u001b[0m \u001b[38;5;28;01mreturn\u001b[39;00m widget\n",
      "File \u001b[0;32m~/miniconda3/envs/spoke-genelab/lib/python3.10/site-packages/ipycytoscape/cytoscape.py:714\u001b[0m, in \u001b[0;36mGraph.add_graph_from_neo4j\u001b[0;34m(self, g)\u001b[0m\n\u001b[1;32m    711\u001b[0m     \u001b[38;5;28;01mreturn\u001b[39;00m labels \u001b[38;5;241m+\u001b[39m \u001b[38;5;124m\"\u001b[39m\u001b[38;5;130;01m\\n\u001b[39;00m\u001b[38;5;124m\"\u001b[39m \u001b[38;5;241m+\u001b[39m attributes\n\u001b[1;32m    713\u001b[0m \u001b[38;5;66;03m# select labels to be displayed as node labels\u001b[39;00m\n\u001b[0;32m--> 714\u001b[0m priority_labels \u001b[38;5;241m=\u001b[39m \u001b[43mget_node_labels_by_priority\u001b[49m\u001b[43m(\u001b[49m\u001b[43mg\u001b[49m\u001b[43m)\u001b[49m\n\u001b[1;32m    716\u001b[0m \u001b[38;5;66;03m# convert Neo4j nodes to cytoscape nodes\u001b[39;00m\n\u001b[1;32m    717\u001b[0m node_list \u001b[38;5;241m=\u001b[39m \u001b[38;5;28mlist\u001b[39m()\n",
      "File \u001b[0;32m~/miniconda3/envs/spoke-genelab/lib/python3.10/site-packages/ipycytoscape/cytoscape.py:694\u001b[0m, in \u001b[0;36mGraph.add_graph_from_neo4j.<locals>.get_node_labels_by_priority\u001b[0;34m(g)\u001b[0m\n\u001b[1;32m    688\u001b[0m counts \u001b[38;5;241m=\u001b[39m \u001b[38;5;28mdict\u001b[39m()\n\u001b[1;32m    690\u001b[0m \u001b[38;5;66;03m# This counts the number of instances that a node has a particular\u001b[39;00m\n\u001b[1;32m    691\u001b[0m \u001b[38;5;66;03m# label (a node can have multiple labels in Neo4j).\u001b[39;00m\n\u001b[1;32m    692\u001b[0m \u001b[38;5;66;03m# counts.get(label, 0) initializes the count with zero, and then\u001b[39;00m\n\u001b[1;32m    693\u001b[0m \u001b[38;5;66;03m# increments the value if more of the same labels are encountered.\u001b[39;00m\n\u001b[0;32m--> 694\u001b[0m \u001b[38;5;28;01mfor\u001b[39;00m node \u001b[38;5;129;01min\u001b[39;00m \u001b[43mg\u001b[49m\u001b[38;5;241;43m.\u001b[39;49m\u001b[43mnodes\u001b[49m:\n\u001b[1;32m    695\u001b[0m     \u001b[38;5;28;01mfor\u001b[39;00m label \u001b[38;5;129;01min\u001b[39;00m node\u001b[38;5;241m.\u001b[39mlabels:\n\u001b[1;32m    696\u001b[0m         counts[label] \u001b[38;5;241m=\u001b[39m counts\u001b[38;5;241m.\u001b[39mget(label, \u001b[38;5;241m0\u001b[39m) \u001b[38;5;241m+\u001b[39m \u001b[38;5;241m1\u001b[39m\n",
      "\u001b[0;31mAttributeError\u001b[0m: 'NoneType' object has no attribute 'nodes'"
     ]
    }
   ],
   "source": [
    "widget2 = neo4j_utils.draw_graph(subgraph2, stylesheet)\n",
    "widget2.layout.height = \"512px\"\n",
    "widget2.set_layout(name=\"cola\", padding=0, nodeSpacing=65, nodeDimensionsIncludeLabels=True, unconstrIter=15000)\n",
    "widget2"
   ]
  },
  {
   "cell_type": "markdown",
   "id": "2Qcmp_gIizxc",
   "metadata": {
    "id": "2Qcmp_gIizxc",
    "papermill": {
     "duration": null,
     "end_time": null,
     "exception": null,
     "start_time": null,
     "status": "pending"
    },
    "tags": []
   },
   "source": [
    "## Fulltext Search <a class=\"anchor\" id=\"Fulltext Search\"></a>"
   ]
  },
  {
   "cell_type": "markdown",
   "id": "76726091-e244-49bb-a659-7d98cb5abfeb",
   "metadata": {
    "id": "76726091-e244-49bb-a659-7d98cb5abfeb",
    "papermill": {
     "duration": null,
     "end_time": null,
     "exception": null,
     "start_time": null,
     "status": "pending"
    },
    "tags": []
   },
   "source": [
    "### Full text query by keyword or phrase\n",
    "A full text query returns all nodes that match the text query ([Query Syntax](https://lucene.apache.org/core/5_5_0/queryparser/org/apache/lucene/queryparser/classic/package-summary.html#Overview)). For exact matches, enclose the phrase in double quotes, e.g., ```'\"muscle\"'```.\n",
    "\n",
    "[Learn more about full-text searches.](https://graphaware.com/neo4j/2019/01/11/neo4j-full-text-search-deep-dive.html)"
   ]
  },
  {
   "cell_type": "code",
   "execution_count": null,
   "id": "afa6352a-5a26-432c-ab15-570de57cad1c",
   "metadata": {
    "id": "afa6352a-5a26-432c-ab15-570de57cad1c",
    "papermill": {
     "duration": null,
     "end_time": null,
     "exception": null,
     "start_time": null,
     "status": "pending"
    },
    "tags": []
   },
   "outputs": [],
   "source": [
    "phrase = '\"muscle\"'\n",
    "top_n = 5 # show top n hits"
   ]
  },
  {
   "cell_type": "code",
   "execution_count": null,
   "id": "04fae75e-8f9a-4fde-b2ef-864d44972c0b",
   "metadata": {
    "colab": {
     "base_uri": "https://localhost:8080/",
     "height": 520
    },
    "id": "04fae75e-8f9a-4fde-b2ef-864d44972c0b",
    "outputId": "b0daa371-6540-4ff9-cd03-5f9f3c706602",
    "papermill": {
     "duration": null,
     "end_time": null,
     "exception": null,
     "start_time": null,
     "status": "pending"
    },
    "tags": []
   },
   "outputs": [],
   "source": [
    "query = \"\"\"\n",
    "CALL db.index.fulltext.queryNodes(\"fulltext\", $phrase) YIELD node, score\n",
    "RETURN node.identifier AS identifier, LABELS(node)[0] AS type, node.tissue AS tissue\n",
    "\"\"\"\n",
    "graph.run(query, phrase=phrase).to_data_frame().head(top_n)"
   ]
  },
  {
   "cell_type": "markdown",
   "id": "1ab781a4-170e-4549-a745-e7ecae6d8e31",
   "metadata": {
    "id": "1ab781a4-170e-4549-a745-e7ecae6d8e31",
    "papermill": {
     "duration": null,
     "end_time": null,
     "exception": null,
     "start_time": null,
     "status": "pending"
    },
    "tags": []
   },
   "source": [
    "### Full text query using boolean operators\n",
    "The full text query supports a variety of query types, including fuzzy, proximity, and range queries, as well as boolean operators ([Query Syntax](https://lucene.apache.org/core/5_5_0/queryparser/org/apache/lucene/queryparser/classic/package-summary.html#Overview)). The following example uses a query with an ```AND``` operator."
   ]
  },
  {
   "cell_type": "code",
   "execution_count": null,
   "id": "82d1eb18-eeec-4a5e-b40d-46f0e3c5e802",
   "metadata": {
    "id": "82d1eb18-eeec-4a5e-b40d-46f0e3c5e802",
    "papermill": {
     "duration": null,
     "end_time": null,
     "exception": null,
     "start_time": null,
     "status": "pending"
    },
    "tags": []
   },
   "outputs": [],
   "source": [
    "phrase = 'Rodent Research AND Mus musculus'"
   ]
  },
  {
   "cell_type": "code",
   "execution_count": null,
   "id": "8167ccde-a6fd-4a55-818b-bde2e6309cad",
   "metadata": {
    "colab": {
     "base_uri": "https://localhost:8080/",
     "height": 551
    },
    "id": "8167ccde-a6fd-4a55-818b-bde2e6309cad",
    "outputId": "b8359319-ef59-4d0b-a324-2f50a5cafd59",
    "papermill": {
     "duration": null,
     "end_time": null,
     "exception": null,
     "start_time": null,
     "status": "pending"
    },
    "tags": []
   },
   "outputs": [],
   "source": [
    "query = \"\"\"\n",
    "CALL db.index.fulltext.queryNodes(\"fulltext\", $phrase) YIELD node, score\n",
    "RETURN node.identifier AS identifier, LABELS(node)[0] AS type, node.name AS name, score\n",
    "ORDER BY type\n",
    "\"\"\"\n",
    "graph.run(query, phrase=phrase).to_data_frame()"
   ]
  },
  {
   "cell_type": "code",
   "execution_count": null,
   "id": "c901be05-f052-4f94-810b-cda87c240faf",
   "metadata": {
    "papermill": {
     "duration": null,
     "end_time": null,
     "exception": null,
     "start_time": null,
     "status": "pending"
    },
    "tags": []
   },
   "outputs": [],
   "source": []
  }
 ],
 "metadata": {
  "colab": {
   "include_colab_link": true,
   "provenance": []
  },
  "kernelspec": {
   "display_name": "Python 3 (ipykernel)",
   "language": "python",
   "name": "python3"
  },
  "language_info": {
   "codemirror_mode": {
    "name": "ipython",
    "version": 3
   },
   "file_extension": ".py",
   "mimetype": "text/x-python",
   "name": "python",
   "nbconvert_exporter": "python",
   "pygments_lexer": "ipython3",
   "version": "3.10.13"
  },
  "papermill": {
   "default_parameters": {},
   "duration": 89.663944,
   "end_time": "2024-03-21T19:03:40.784452",
   "environment_variables": {},
   "exception": true,
   "input_path": "import_to_desktop.ipynb",
   "output_path": "out.ipynb",
   "parameters": {},
   "start_time": "2024-03-21T19:02:11.120508",
   "version": "2.5.0"
  },
  "widgets": {
   "application/vnd.jupyter.widget-state+json": {
    "state": {
     "071008b714764e3193e49d51340d5a4b": {
      "model_module": "@jupyter-widgets/base",
      "model_module_version": "2.0.0",
      "model_name": "LayoutModel",
      "state": {
       "_model_module": "@jupyter-widgets/base",
       "_model_module_version": "2.0.0",
       "_model_name": "LayoutModel",
       "_view_count": null,
       "_view_module": "@jupyter-widgets/base",
       "_view_module_version": "2.0.0",
       "_view_name": "LayoutView",
       "align_content": null,
       "align_items": null,
       "align_self": null,
       "border_bottom": null,
       "border_left": null,
       "border_right": null,
       "border_top": null,
       "bottom": null,
       "display": null,
       "flex": null,
       "flex_flow": null,
       "grid_area": null,
       "grid_auto_columns": null,
       "grid_auto_flow": null,
       "grid_auto_rows": null,
       "grid_column": null,
       "grid_gap": null,
       "grid_row": null,
       "grid_template_areas": null,
       "grid_template_columns": null,
       "grid_template_rows": null,
       "height": null,
       "justify_content": null,
       "justify_items": null,
       "left": null,
       "margin": null,
       "max_height": null,
       "max_width": null,
       "min_height": null,
       "min_width": null,
       "object_fit": null,
       "object_position": null,
       "order": null,
       "overflow": null,
       "padding": null,
       "right": null,
       "top": null,
       "visibility": null,
       "width": null
      }
     },
     "10f5d5ae60df4d67811195e4165b4d7e": {
      "model_module": "@jupyter-widgets/base",
      "model_module_version": "2.0.0",
      "model_name": "LayoutModel",
      "state": {
       "_model_module": "@jupyter-widgets/base",
       "_model_module_version": "2.0.0",
       "_model_name": "LayoutModel",
       "_view_count": null,
       "_view_module": "@jupyter-widgets/base",
       "_view_module_version": "2.0.0",
       "_view_name": "LayoutView",
       "align_content": null,
       "align_items": null,
       "align_self": null,
       "border_bottom": null,
       "border_left": null,
       "border_right": null,
       "border_top": null,
       "bottom": null,
       "display": null,
       "flex": null,
       "flex_flow": null,
       "grid_area": null,
       "grid_auto_columns": null,
       "grid_auto_flow": null,
       "grid_auto_rows": null,
       "grid_column": null,
       "grid_gap": null,
       "grid_row": null,
       "grid_template_areas": null,
       "grid_template_columns": null,
       "grid_template_rows": null,
       "height": null,
       "justify_content": null,
       "justify_items": null,
       "left": null,
       "margin": null,
       "max_height": null,
       "max_width": null,
       "min_height": null,
       "min_width": null,
       "object_fit": null,
       "object_position": null,
       "order": null,
       "overflow": null,
       "padding": null,
       "right": null,
       "top": null,
       "visibility": null,
       "width": null
      }
     },
     "1933f70d440d458e87b629e6c9651440": {
      "model_module": "jupyter-cytoscape",
      "model_module_version": "^1.3.3",
      "model_name": "GraphModel",
      "state": {
       "_adj": {},
       "_model_module": "jupyter-cytoscape",
       "_model_module_version": "^1.3.3",
       "_model_name": "GraphModel",
       "_view_count": null,
       "_view_module": "jupyter-cytoscape",
       "_view_module_version": "^1.3.3",
       "_view_name": null,
       "edges": [],
       "nodes": []
      }
     },
     "1aeacddf8c594a6da00b8e0e3cd9924b": {
      "model_module": "jupyter-cytoscape",
      "model_module_version": "^1.3.3",
      "model_name": "NodeModel",
      "state": {
       "_model_module": "jupyter-cytoscape",
       "_model_module_version": "^1.3.3",
       "_model_name": "NodeModel",
       "_view_count": null,
       "_view_module": "jupyter-cytoscape",
       "_view_module_version": "^1.3.3",
       "_view_name": "NodeView",
       "classes": "",
       "data": {
        "id": 23206,
        "identifier": "Gene ENTREZID (string)",
        "label": "MetaNode",
        "name": "Gene Symbol (string)",
        "nodeName": "MGene",
        "organism": "NCBI scientifc organism name (string)",
        "taxonomy": "NCBI taxonomy id (string)",
        "tooltip": "MetaNode\nname:Gene Symbol (string)\nnodeName:MGene\ntaxonomy:NCBI taxonomy id (string)\nidentifier:Gene ENTREZID (string)\norganism:NCBI scientifc organism name (string)"
       },
       "grabbable": true,
       "grabbed": false,
       "locked": false,
       "pannable": false,
       "position": {},
       "removed": false,
       "selectable": false,
       "selected": false
      }
     },
     "1df30b8b07374ae2b13ff73af5e96082": {
      "model_module": "jupyter-cytoscape",
      "model_module_version": "^1.3.3",
      "model_name": "NodeModel",
      "state": {
       "_model_module": "jupyter-cytoscape",
       "_model_module_version": "^1.3.3",
       "_model_name": "NodeModel",
       "_view_count": null,
       "_view_module": "jupyter-cytoscape",
       "_view_module_version": "^1.3.3",
       "_view_name": "NodeView",
       "classes": "",
       "data": {
        "factors_1": "First factor(s) in transcriptional profiling (string[])",
        "factors_2": "Second factor(s) in transcriptional profiling (string[])",
        "id": 23203,
        "identifier": "GeneLab Data System GLDS-ID-MD5_hashcode(factors and materials) (string)",
        "label": "MetaNode",
        "material_1": "First material studied, e.g., cell type, tissue, organ (string)",
        "material_2": "Second material studied, e.g., cell type, tissue, organ (string)",
        "material_id_1": "First material identifier (string)",
        "material_id_2": "Second material identifier (string)",
        "measurement": "Assay measurement type (string)",
        "name": "Assay name (string)",
        "nodeName": "Assay",
        "technology": "Assay technology (string)",
        "tooltip": "MetaNode\nnodeName:Assay\nidentifier:GeneLab Data System GLDS-ID-MD5_hashcode(factors and materials) (string)\nfactors_2:Second factor(s) in transcriptional profiling (string[])\nmaterial_2:Second material studied, e.g., cell type, tissue, organ (string)\nfactors_1:First factor(s) in transcriptional profiling (string[])\nmaterial_1:First material studied, e.g., cell type, tissue, organ (string)\nname:Assay name (string)\nmaterial_id_1:First material identifier (string)\nmaterial_id_2:Second material identifier (string)\ntechnology:Assay technology (string)\nmeasurement:Assay measurement type (string)"
       },
       "grabbable": true,
       "grabbed": false,
       "locked": false,
       "pannable": false,
       "position": {},
       "removed": false,
       "selectable": false,
       "selected": false
      }
     },
     "1ff660e6ee404baa9627bd56249fe852": {
      "model_module": "@jupyter-widgets/controls",
      "model_module_version": "2.0.0",
      "model_name": "ProgressStyleModel",
      "state": {
       "_model_module": "@jupyter-widgets/controls",
       "_model_module_version": "2.0.0",
       "_model_name": "ProgressStyleModel",
       "_view_count": null,
       "_view_module": "@jupyter-widgets/base",
       "_view_module_version": "2.0.0",
       "_view_name": "StyleView",
       "bar_color": null,
       "description_width": ""
      }
     },
     "2f19f80c8f514bcaa1e5f46ee0256c32": {
      "model_module": "jupyter-cytoscape",
      "model_module_version": "^1.3.3",
      "model_name": "EdgeModel",
      "state": {
       "_model_module": "jupyter-cytoscape",
       "_model_module_version": "^1.3.3",
       "_model_name": "EdgeModel",
       "_view_count": null,
       "_view_module": "jupyter-cytoscape",
       "_view_module_version": "^1.3.3",
       "_view_name": "EdgeView",
       "classes": " directed  multiple_edges ",
       "data": {
        "from": "GeneLab Data System GLDS-ID-MD5_hashcode(factors and materials) (string)",
        "name": "MetaRelationship",
        "relationshipName": "INVESTIGATED_AiCT",
        "source": 23203,
        "target": 23204,
        "to": "Cell Ontology ID (string)"
       },
       "pannable": true,
       "removed": false,
       "selectable": false,
       "selected": false
      }
     },
     "32df9a982fc64e1e8700bf0eb349aff1": {
      "model_module": "jupyter-cytoscape",
      "model_module_version": "^1.3.3",
      "model_name": "EdgeModel",
      "state": {
       "_model_module": "jupyter-cytoscape",
       "_model_module_version": "^1.3.3",
       "_model_name": "EdgeModel",
       "_view_count": null,
       "_view_module": "jupyter-cytoscape",
       "_view_module_version": "^1.3.3",
       "_view_name": "EdgeView",
       "classes": " directed  multiple_edges ",
       "data": {
        "from": "GeneLab Data System GLDS-ID-MD5_hashcode(factors and materials) (string)",
        "name": "MetaRelationship",
        "relationshipName": "INVESTIGATED_AiA",
        "source": 23203,
        "target": 23202,
        "to": "UBERON Ontology ID (string)"
       },
       "pannable": true,
       "removed": false,
       "selectable": false,
       "selected": false
      }
     },
     "33c7956ad15546e9b867ef1249f7500d": {
      "model_module": "@jupyter-widgets/controls",
      "model_module_version": "2.0.0",
      "model_name": "HTMLStyleModel",
      "state": {
       "_model_module": "@jupyter-widgets/controls",
       "_model_module_version": "2.0.0",
       "_model_name": "HTMLStyleModel",
       "_view_count": null,
       "_view_module": "@jupyter-widgets/base",
       "_view_module_version": "2.0.0",
       "_view_name": "StyleView",
       "background": null,
       "description_width": "",
       "font_size": null,
       "text_color": null
      }
     },
     "3dbc65cd2b6f4bdb8e2fb471b1fb8230": {
      "model_module": "jupyter-cytoscape",
      "model_module_version": "^1.3.3",
      "model_name": "CytoscapeModel",
      "state": {
       "_dom_classes": [],
       "_interaction_handlers": {},
       "_model_module": "jupyter-cytoscape",
       "_model_module_version": "^1.3.3",
       "_model_name": "CytoscapeModel",
       "_view_count": null,
       "_view_module": "jupyter-cytoscape",
       "_view_module_version": "^1.3.3",
       "_view_name": "CytoscapeView",
       "auto_ungrabify": false,
       "auto_unselectify": true,
       "autolock": false,
       "box_selection_enabled": false,
       "cytoscape_layout": {
        "name": "cola"
       },
       "cytoscape_style": [
        {
         "css": {
          "background-color": "#11479e"
         },
         "selector": "node"
        },
        {
         "css": {
          "background-opacity": 0.333
         },
         "selector": "node:parent"
        },
        {
         "selector": "edge",
         "style": {
          "line-color": "#9dbaea",
          "width": 4
         }
        },
        {
         "selector": "edge.directed",
         "style": {
          "curve-style": "bezier",
          "target-arrow-color": "#9dbaea",
          "target-arrow-shape": "triangle"
         }
        },
        {
         "selector": "edge.multiple_edges",
         "style": {
          "curve-style": "bezier"
         }
        }
       ],
       "desktop_tap_threshold": 4,
       "graph": "IPY_MODEL_1933f70d440d458e87b629e6c9651440",
       "headless": false,
       "hide_edges_on_viewport": false,
       "layout": "IPY_MODEL_10f5d5ae60df4d67811195e4165b4d7e",
       "max_zoom": 1e+50,
       "min_zoom": 1e-50,
       "motion_blur": false,
       "motion_blur_opacity": 0.2,
       "panning_enabled": true,
       "pixel_ratio": "auto",
       "rendered_position": {
        "renderedPosition": {
         "x": 100,
         "y": 100
        }
       },
       "selection_type": "single",
       "style_enabled": true,
       "tabbable": null,
       "texture_on_viewport": false,
       "tooltip": null,
       "tooltip_source": "tooltip",
       "touch_tap_threshold": 8,
       "user_panning_enabled": true,
       "user_zooming_enabled": true,
       "wheel_sensitivity": 1.0,
       "zoom": 2.0,
       "zooming_enabled": true
      }
     },
     "5bd270aea2604daab7a1df363c5ee001": {
      "model_module": "jupyter-cytoscape",
      "model_module_version": "^1.3.3",
      "model_name": "CytoscapeModel",
      "state": {
       "_dom_classes": [],
       "_interaction_handlers": {},
       "_model_module": "jupyter-cytoscape",
       "_model_module_version": "^1.3.3",
       "_model_name": "CytoscapeModel",
       "_view_count": null,
       "_view_module": "jupyter-cytoscape",
       "_view_module_version": "^1.3.3",
       "_view_name": "CytoscapeView",
       "auto_ungrabify": false,
       "auto_unselectify": true,
       "autolock": false,
       "box_selection_enabled": false,
       "cytoscape_layout": {
        "name": "cola",
        "nodeDimensionsIncludeLabels": true,
        "nodeSpacing": 65,
        "padding": 0,
        "unconstrIter": 15000
       },
       "cytoscape_style": [],
       "desktop_tap_threshold": 4,
       "graph": "IPY_MODEL_6dfec557a19140419ca43d47f2658e8c",
       "headless": false,
       "hide_edges_on_viewport": false,
       "layout": "IPY_MODEL_9a3b31bd0a6b4e669f36578facd107c7",
       "max_zoom": 1e+50,
       "min_zoom": 1e-50,
       "motion_blur": false,
       "motion_blur_opacity": 0.2,
       "panning_enabled": true,
       "pixel_ratio": "auto",
       "rendered_position": {
        "renderedPosition": {
         "x": 100,
         "y": 100
        }
       },
       "selection_type": "single",
       "style_enabled": true,
       "tabbable": null,
       "texture_on_viewport": false,
       "tooltip": null,
       "tooltip_source": "tooltip",
       "touch_tap_threshold": 8,
       "user_panning_enabled": true,
       "user_zooming_enabled": true,
       "wheel_sensitivity": 1.0,
       "zoom": 2.0,
       "zooming_enabled": true
      }
     },
     "5c6681db20c14649a5d8c8bd85cbd80b": {
      "model_module": "@jupyter-widgets/controls",
      "model_module_version": "2.0.0",
      "model_name": "HTMLStyleModel",
      "state": {
       "_model_module": "@jupyter-widgets/controls",
       "_model_module_version": "2.0.0",
       "_model_name": "HTMLStyleModel",
       "_view_count": null,
       "_view_module": "@jupyter-widgets/base",
       "_view_module_version": "2.0.0",
       "_view_name": "StyleView",
       "background": null,
       "description_width": "",
       "font_size": null,
       "text_color": null
      }
     },
     "5d5c6b7540b946c0a9977f152399610d": {
      "model_module": "@jupyter-widgets/base",
      "model_module_version": "2.0.0",
      "model_name": "LayoutModel",
      "state": {
       "_model_module": "@jupyter-widgets/base",
       "_model_module_version": "2.0.0",
       "_model_name": "LayoutModel",
       "_view_count": null,
       "_view_module": "@jupyter-widgets/base",
       "_view_module_version": "2.0.0",
       "_view_name": "LayoutView",
       "align_content": null,
       "align_items": null,
       "align_self": null,
       "border_bottom": null,
       "border_left": null,
       "border_right": null,
       "border_top": null,
       "bottom": null,
       "display": null,
       "flex": null,
       "flex_flow": null,
       "grid_area": null,
       "grid_auto_columns": null,
       "grid_auto_flow": null,
       "grid_auto_rows": null,
       "grid_column": null,
       "grid_gap": null,
       "grid_row": null,
       "grid_template_areas": null,
       "grid_template_columns": null,
       "grid_template_rows": null,
       "height": null,
       "justify_content": null,
       "justify_items": null,
       "left": null,
       "margin": null,
       "max_height": null,
       "max_width": null,
       "min_height": null,
       "min_width": null,
       "object_fit": null,
       "object_position": null,
       "order": null,
       "overflow": null,
       "padding": null,
       "right": null,
       "top": null,
       "visibility": null,
       "width": null
      }
     },
     "6dfec557a19140419ca43d47f2658e8c": {
      "model_module": "jupyter-cytoscape",
      "model_module_version": "^1.3.3",
      "model_name": "GraphModel",
      "state": {
       "_adj": {
        "23202": {},
        "23203": {},
        "23204": {},
        "23205": {},
        "23206": {},
        "23207": {}
       },
       "_model_module": "jupyter-cytoscape",
       "_model_module_version": "^1.3.3",
       "_model_name": "GraphModel",
       "_view_count": null,
       "_view_module": "jupyter-cytoscape",
       "_view_module_version": "^1.3.3",
       "_view_name": null,
       "edges": [
        "IPY_MODEL_2f19f80c8f514bcaa1e5f46ee0256c32",
        "IPY_MODEL_a73ef8323ab2459baaa8a74b1dfe2340",
        "IPY_MODEL_32df9a982fc64e1e8700bf0eb349aff1",
        "IPY_MODEL_c1f8b70989e94e3f9be162b3f83d42b7",
        "IPY_MODEL_ce3e40cd256d4d86997312774809bc55"
       ],
       "nodes": [
        "IPY_MODEL_e5e5a2cb531c47729c60d143f094aed0",
        "IPY_MODEL_f4d4099d6ec8440a84cbc3dadf01f949",
        "IPY_MODEL_1aeacddf8c594a6da00b8e0e3cd9924b",
        "IPY_MODEL_dee13195f1dd49c4b53fbcf74cc6f249",
        "IPY_MODEL_ffd8465ae10443b5a7369b79a7611910",
        "IPY_MODEL_1df30b8b07374ae2b13ff73af5e96082"
       ]
      }
     },
     "6f14372784974329a83d5a69f6e3bbe2": {
      "model_module": "@jupyter-widgets/controls",
      "model_module_version": "2.0.0",
      "model_name": "FloatProgressModel",
      "state": {
       "_dom_classes": [],
       "_model_module": "@jupyter-widgets/controls",
       "_model_module_version": "2.0.0",
       "_model_name": "FloatProgressModel",
       "_view_count": null,
       "_view_module": "@jupyter-widgets/controls",
       "_view_module_version": "2.0.0",
       "_view_name": "ProgressView",
       "bar_style": "success",
       "description": "",
       "description_allow_html": false,
       "layout": "IPY_MODEL_5d5c6b7540b946c0a9977f152399610d",
       "max": 85.0,
       "min": 0.0,
       "orientation": "horizontal",
       "style": "IPY_MODEL_1ff660e6ee404baa9627bd56249fe852",
       "tabbable": null,
       "tooltip": null,
       "value": 85.0
      }
     },
     "7055fda6e82b48b5a9fb1256ecd8b016": {
      "model_module": "@jupyter-widgets/controls",
      "model_module_version": "2.0.0",
      "model_name": "HTMLModel",
      "state": {
       "_dom_classes": [],
       "_model_module": "@jupyter-widgets/controls",
       "_model_module_version": "2.0.0",
       "_model_name": "HTMLModel",
       "_view_count": null,
       "_view_module": "@jupyter-widgets/controls",
       "_view_module_version": "2.0.0",
       "_view_name": "HTMLView",
       "description": "",
       "description_allow_html": false,
       "layout": "IPY_MODEL_071008b714764e3193e49d51340d5a4b",
       "placeholder": "​",
       "style": "IPY_MODEL_5c6681db20c14649a5d8c8bd85cbd80b",
       "tabbable": null,
       "tooltip": null,
       "value": "Executing: 100%"
      }
     },
     "716f6f1e7c6545248330eb5bfd6f3e77": {
      "model_module": "@jupyter-widgets/controls",
      "model_module_version": "2.0.0",
      "model_name": "HTMLModel",
      "state": {
       "_dom_classes": [],
       "_model_module": "@jupyter-widgets/controls",
       "_model_module_version": "2.0.0",
       "_model_name": "HTMLModel",
       "_view_count": null,
       "_view_module": "@jupyter-widgets/controls",
       "_view_module_version": "2.0.0",
       "_view_name": "HTMLView",
       "description": "",
       "description_allow_html": false,
       "layout": "IPY_MODEL_92a0159fe8af4757a5efd5dc38c310ef",
       "placeholder": "​",
       "style": "IPY_MODEL_33c7956ad15546e9b867ef1249f7500d",
       "tabbable": null,
       "tooltip": null,
       "value": " 85/85 [00:08&lt;00:00, 12.11cell/s]"
      }
     },
     "92a0159fe8af4757a5efd5dc38c310ef": {
      "model_module": "@jupyter-widgets/base",
      "model_module_version": "2.0.0",
      "model_name": "LayoutModel",
      "state": {
       "_model_module": "@jupyter-widgets/base",
       "_model_module_version": "2.0.0",
       "_model_name": "LayoutModel",
       "_view_count": null,
       "_view_module": "@jupyter-widgets/base",
       "_view_module_version": "2.0.0",
       "_view_name": "LayoutView",
       "align_content": null,
       "align_items": null,
       "align_self": null,
       "border_bottom": null,
       "border_left": null,
       "border_right": null,
       "border_top": null,
       "bottom": null,
       "display": null,
       "flex": null,
       "flex_flow": null,
       "grid_area": null,
       "grid_auto_columns": null,
       "grid_auto_flow": null,
       "grid_auto_rows": null,
       "grid_column": null,
       "grid_gap": null,
       "grid_row": null,
       "grid_template_areas": null,
       "grid_template_columns": null,
       "grid_template_rows": null,
       "height": null,
       "justify_content": null,
       "justify_items": null,
       "left": null,
       "margin": null,
       "max_height": null,
       "max_width": null,
       "min_height": null,
       "min_width": null,
       "object_fit": null,
       "object_position": null,
       "order": null,
       "overflow": null,
       "padding": null,
       "right": null,
       "top": null,
       "visibility": null,
       "width": null
      }
     },
     "9a3b31bd0a6b4e669f36578facd107c7": {
      "model_module": "@jupyter-widgets/base",
      "model_module_version": "2.0.0",
      "model_name": "LayoutModel",
      "state": {
       "_model_module": "@jupyter-widgets/base",
       "_model_module_version": "2.0.0",
       "_model_name": "LayoutModel",
       "_view_count": null,
       "_view_module": "@jupyter-widgets/base",
       "_view_module_version": "2.0.0",
       "_view_name": "LayoutView",
       "align_content": null,
       "align_items": null,
       "align_self": null,
       "border_bottom": null,
       "border_left": null,
       "border_right": null,
       "border_top": null,
       "bottom": null,
       "display": null,
       "flex": null,
       "flex_flow": null,
       "grid_area": null,
       "grid_auto_columns": null,
       "grid_auto_flow": null,
       "grid_auto_rows": null,
       "grid_column": null,
       "grid_gap": null,
       "grid_row": null,
       "grid_template_areas": null,
       "grid_template_columns": null,
       "grid_template_rows": null,
       "height": "512px",
       "justify_content": null,
       "justify_items": null,
       "left": null,
       "margin": null,
       "max_height": null,
       "max_width": null,
       "min_height": null,
       "min_width": null,
       "object_fit": null,
       "object_position": null,
       "order": null,
       "overflow": null,
       "padding": null,
       "right": null,
       "top": null,
       "visibility": null,
       "width": null
      }
     },
     "a73ef8323ab2459baaa8a74b1dfe2340": {
      "model_module": "jupyter-cytoscape",
      "model_module_version": "^1.3.3",
      "model_name": "EdgeModel",
      "state": {
       "_model_module": "jupyter-cytoscape",
       "_model_module_version": "^1.3.3",
       "_model_name": "EdgeModel",
       "_view_count": null,
       "_view_module": "jupyter-cytoscape",
       "_view_module_version": "^1.3.3",
       "_view_name": "EdgeView",
       "classes": " directed  multiple_edges ",
       "data": {
        "from": "NASA Open Science Data Repository ID (string)",
        "name": "MetaRelationship",
        "relationshipName": "PERFORMED_SpA",
        "source": 23207,
        "target": 23203,
        "to": "GeneLab Data System GLDS-ID-MD5_hashcode(factors and materials) (string)"
       },
       "pannable": true,
       "removed": false,
       "selectable": false,
       "selected": false
      }
     },
     "c1f8b70989e94e3f9be162b3f83d42b7": {
      "model_module": "jupyter-cytoscape",
      "model_module_version": "^1.3.3",
      "model_name": "EdgeModel",
      "state": {
       "_model_module": "jupyter-cytoscape",
       "_model_module_version": "^1.3.3",
       "_model_name": "EdgeModel",
       "_view_count": null,
       "_view_module": "jupyter-cytoscape",
       "_view_module_version": "^1.3.3",
       "_view_name": "EdgeView",
       "classes": " directed  multiple_edges ",
       "data": {
        "adj_p_value": "Adjusted P-Value (float)",
        "direction": "Direction of gene regulation [upregulates|downregulates] (string)",
        "from": "GeneLab Data System GLDS-ID-MD5_hashcode(factors and materials) (string)",
        "log2fc": "Log2 Fold Change (float)",
        "name": "MetaRelationship",
        "relationshipName": "MEASURED_AmMG",
        "source": 23203,
        "target": 23206,
        "to": "Gene ENTREZID (string)"
       },
       "pannable": true,
       "removed": false,
       "selectable": false,
       "selected": false
      }
     },
     "c4bd89ecd2224a57b6acafe0b9dcf465": {
      "model_module": "jupyter-cytoscape",
      "model_module_version": "^1.3.3",
      "model_name": "GraphModel",
      "state": {
       "_adj": {},
       "_model_module": "jupyter-cytoscape",
       "_model_module_version": "^1.3.3",
       "_model_name": "GraphModel",
       "_view_count": null,
       "_view_module": "jupyter-cytoscape",
       "_view_module_version": "^1.3.3",
       "_view_name": null,
       "edges": [],
       "nodes": []
      }
     },
     "c5b7c4d63a2843e7a136bb28d0c2d5bd": {
      "model_module": "jupyter-cytoscape",
      "model_module_version": "^1.3.3",
      "model_name": "GraphModel",
      "state": {
       "_adj": {},
       "_model_module": "jupyter-cytoscape",
       "_model_module_version": "^1.3.3",
       "_model_name": "GraphModel",
       "_view_count": null,
       "_view_module": "jupyter-cytoscape",
       "_view_module_version": "^1.3.3",
       "_view_name": null,
       "edges": [],
       "nodes": []
      }
     },
     "c65837271e634f5594a5e5d3ea826ec3": {
      "model_module": "@jupyter-widgets/base",
      "model_module_version": "2.0.0",
      "model_name": "LayoutModel",
      "state": {
       "_model_module": "@jupyter-widgets/base",
       "_model_module_version": "2.0.0",
       "_model_name": "LayoutModel",
       "_view_count": null,
       "_view_module": "@jupyter-widgets/base",
       "_view_module_version": "2.0.0",
       "_view_name": "LayoutView",
       "align_content": null,
       "align_items": null,
       "align_self": null,
       "border_bottom": null,
       "border_left": null,
       "border_right": null,
       "border_top": null,
       "bottom": null,
       "display": null,
       "flex": null,
       "flex_flow": null,
       "grid_area": null,
       "grid_auto_columns": null,
       "grid_auto_flow": null,
       "grid_auto_rows": null,
       "grid_column": null,
       "grid_gap": null,
       "grid_row": null,
       "grid_template_areas": null,
       "grid_template_columns": null,
       "grid_template_rows": null,
       "height": null,
       "justify_content": null,
       "justify_items": null,
       "left": null,
       "margin": null,
       "max_height": null,
       "max_width": null,
       "min_height": null,
       "min_width": null,
       "object_fit": null,
       "object_position": null,
       "order": null,
       "overflow": null,
       "padding": null,
       "right": null,
       "top": null,
       "visibility": null,
       "width": null
      }
     },
     "ce3e40cd256d4d86997312774809bc55": {
      "model_module": "jupyter-cytoscape",
      "model_module_version": "^1.3.3",
      "model_name": "EdgeModel",
      "state": {
       "_model_module": "jupyter-cytoscape",
       "_model_module_version": "^1.3.3",
       "_model_name": "EdgeModel",
       "_view_count": null,
       "_view_module": "jupyter-cytoscape",
       "_view_module_version": "^1.3.3",
       "_view_name": "EdgeView",
       "classes": " directed  multiple_edges ",
       "data": {
        "from": "Model organism gene ENTREZID (string)",
        "name": "MetaRelationship",
        "relationshipName": "IS_ORTHOLOG_MGiG",
        "source": 23206,
        "target": 23205,
        "to": "Human Gene ENTREZID (string)"
       },
       "pannable": true,
       "removed": false,
       "selectable": false,
       "selected": false
      }
     },
     "dee13195f1dd49c4b53fbcf74cc6f249": {
      "model_module": "jupyter-cytoscape",
      "model_module_version": "^1.3.3",
      "model_name": "NodeModel",
      "state": {
       "_model_module": "jupyter-cytoscape",
       "_model_module_version": "^1.3.3",
       "_model_name": "NodeModel",
       "_view_count": null,
       "_view_module": "jupyter-cytoscape",
       "_view_module_version": "^1.3.3",
       "_view_name": "NodeView",
       "classes": "",
       "data": {
        "duration": "Exposure duration (string)",
        "duration_unit": "The unit of the exposure duration (string)",
        "id": 23207,
        "identifier": "NASA Open Science Data Repository ID (string)",
        "label": "MetaNode",
        "name": "Name of the study (string)",
        "nodeName": "Study",
        "organism": "NCBI scientific organism name (string)",
        "strain": "Organism strain (string)",
        "taxonomy": "NCBI taxonomy ID (string)",
        "tooltip": "MetaNode\nstrain:Organism strain (string)\nduration:Exposure duration (string)\nnodeName:Study\nidentifier:NASA Open Science Data Repository ID (string)\norganism:NCBI scientific organism name (string)\nname:Name of the study (string)\ntaxonomy:NCBI taxonomy ID (string)\nduration_unit:The unit of the exposure duration (string)"
       },
       "grabbable": true,
       "grabbed": false,
       "locked": false,
       "pannable": false,
       "position": {},
       "removed": false,
       "selectable": false,
       "selected": false
      }
     },
     "e5e5a2cb531c47729c60d143f094aed0": {
      "model_module": "jupyter-cytoscape",
      "model_module_version": "^1.3.3",
      "model_name": "NodeModel",
      "state": {
       "_model_module": "jupyter-cytoscape",
       "_model_module_version": "^1.3.3",
       "_model_name": "NodeModel",
       "_view_count": null,
       "_view_module": "jupyter-cytoscape",
       "_view_module_version": "^1.3.3",
       "_view_name": "NodeView",
       "classes": "",
       "data": {
        "id": 23204,
        "identifier": "Cell Ontology ID (string)",
        "label": "MetaNode",
        "nodeName": "CellType",
        "tooltip": "MetaNode\nnodeName:CellType\nidentifier:Cell Ontology ID (string)"
       },
       "grabbable": true,
       "grabbed": false,
       "locked": false,
       "pannable": false,
       "position": {},
       "removed": false,
       "selectable": false,
       "selected": false
      }
     },
     "f4d4099d6ec8440a84cbc3dadf01f949": {
      "model_module": "jupyter-cytoscape",
      "model_module_version": "^1.3.3",
      "model_name": "NodeModel",
      "state": {
       "_model_module": "jupyter-cytoscape",
       "_model_module_version": "^1.3.3",
       "_model_name": "NodeModel",
       "_view_count": null,
       "_view_module": "jupyter-cytoscape",
       "_view_module_version": "^1.3.3",
       "_view_name": "NodeView",
       "classes": "",
       "data": {
        "id": 23205,
        "identifier": "Gene ENTREZID (string)",
        "label": "MetaNode",
        "nodeName": "Gene",
        "tooltip": "MetaNode\nnodeName:Gene\nidentifier:Gene ENTREZID (string)"
       },
       "grabbable": true,
       "grabbed": false,
       "locked": false,
       "pannable": false,
       "position": {},
       "removed": false,
       "selectable": false,
       "selected": false
      }
     },
     "facda194051047a39fcb48eb75030d73": {
      "model_module": "@jupyter-widgets/controls",
      "model_module_version": "2.0.0",
      "model_name": "HBoxModel",
      "state": {
       "_dom_classes": [],
       "_model_module": "@jupyter-widgets/controls",
       "_model_module_version": "2.0.0",
       "_model_name": "HBoxModel",
       "_view_count": null,
       "_view_module": "@jupyter-widgets/controls",
       "_view_module_version": "2.0.0",
       "_view_name": "HBoxView",
       "box_style": "",
       "children": [
        "IPY_MODEL_7055fda6e82b48b5a9fb1256ecd8b016",
        "IPY_MODEL_6f14372784974329a83d5a69f6e3bbe2",
        "IPY_MODEL_716f6f1e7c6545248330eb5bfd6f3e77"
       ],
       "layout": "IPY_MODEL_c65837271e634f5594a5e5d3ea826ec3",
       "tabbable": null,
       "tooltip": null
      }
     },
     "ffd8465ae10443b5a7369b79a7611910": {
      "model_module": "jupyter-cytoscape",
      "model_module_version": "^1.3.3",
      "model_name": "NodeModel",
      "state": {
       "_model_module": "jupyter-cytoscape",
       "_model_module_version": "^1.3.3",
       "_model_name": "NodeModel",
       "_view_count": null,
       "_view_module": "jupyter-cytoscape",
       "_view_module_version": "^1.3.3",
       "_view_name": "NodeView",
       "classes": "",
       "data": {
        "id": 23202,
        "identifier": "UBERON Ontology ID (string)",
        "label": "MetaNode",
        "nodeName": "Anatomy",
        "tooltip": "MetaNode\nnodeName:Anatomy\nidentifier:UBERON Ontology ID (string)"
       },
       "grabbable": true,
       "grabbed": false,
       "locked": false,
       "pannable": false,
       "position": {},
       "removed": false,
       "selectable": false,
       "selected": false
      }
     }
    },
    "version_major": 2,
    "version_minor": 0
   }
  }
 },
 "nbformat": 4,
 "nbformat_minor": 5
}