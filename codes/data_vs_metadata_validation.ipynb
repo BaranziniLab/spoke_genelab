{
 "cells": [
  {
   "cell_type": "code",
   "execution_count": 19,
   "id": "41a6cdb2-f6e3-4158-adc3-2282b48fd6c5",
   "metadata": {},
   "outputs": [],
   "source": [
    "import pandas as pd\n",
    "import os\n",
    "import re\n",
    "from dotenv import load_dotenv\n"
   ]
  },
  {
   "cell_type": "code",
   "execution_count": 20,
   "id": "61d60a76-c82b-48c3-a211-b917d0835c66",
   "metadata": {},
   "outputs": [],
   "source": [
    "load_dotenv('../.env')\n",
    "\n",
    "NEO4J_DATA = os.getenv('NEO4J_DATA')\n",
    "\n",
    "metadata_path = os.path.join(os.path.dirname(NEO4J_DATA), 'metadata')\n"
   ]
  },
  {
   "cell_type": "code",
   "execution_count": 21,
   "id": "bfb199f4-d60b-46e5-b907-e78faa1b0e72",
   "metadata": {},
   "outputs": [],
   "source": [
    "node_files = os.listdir(os.path.join(NEO4J_DATA, 'nodes'))\n",
    "rel_files = os.listdir(os.path.join(NEO4J_DATA, 'relationships'))\n"
   ]
  },
  {
   "cell_type": "code",
   "execution_count": 22,
   "id": "ebb61473-b0ad-418b-9f58-03f1d6f9e409",
   "metadata": {},
   "outputs": [],
   "source": [
    "\n",
    "\n",
    "def get_metadata_filename(string):\n",
    "    pattern = r'\\d{4}-\\d{2}-\\d{2}'\n",
    "    match = re.search(pattern, string)\n",
    "    split_index = match.start()\n",
    "    part1 = string[:split_index]\n",
    "    part2 = string[split_index:]\n",
    "    return part1[0:-1]+'.csv'\n",
    "\n"
   ]
  },
  {
   "cell_type": "code",
   "execution_count": 23,
   "id": "4a8887f2-d260-4706-8c5b-c586bac6f18f",
   "metadata": {},
   "outputs": [
    {
     "name": "stdout",
     "output_type": "stream",
     "text": [
      "identifier data column passed!\n",
      "name data column passed!\n",
      "organism data column passed!\n",
      "taxonomy data column passed!\n",
      "MGene_2024-10-03.csv data file is passed!\n",
      "\n",
      "identifier data column passed!\n",
      "name data column passed!\n",
      "technology data column passed!\n",
      "measurement data column passed!\n",
      "factors_1 data column passed!\n",
      "factors_2 data column passed!\n",
      "material_1 data column passed!\n",
      "material_2 data column passed!\n",
      "material_id_1 data column passed!\n",
      "material_id_2 data column passed!\n",
      "Assay_2024-10-03.csv data file is passed!\n",
      "\n",
      "identifier data column passed!\n",
      "CellType_2024-10-03.csv data file is passed!\n",
      "\n",
      "identifier data column passed!\n",
      "name data column passed!\n",
      "organism data column passed!\n",
      "taxonomy data column passed!\n",
      "strain data column passed!\n",
      "duration data column passed!\n",
      "duration_unit data column passed!\n",
      "Study_2024-10-03.csv data file is passed!\n",
      "\n",
      "identifier data column passed!\n",
      "Gene_2024-10-03.csv data file is passed!\n",
      "\n",
      "identifier data column passed!\n",
      "Anatomy_2024-10-03.csv data file is passed!\n",
      "\n"
     ]
    }
   ],
   "source": [
    "for item in node_files:\n",
    "    node_data = pd.read_csv(os.path.join(NEO4J_DATA, 'nodes', item))\n",
    "    metadata_filename = get_metadata_filename(item)\n",
    "    node_metadata = pd.read_csv(os.path.join(metadata_path, 'nodes', metadata_filename))\n",
    "    node_metadata_properties = list(node_metadata.property.values)\n",
    "    node_data_columns = list(node_data.columns)\n",
    "    passed_count = 0\n",
    "    for node_data_column in node_data_columns:\n",
    "        if node_data_column not in node_metadata_properties:\n",
    "            print(f'{node_data_column} is not in the metadata properties {node_metadata_properties}')\n",
    "        else:\n",
    "            passed_count += 1\n",
    "            print(f'{node_data_column} data column passed!')\n",
    "    if passed_count == len(node_data_columns):\n",
    "        print(f'{item} data file is passed!')\n",
    "    else:\n",
    "        print(f'WARNING!! {item} data file has mismatch with the corresponding metadata file!!')\n",
    "    print('')"
   ]
  },
  {
   "cell_type": "code",
   "execution_count": 24,
   "id": "47abef33-c1fd-439f-bf46-776d24e5dbd7",
   "metadata": {},
   "outputs": [
    {
     "name": "stdout",
     "output_type": "stream",
     "text": [
      "from data column passed!\n",
      "to data column passed!\n",
      "MGene-IS_ORTHOLOG_MGiG-Gene_2024-10-03.csv data file is passed!\n",
      "\n",
      "from data column passed!\n",
      "to data column passed!\n",
      "Assay-INVESTIGATED_AiA-Anatomy_2024-10-03.csv data file is passed!\n",
      "\n",
      "from data column passed!\n",
      "to data column passed!\n",
      "Study-PERFORMED_SpA-Assay_2024-10-03.csv data file is passed!\n",
      "\n"
     ]
    },
    {
     "name": "stderr",
     "output_type": "stream",
     "text": [
      "/var/folders/p1/h56gxdhs5vgb0ztp7h4z606h0000gn/T/ipykernel_81338/4085613081.py:2: DtypeWarning: Columns (1) have mixed types. Specify dtype option on import or set low_memory=False.\n",
      "  rel_data = pd.read_csv(os.path.join(NEO4J_DATA, 'relationships', item))\n"
     ]
    },
    {
     "name": "stdout",
     "output_type": "stream",
     "text": [
      "from data column passed!\n",
      "to data column passed!\n",
      "log2fc data column passed!\n",
      "adj_p_value data column passed!\n",
      "direction data column passed!\n",
      "Assay-MEASURED_AmMG-MGene_2024-10-03.csv data file is passed!\n",
      "\n",
      "from data column passed!\n",
      "to data column passed!\n",
      "Assay-INVESTIGATED_AiCT-CellType_2024-10-03.csv data file is passed!\n",
      "\n"
     ]
    }
   ],
   "source": [
    "for item in rel_files:\n",
    "    rel_data = pd.read_csv(os.path.join(NEO4J_DATA, 'relationships', item))\n",
    "    metadata_filename = get_metadata_filename(item)\n",
    "    node_metadata = pd.read_csv(os.path.join(metadata_path, 'relationships', metadata_filename))\n",
    "    node_metadata_properties = list(node_metadata.property.values)\n",
    "    rel_data_columns = list(rel_data.columns)\n",
    "    passed_count = 0\n",
    "    for rel_data_column in rel_data_columns:\n",
    "        if rel_data_column not in node_metadata_properties:\n",
    "            print(f'{rel_data_column} is not in the metadata properties {node_metadata_properties}')\n",
    "        else:\n",
    "            passed_count += 1\n",
    "            print(f'{rel_data_column} data column passed!')\n",
    "    if passed_count == len(rel_data_columns):\n",
    "        print(f'{item} data file is passed!')\n",
    "    else:\n",
    "        print(f'WARNING!! {item} data file has mismatch with the corresponding metadata file!!')\n",
    "    print('')"
   ]
  },
  {
   "cell_type": "code",
   "execution_count": null,
   "id": "dc0194a7-5445-4f48-a161-d298ab03e028",
   "metadata": {},
   "outputs": [],
   "source": []
  }
 ],
 "metadata": {
  "kernelspec": {
   "display_name": "Python 3 (ipykernel)",
   "language": "python",
   "name": "python3"
  },
  "language_info": {
   "codemirror_mode": {
    "name": "ipython",
    "version": 3
   },
   "file_extension": ".py",
   "mimetype": "text/x-python",
   "name": "python",
   "nbconvert_exporter": "python",
   "pygments_lexer": "ipython3",
   "version": "3.10.13"
  }
 },
 "nbformat": 4,
 "nbformat_minor": 5
}
