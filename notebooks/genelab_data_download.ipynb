{
 "cells": [
  {
   "cell_type": "code",
   "execution_count": 1,
   "id": "279c16bb-c094-4060-948b-dc8f7cb73f04",
   "metadata": {},
   "outputs": [],
   "source": [
    "import pandas as pd\n",
    "import os\n",
    "from tqdm import tqdm\n"
   ]
  },
  {
   "cell_type": "code",
   "execution_count": 33,
   "id": "194e4d70-4aad-4346-8e9f-67ae8e62b466",
   "metadata": {},
   "outputs": [],
   "source": [
    "# DATA_PATH = '../data/20240131-file-urls.csv'\n",
    "DATA_PATH = '../data/20240131_file_urls_with_selected_study_ids.csv'\n",
    "DATA_SAVE_PATH = '../data/genelab_data_in_csv_format.pickle'\n"
   ]
  },
  {
   "cell_type": "markdown",
   "id": "3c0b429b-9b86-49e2-962a-4a89ddb0c4bf",
   "metadata": {},
   "source": [
    "## Reading data file with URLs associated with it"
   ]
  },
  {
   "cell_type": "code",
   "execution_count": 4,
   "id": "774e9678-2a31-41a0-b0b6-559bc633d544",
   "metadata": {},
   "outputs": [],
   "source": [
    "data = pd.read_csv(DATA_PATH)"
   ]
  },
  {
   "cell_type": "markdown",
   "id": "b4a84de1-719c-4bf9-b29d-5cc5567384a8",
   "metadata": {},
   "source": [
    "## Selecting rows with URLs which has data in csv format"
   ]
  },
  {
   "cell_type": "code",
   "execution_count": 9,
   "id": "09120ea3-6b86-4f20-886b-18830f30d7f9",
   "metadata": {},
   "outputs": [
    {
     "name": "stdout",
     "output_type": "stream",
     "text": [
      "CPU times: user 971 ms, sys: 5.17 ms, total: 976 ms\n",
      "Wall time: 974 ms\n"
     ]
    },
    {
     "name": "stderr",
     "output_type": "stream",
     "text": [
      "<timed exec>:8: SettingWithCopyWarning: \n",
      "A value is trying to be set on a copy of a slice from a DataFrame\n",
      "\n",
      "See the caveats in the documentation: https://pandas.pydata.org/pandas-docs/stable/user_guide/indexing.html#returning-a-view-versus-a-copy\n"
     ]
    }
   ],
   "source": [
    "%%time\n",
    "\n",
    "row_index_with_csv = []\n",
    "for row_index in range(data.shape[0]):\n",
    "    if '.csv' in data.iloc[row_index].url:\n",
    "        row_index_with_csv.append(row_index)\n",
    "\n",
    "data_in_csv_format = data.iloc[row_index_with_csv]\n",
    "    \n",
    "data_in_csv_format.drop_duplicates(subset=['url'], inplace=True)\n"
   ]
  },
  {
   "cell_type": "code",
   "execution_count": 21,
   "id": "75cbbc70",
   "metadata": {},
   "outputs": [],
   "source": [
    "\n",
    "data_in_csv_format = data_in_csv_format[data_in_csv_format.url.str.contains('differential_expression.csv')]\n"
   ]
  },
  {
   "cell_type": "markdown",
   "id": "58fbe41a-4518-4bd4-82fb-b4bb3f6a8fdd",
   "metadata": {},
   "source": [
    "## Downloading data"
   ]
  },
  {
   "cell_type": "code",
   "execution_count": 26,
   "id": "1f3303de-b881-467c-8705-468ae0cf9686",
   "metadata": {},
   "outputs": [
    {
     "name": "stderr",
     "output_type": "stream",
     "text": [
      "  3%|█▍                                          | 3/95 [00:20<09:27,  6.17s/it]<timed exec>:4: DtypeWarning: Columns (1,2,3,4,5,6) have mixed types. Specify dtype option on import or set low_memory=False.\n",
      "  5%|██▏                                      | 5/95 [12:23<5:07:02, 204.69s/it]<timed exec>:4: DtypeWarning: Columns (0,1,2,3,4,5,6) have mixed types. Specify dtype option on import or set low_memory=False.\n",
      "  6%|██▌                                     | 6/95 [30:13<12:19:54, 498.82s/it]<timed exec>:4: DtypeWarning: Columns (5) have mixed types. Specify dtype option on import or set low_memory=False.\n",
      "  7%|███                                      | 7/95 [30:48<8:29:16, 347.23s/it]<timed exec>:4: DtypeWarning: Columns (5) have mixed types. Specify dtype option on import or set low_memory=False.\n",
      "  8%|███▍                                     | 8/95 [30:59<5:48:14, 240.16s/it]<timed exec>:4: DtypeWarning: Columns (5) have mixed types. Specify dtype option on import or set low_memory=False.\n",
      "  9%|███▉                                     | 9/95 [31:43<4:16:08, 178.70s/it]<timed exec>:4: DtypeWarning: Columns (5) have mixed types. Specify dtype option on import or set low_memory=False.\n",
      " 13%|█████▏                                   | 12/95 [33:26<1:46:41, 77.12s/it]<timed exec>:4: DtypeWarning: Columns (5) have mixed types. Specify dtype option on import or set low_memory=False.\n",
      " 14%|█████▍                                  | 13/95 [36:39<2:33:27, 112.28s/it]<timed exec>:4: DtypeWarning: Columns (5) have mixed types. Specify dtype option on import or set low_memory=False.\n",
      " 15%|█████▉                                  | 14/95 [38:27<2:29:38, 110.84s/it]<timed exec>:4: DtypeWarning: Columns (5) have mixed types. Specify dtype option on import or set low_memory=False.\n",
      " 16%|██████▎                                 | 15/95 [40:24<2:30:28, 112.86s/it]<timed exec>:4: DtypeWarning: Columns (5) have mixed types. Specify dtype option on import or set low_memory=False.\n",
      " 19%|███████▊                                 | 18/95 [42:47<1:19:00, 61.57s/it]<timed exec>:4: DtypeWarning: Columns (5) have mixed types. Specify dtype option on import or set low_memory=False.\n",
      " 20%|████████▌                                  | 19/95 [43:01<59:56, 47.33s/it]<timed exec>:4: DtypeWarning: Columns (5) have mixed types. Specify dtype option on import or set low_memory=False.\n",
      " 21%|█████████                                  | 20/95 [43:30<52:21, 41.88s/it]<timed exec>:4: DtypeWarning: Columns (4,5) have mixed types. Specify dtype option on import or set low_memory=False.\n",
      " 24%|██████████▍                                | 23/95 [44:22<27:29, 22.91s/it]<timed exec>:4: DtypeWarning: Columns (5) have mixed types. Specify dtype option on import or set low_memory=False.\n",
      " 25%|██████████▊                                | 24/95 [46:08<56:29, 47.74s/it]<timed exec>:4: DtypeWarning: Columns (5) have mixed types. Specify dtype option on import or set low_memory=False.\n",
      " 27%|███████████▊                               | 26/95 [47:23<45:24, 39.49s/it]<timed exec>:4: DtypeWarning: Columns (0,1,2,3,4,6) have mixed types. Specify dtype option on import or set low_memory=False.\n",
      " 38%|████████████████▎                          | 36/95 [49:11<12:33, 12.77s/it]<timed exec>:4: DtypeWarning: Columns (0,1,2,3,4,5,6) have mixed types. Specify dtype option on import or set low_memory=False.\n",
      " 44%|███████████████████                        | 42/95 [50:05<06:54,  7.82s/it]<timed exec>:4: DtypeWarning: Columns (4,5,6) have mixed types. Specify dtype option on import or set low_memory=False.\n",
      " 45%|███████████████████▍                       | 43/95 [50:11<06:19,  7.29s/it]<timed exec>:4: DtypeWarning: Columns (4,5,6) have mixed types. Specify dtype option on import or set low_memory=False.\n",
      " 47%|████████████████████▎                      | 45/95 [50:29<06:40,  8.01s/it]<timed exec>:4: DtypeWarning: Columns (5) have mixed types. Specify dtype option on import or set low_memory=False.\n",
      " 48%|████████████████████▊                      | 46/95 [50:41<07:25,  9.10s/it]<timed exec>:4: DtypeWarning: Columns (5) have mixed types. Specify dtype option on import or set low_memory=False.\n",
      " 49%|█████████████████████▎                     | 47/95 [50:50<07:19,  9.15s/it]<timed exec>:4: DtypeWarning: Columns (5) have mixed types. Specify dtype option on import or set low_memory=False.\n",
      " 51%|█████████████████████▋                     | 48/95 [52:25<27:22, 34.94s/it]<timed exec>:4: DtypeWarning: Columns (5) have mixed types. Specify dtype option on import or set low_memory=False.\n",
      " 52%|██████████████████████▏                    | 49/95 [53:59<40:18, 52.57s/it]<timed exec>:4: DtypeWarning: Columns (5) have mixed types. Specify dtype option on import or set low_memory=False.\n",
      " 53%|██████████████████████▋                    | 50/95 [54:41<37:00, 49.35s/it]<timed exec>:4: DtypeWarning: Columns (5) have mixed types. Specify dtype option on import or set low_memory=False.\n",
      " 59%|█████████████████████████▎                 | 56/95 [55:40<07:36, 11.71s/it]<timed exec>:4: DtypeWarning: Columns (0,1,2,3,4,5,6) have mixed types. Specify dtype option on import or set low_memory=False.\n",
      " 64%|███████████████████████████▌               | 61/95 [57:19<06:58, 12.32s/it]<timed exec>:4: DtypeWarning: Columns (4,5) have mixed types. Specify dtype option on import or set low_memory=False.\n",
      " 67%|████████████████████████████▉              | 64/95 [57:53<05:06,  9.89s/it]<timed exec>:4: DtypeWarning: Columns (1,2,3,4,5,6) have mixed types. Specify dtype option on import or set low_memory=False.\n",
      " 68%|██████████████████████████            | 65/95 [1:05:49<1:14:49, 149.67s/it]<timed exec>:4: DtypeWarning: Columns (0,1,2,3,4,5,6) have mixed types. Specify dtype option on import or set low_memory=False.\n",
      " 73%|█████████████████████████████▊           | 69/95 [1:06:20<17:46, 41.04s/it]<timed exec>:4: DtypeWarning: Columns (5) have mixed types. Specify dtype option on import or set low_memory=False.\n",
      " 74%|██████████████████████████████▏          | 70/95 [1:06:47<15:19, 36.79s/it]<timed exec>:4: DtypeWarning: Columns (4,5) have mixed types. Specify dtype option on import or set low_memory=False.\n",
      " 75%|██████████████████████████████▋          | 71/95 [1:06:51<10:47, 26.98s/it]<timed exec>:4: DtypeWarning: Columns (4,5) have mixed types. Specify dtype option on import or set low_memory=False.\n",
      " 76%|███████████████████████████████          | 72/95 [1:06:57<07:54, 20.63s/it]<timed exec>:4: DtypeWarning: Columns (5) have mixed types. Specify dtype option on import or set low_memory=False.\n",
      " 77%|███████████████████████████████▌         | 73/95 [1:07:08<06:34, 17.93s/it]<timed exec>:4: DtypeWarning: Columns (5) have mixed types. Specify dtype option on import or set low_memory=False.\n",
      " 78%|███████████████████████████████▉         | 74/95 [1:07:23<05:58, 17.05s/it]<timed exec>:4: DtypeWarning: Columns (5) have mixed types. Specify dtype option on import or set low_memory=False.\n",
      " 79%|████████████████████████████████▎        | 75/95 [1:07:28<04:24, 13.22s/it]<timed exec>:4: DtypeWarning: Columns (4,5,6) have mixed types. Specify dtype option on import or set low_memory=False.\n",
      " 81%|█████████████████████████████████▏       | 77/95 [1:07:53<03:54, 13.04s/it]<timed exec>:4: DtypeWarning: Columns (0,1,2,3,4,5,6) have mixed types. Specify dtype option on import or set low_memory=False.\n",
      " 83%|██████████████████████████████████       | 79/95 [1:08:25<03:52, 14.54s/it]<timed exec>:4: DtypeWarning: Columns (0,1,2,3,4,5,6) have mixed types. Specify dtype option on import or set low_memory=False.\n",
      " 84%|██████████████████████████████████▌      | 80/95 [1:08:36<03:24, 13.65s/it]<timed exec>:4: DtypeWarning: Columns (0,1,2,3,4,5,6) have mixed types. Specify dtype option on import or set low_memory=False.\n",
      " 85%|██████████████████████████████████▉      | 81/95 [1:08:44<02:45, 11.85s/it]<timed exec>:4: DtypeWarning: Columns (5) have mixed types. Specify dtype option on import or set low_memory=False.\n",
      " 86%|███████████████████████████████████▍     | 82/95 [1:09:15<03:49, 17.66s/it]<timed exec>:4: DtypeWarning: Columns (5) have mixed types. Specify dtype option on import or set low_memory=False.\n"
     ]
    },
    {
     "name": "stderr",
     "output_type": "stream",
     "text": [
      " 87%|███████████████████████████████████▊     | 83/95 [1:10:09<05:41, 28.49s/it]<timed exec>:4: DtypeWarning: Columns (4) have mixed types. Specify dtype option on import or set low_memory=False.\n",
      " 88%|████████████████████████████████████▎    | 84/95 [1:10:19<04:13, 23.05s/it]<timed exec>:4: DtypeWarning: Columns (0,1,2,3,4,5,6) have mixed types. Specify dtype option on import or set low_memory=False.\n",
      " 92%|█████████████████████████████████████▌   | 87/95 [1:10:41<01:39, 12.40s/it]<timed exec>:4: DtypeWarning: Columns (4,5) have mixed types. Specify dtype option on import or set low_memory=False.\n",
      " 93%|█████████████████████████████████████▉   | 88/95 [1:10:57<01:34, 13.54s/it]<timed exec>:4: DtypeWarning: Columns (5) have mixed types. Specify dtype option on import or set low_memory=False.\n",
      " 94%|██████████████████████████████████████▍  | 89/95 [1:11:44<02:22, 23.69s/it]<timed exec>:4: DtypeWarning: Columns (5) have mixed types. Specify dtype option on import or set low_memory=False.\n",
      " 95%|██████████████████████████████████████▊  | 90/95 [1:12:35<02:39, 31.92s/it]<timed exec>:4: DtypeWarning: Columns (0,1,2,3,5,6) have mixed types. Specify dtype option on import or set low_memory=False.\n",
      " 98%|████████████████████████████████████████▏| 93/95 [1:19:44<02:32, 76.42s/it]<timed exec>:4: DtypeWarning: Columns (5) have mixed types. Specify dtype option on import or set low_memory=False.\n",
      " 99%|████████████████████████████████████████▌| 94/95 [1:20:09<01:01, 61.06s/it]<timed exec>:4: DtypeWarning: Columns (5) have mixed types. Specify dtype option on import or set low_memory=False.\n",
      "100%|█████████████████████████████████████████| 95/95 [1:20:23<00:00, 50.78s/it]"
     ]
    },
    {
     "name": "stdout",
     "output_type": "stream",
     "text": [
      "CPU times: user 4min 7s, sys: 3min 35s, total: 7min 43s\n",
      "Wall time: 1h 20min 23s\n"
     ]
    },
    {
     "name": "stderr",
     "output_type": "stream",
     "text": [
      "\n"
     ]
    }
   ],
   "source": [
    "%%time\n",
    "\n",
    "data_list = []\n",
    "for row_index in tqdm(range(data_in_csv_format.shape[0])):\n",
    "    data_dict = data_in_csv_format.iloc[row_index].to_dict()\n",
    "    data_downloaded = pd.read_csv(data_in_csv_format.iloc[row_index].url)\n",
    "    data_package = {\n",
    "        'metadata' : data_dict,\n",
    "        'data' : data_downloaded\n",
    "    }\n",
    "    data_list.append(data_package)\n"
   ]
  },
  {
   "cell_type": "code",
   "execution_count": 34,
   "id": "23209874",
   "metadata": {},
   "outputs": [
    {
     "name": "stdout",
     "output_type": "stream",
     "text": [
      "CPU times: user 3.74 s, sys: 10.3 s, total: 14.1 s\n",
      "Wall time: 55.7 s\n"
     ]
    }
   ],
   "source": [
    "%%time\n",
    "\n",
    "import pickle\n",
    "\n",
    "\n",
    "\n",
    "with open(DATA_SAVE_PATH, 'wb') as f:\n",
    "    pickle.dump(data_list, f)\n",
    "    "
   ]
  },
  {
   "cell_type": "code",
   "execution_count": null,
   "id": "318c3d39",
   "metadata": {},
   "outputs": [],
   "source": []
  }
 ],
 "metadata": {
  "kernelspec": {
   "display_name": "Python 3 (ipykernel)",
   "language": "python",
   "name": "python3"
  },
  "language_info": {
   "codemirror_mode": {
    "name": "ipython",
    "version": 3
   },
   "file_extension": ".py",
   "mimetype": "text/x-python",
   "name": "python",
   "nbconvert_exporter": "python",
   "pygments_lexer": "ipython3",
   "version": "3.10.9"
  }
 },
 "nbformat": 4,
 "nbformat_minor": 5
}
